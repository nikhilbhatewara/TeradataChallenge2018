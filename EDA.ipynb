{
  "nbformat": 4,
  "nbformat_minor": 0,
  "metadata": {
    "colab": {
      "name": "Working book.ipynb",
      "version": "0.3.2",
      "provenance": [],
      "collapsed_sections": [
        "0vZ635a-gizy",
        "T_7gxF7LiR9i",
        "NWouvqd3QBow",
        "AdAgcNVadUGd"
      ],
      "include_colab_link": true
    },
    "kernelspec": {
      "name": "python3",
      "display_name": "Python 3"
    },
    "accelerator": "GPU"
  },
  "cells": [
    {
      "cell_type": "markdown",
      "metadata": {
        "id": "view-in-github",
        "colab_type": "text"
      },
      "source": [
        "[View in Colaboratory](https://colab.research.google.com/github/nikhilbhatewara/TeradataChallenge2018/blob/master/EDA.ipynb)"
      ]
    },
    {
      "metadata": {
        "id": "tMmmKzunGGP2",
        "colab_type": "text"
      },
      "cell_type": "markdown",
      "source": [
        "#Setup Commands"
      ]
    },
    {
      "metadata": {
        "id": "h2pU0Zx88Kor",
        "colab_type": "code",
        "colab": {}
      },
      "cell_type": "code",
      "source": [
        "#!kill -9 -1"
      ],
      "execution_count": 0,
      "outputs": []
    },
    {
      "metadata": {
        "id": "-wQXzVYva4Y4",
        "colab_type": "code",
        "colab": {
          "base_uri": "https://localhost:8080/",
          "height": 462
        },
        "outputId": "c5d42c4c-3422-4461-d271-19af300a7a5e"
      },
      "cell_type": "code",
      "source": [
        "%%time\n",
        "import pandas as pd\n",
        "import numpy as np\n",
        "import os\n",
        "import scipy.stats as sts\n",
        "!pip install xlrd\n",
        "import io\n",
        "!pip install mlxtend\n",
        "# for Box-Cox Transformation\n",
        "# for min_max scaling\n",
        "from mlxtend.preprocessing import minmax_scaling\n",
        "# plotting modules\n",
        "import seaborn as sns\n",
        "import matplotlib.pyplot as plt"
      ],
      "execution_count": 1,
      "outputs": [
        {
          "output_type": "stream",
          "text": [
            "Looking in indexes: https://pypi.org/simple, https://legacy.pypi.org/simple\n",
            "Collecting xlrd\n",
            "\u001b[?25l  Downloading https://files.pythonhosted.org/packages/07/e6/e95c4eec6221bfd8528bcc4ea252a850bffcc4be88ebc367e23a1a84b0bb/xlrd-1.1.0-py2.py3-none-any.whl (108kB)\n",
            "\u001b[K    100% |████████████████████████████████| 112kB 2.7MB/s \n",
            "\u001b[?25hInstalling collected packages: xlrd\n",
            "Successfully installed xlrd-1.1.0\n",
            "Looking in indexes: https://pypi.org/simple, https://legacy.pypi.org/simple\n",
            "Collecting mlxtend\n",
            "\u001b[?25l  Downloading https://files.pythonhosted.org/packages/b5/40/daab57161effb451cc2990a9cebe4da68c2a8038e7a5b8d0bc24cccf9da6/mlxtend-0.12.0-py2.py3-none-any.whl (1.3MB)\n",
            "\u001b[K    100% |████████████████████████████████| 1.3MB 6.4MB/s \n",
            "\u001b[?25hRequirement already satisfied: setuptools in /usr/local/lib/python3.6/dist-packages (from mlxtend) (39.0.1)\n",
            "Requirement already satisfied: numpy>=1.10.4 in /usr/local/lib/python3.6/dist-packages (from mlxtend) (1.14.2)\n",
            "Requirement already satisfied: pandas>=0.17.1 in /usr/local/lib/python3.6/dist-packages (from mlxtend) (0.22.0)\n",
            "Requirement already satisfied: scikit-learn>=0.18 in /usr/local/lib/python3.6/dist-packages (from mlxtend) (0.19.1)\n",
            "Requirement already satisfied: matplotlib>=1.5.1 in /usr/local/lib/python3.6/dist-packages (from mlxtend) (2.1.2)\n",
            "Requirement already satisfied: scipy>=0.17 in /usr/local/lib/python3.6/dist-packages (from mlxtend) (0.19.1)\n",
            "Requirement already satisfied: pytz>=2011k in /usr/local/lib/python3.6/dist-packages (from pandas>=0.17.1->mlxtend) (2018.4)\n",
            "Requirement already satisfied: python-dateutil>=2 in /usr/local/lib/python3.6/dist-packages (from pandas>=0.17.1->mlxtend) (2.5.3)\n",
            "Requirement already satisfied: cycler>=0.10 in /usr/local/lib/python3.6/dist-packages (from matplotlib>=1.5.1->mlxtend) (0.10.0)\n",
            "Requirement already satisfied: six>=1.10 in /usr/local/lib/python3.6/dist-packages (from matplotlib>=1.5.1->mlxtend) (1.11.0)\n",
            "Requirement already satisfied: pyparsing!=2.0.4,!=2.1.2,!=2.1.6,>=2.0.1 in /usr/local/lib/python3.6/dist-packages (from matplotlib>=1.5.1->mlxtend) (2.2.0)\n",
            "Installing collected packages: mlxtend\n",
            "Successfully installed mlxtend-0.12.0\n",
            "CPU times: user 103 ms, sys: 57 ms, total: 160 ms\n",
            "Wall time: 5.47 s\n"
          ],
          "name": "stdout"
        }
      ]
    },
    {
      "metadata": {
        "id": "3MNZjakgnbdp",
        "colab_type": "code",
        "colab": {}
      },
      "cell_type": "code",
      "source": [
        "from sklearn.model_selection import train_test_split\n",
        "from sklearn.metrics import mean_absolute_error\n",
        "from sklearn import linear_model\n",
        "from sklearn.preprocessing import PolynomialFeatures\n",
        "from sklearn.ensemble import RandomForestRegressor,GradientBoostingRegressor\n",
        "from xgboost import XGBRegressor\n",
        "from sklearn.pipeline import make_pipeline\n",
        "from sklearn.model_selection import cross_val_score\n",
        "from sklearn.linear_model import LassoLarsCV"
      ],
      "execution_count": 0,
      "outputs": []
    },
    {
      "metadata": {
        "id": "i6bVQ317bNNJ",
        "colab_type": "code",
        "colab": {
          "base_uri": "https://localhost:8080/",
          "height": 2278
        },
        "outputId": "25dbf5d2-e666-4366-8cf7-0c80e48f2206"
      },
      "cell_type": "code",
      "source": [
        "# Install a Drive FUSE wrapper.\n",
        "# https://github.com/astrada/google-drive-ocamlfuse\n",
        "!apt-get install -y -qq software-properties-common python-software-properties module-init-tools\n",
        "!add-apt-repository -y ppa:alessandro-strada/ppa 2>&1 > /dev/null\n",
        "!apt-get update -qq 2>&1 > /dev/null\n",
        "!apt-get -y install -qq google-drive-ocamlfuse fuse"
      ],
      "execution_count": 2,
      "outputs": [
        {
          "output_type": "stream",
          "text": [
            "Preconfiguring packages ...\n",
            "Selecting previously unselected package cron.\n",
            "(Reading database ... 18298 files and directories currently installed.)\n",
            "Preparing to unpack .../00-cron_3.0pl1-128ubuntu5_amd64.deb ...\n",
            "Unpacking cron (3.0pl1-128ubuntu5) ...\n",
            "Selecting previously unselected package libapparmor1:amd64.\n",
            "Preparing to unpack .../01-libapparmor1_2.11.0-2ubuntu17.1_amd64.deb ...\n",
            "Unpacking libapparmor1:amd64 (2.11.0-2ubuntu17.1) ...\n",
            "Selecting previously unselected package libdbus-1-3:amd64.\n",
            "Preparing to unpack .../02-libdbus-1-3_1.10.22-1ubuntu1_amd64.deb ...\n",
            "Unpacking libdbus-1-3:amd64 (1.10.22-1ubuntu1) ...\n",
            "Selecting previously unselected package dbus.\n",
            "Preparing to unpack .../03-dbus_1.10.22-1ubuntu1_amd64.deb ...\n",
            "Unpacking dbus (1.10.22-1ubuntu1) ...\n",
            "Selecting previously unselected package dirmngr.\n",
            "Preparing to unpack .../04-dirmngr_2.1.15-1ubuntu8_amd64.deb ...\n",
            "Unpacking dirmngr (2.1.15-1ubuntu8) ...\n",
            "Selecting previously unselected package distro-info-data.\n",
            "Preparing to unpack .../05-distro-info-data_0.36ubuntu0.1_all.deb ...\n",
            "Unpacking distro-info-data (0.36ubuntu0.1) ...\n",
            "Selecting previously unselected package libkmod2:amd64.\n",
            "Preparing to unpack .../06-libkmod2_24-1ubuntu2_amd64.deb ...\n",
            "Unpacking libkmod2:amd64 (24-1ubuntu2) ...\n",
            "Selecting previously unselected package kmod.\n",
            "Preparing to unpack .../07-kmod_24-1ubuntu2_amd64.deb ...\n",
            "Unpacking kmod (24-1ubuntu2) ...\n",
            "Selecting previously unselected package lsb-release.\n",
            "Preparing to unpack .../08-lsb-release_9.20160110ubuntu5_all.deb ...\n",
            "Unpacking lsb-release (9.20160110ubuntu5) ...\n",
            "Selecting previously unselected package libgirepository-1.0-1:amd64.\n",
            "Preparing to unpack .../09-libgirepository-1.0-1_1.54.1-1_amd64.deb ...\n",
            "Unpacking libgirepository-1.0-1:amd64 (1.54.1-1) ...\n",
            "Selecting previously unselected package gir1.2-glib-2.0:amd64.\n",
            "Preparing to unpack .../10-gir1.2-glib-2.0_1.54.1-1_amd64.deb ...\n",
            "Unpacking gir1.2-glib-2.0:amd64 (1.54.1-1) ...\n",
            "Selecting previously unselected package iso-codes.\n",
            "Preparing to unpack .../11-iso-codes_3.75-1_all.deb ...\n",
            "Unpacking iso-codes (3.75-1) ...\n",
            "Selecting previously unselected package libdbus-glib-1-2:amd64.\n",
            "Preparing to unpack .../12-libdbus-glib-1-2_0.108-2_amd64.deb ...\n",
            "Unpacking libdbus-glib-1-2:amd64 (0.108-2) ...\n",
            "Selecting previously unselected package python-apt-common.\n",
            "Preparing to unpack .../13-python-apt-common_1.4.0~beta3build2_all.deb ...\n",
            "Unpacking python-apt-common (1.4.0~beta3build2) ...\n",
            "Selecting previously unselected package python3-apt.\n",
            "Preparing to unpack .../14-python3-apt_1.4.0~beta3build2_amd64.deb ...\n",
            "Unpacking python3-apt (1.4.0~beta3build2) ...\n",
            "Selecting previously unselected package python3-dbus.\n",
            "Preparing to unpack .../15-python3-dbus_1.2.4-1build3_amd64.deb ...\n",
            "Unpacking python3-dbus (1.2.4-1build3) ...\n",
            "Selecting previously unselected package python3-gi.\n",
            "Preparing to unpack .../16-python3-gi_3.24.1-2build1_amd64.deb ...\n",
            "Unpacking python3-gi (3.24.1-2build1) ...\n",
            "Selecting previously unselected package module-init-tools.\n",
            "Preparing to unpack .../17-module-init-tools_24-1ubuntu2_all.deb ...\n",
            "Unpacking module-init-tools (24-1ubuntu2) ...\n",
            "Selecting previously unselected package python-apt.\n",
            "Preparing to unpack .../18-python-apt_1.4.0~beta3build2_amd64.deb ...\n",
            "Unpacking python-apt (1.4.0~beta3build2) ...\n",
            "Selecting previously unselected package python-pycurl.\n",
            "Preparing to unpack .../19-python-pycurl_7.43.0-2build2_amd64.deb ...\n",
            "Unpacking python-pycurl (7.43.0-2build2) ...\n",
            "Selecting previously unselected package python-software-properties.\n",
            "Preparing to unpack .../20-python-software-properties_0.96.24.17_all.deb ...\n",
            "Unpacking python-software-properties (0.96.24.17) ...\n",
            "Selecting previously unselected package python3-software-properties.\n",
            "Preparing to unpack .../21-python3-software-properties_0.96.24.17_all.deb ...\n",
            "Unpacking python3-software-properties (0.96.24.17) ...\n",
            "Selecting previously unselected package software-properties-common.\n",
            "Preparing to unpack .../22-software-properties-common_0.96.24.17_all.deb ...\n",
            "Unpacking software-properties-common (0.96.24.17) ...\n",
            "Selecting previously unselected package unattended-upgrades.\n",
            "Preparing to unpack .../23-unattended-upgrades_0.98ubuntu1.1_all.deb ...\n",
            "Unpacking unattended-upgrades (0.98ubuntu1.1) ...\n",
            "Setting up python-apt-common (1.4.0~beta3build2) ...\n",
            "Setting up python3-apt (1.4.0~beta3build2) ...\n",
            "Setting up iso-codes (3.75-1) ...\n",
            "Setting up distro-info-data (0.36ubuntu0.1) ...\n",
            "Setting up python-pycurl (7.43.0-2build2) ...\n",
            "Setting up lsb-release (9.20160110ubuntu5) ...\n",
            "Setting up libgirepository-1.0-1:amd64 (1.54.1-1) ...\n",
            "Setting up libkmod2:amd64 (24-1ubuntu2) ...\n",
            "Setting up gir1.2-glib-2.0:amd64 (1.54.1-1) ...\n",
            "Processing triggers for libc-bin (2.26-0ubuntu2.1) ...\n",
            "Setting up libapparmor1:amd64 (2.11.0-2ubuntu17.1) ...\n",
            "Setting up unattended-upgrades (0.98ubuntu1.1) ...\n"
          ],
          "name": "stdout"
        },
        {
          "output_type": "stream",
          "text": [
            "\r\n",
            "Creating config file /etc/apt/apt.conf.d/20auto-upgrades with new version\n",
            "\n",
            "Creating config file /etc/apt/apt.conf.d/50unattended-upgrades with new version\n",
            "invoke-rc.d: could not determine current runlevel\n",
            "invoke-rc.d: policy-rc.d denied execution of start.\n",
            "Setting up dirmngr (2.1.15-1ubuntu8) ...\n",
            "Setting up cron (3.0pl1-128ubuntu5) ...\n",
            "Adding group `crontab' (GID 102) ...\n",
            "Done.\n",
            "update-rc.d: warning: start and stop actions are no longer supported; falling back to defaults\n",
            "update-rc.d: warning: stop runlevel arguments (1) do not match cron Default-Stop values (none)\n",
            "invoke-rc.d: could not determine current runlevel\n",
            "invoke-rc.d: policy-rc.d denied execution of start.\n",
            "Setting up libdbus-1-3:amd64 (1.10.22-1ubuntu1) ...\n",
            "Setting up kmod (24-1ubuntu2) ...\n",
            "Setting up libdbus-glib-1-2:amd64 (0.108-2) ...\n",
            "Setting up python3-gi (3.24.1-2build1) ...\n",
            "Setting up module-init-tools (24-1ubuntu2) ...\n",
            "Setting up python3-software-properties (0.96.24.17) ...\n",
            "Setting up dbus (1.10.22-1ubuntu1) ...\n",
            "Setting up python-apt (1.4.0~beta3build2) ...\n",
            "Setting up python3-dbus (1.2.4-1build3) ...\n",
            "Setting up python-software-properties (0.96.24.17) ...\n",
            "Setting up software-properties-common (0.96.24.17) ...\n",
            "Processing triggers for libc-bin (2.26-0ubuntu2.1) ...\n",
            "Processing triggers for dbus (1.10.22-1ubuntu1) ...\n",
            "gpg: keybox '/tmp/tmpe53_gn5g/pubring.gpg' created\n",
            "gpg: /tmp/tmpe53_gn5g/trustdb.gpg: trustdb created\n",
            "gpg: key AD5F235DF639B041: public key \"Launchpad PPA for Alessandro Strada\" imported\n",
            "gpg: Total number processed: 1\n",
            "gpg:               imported: 1\n",
            "Warning: apt-key output should not be parsed (stdout is not a terminal)\n",
            "Selecting previously unselected package libfuse2:amd64.\n",
            "(Reading database ... 19706 files and directories currently installed.)\n",
            "Preparing to unpack .../libfuse2_2.9.7-1ubuntu1_amd64.deb ...\n",
            "Unpacking libfuse2:amd64 (2.9.7-1ubuntu1) ...\n",
            "Selecting previously unselected package fuse.\n",
            "Preparing to unpack .../fuse_2.9.7-1ubuntu1_amd64.deb ...\n",
            "Unpacking fuse (2.9.7-1ubuntu1) ...\n",
            "Selecting previously unselected package google-drive-ocamlfuse.\n",
            "Preparing to unpack .../google-drive-ocamlfuse_0.6.21-0ubuntu2_amd64.deb ...\n",
            "Unpacking google-drive-ocamlfuse (0.6.21-0ubuntu2) ...\n",
            "Setting up libfuse2:amd64 (2.9.7-1ubuntu1) ...\n",
            "Processing triggers for libc-bin (2.26-0ubuntu2.1) ...\n",
            "Setting up fuse (2.9.7-1ubuntu1) ...\n",
            "Setting up google-drive-ocamlfuse (0.6.21-0ubuntu2) ...\n"
          ],
          "name": "stdout"
        }
      ]
    },
    {
      "metadata": {
        "id": "NDWX415ibWmW",
        "colab_type": "code",
        "colab": {}
      },
      "cell_type": "code",
      "source": [
        "# Generate auth tokens for Colab\n",
        "from google.colab import auth\n",
        "auth.authenticate_user()"
      ],
      "execution_count": 0,
      "outputs": []
    },
    {
      "metadata": {
        "id": "Rj3Z2hyudqoh",
        "colab_type": "code",
        "colab": {
          "base_uri": "https://localhost:8080/",
          "height": 105
        },
        "outputId": "d7ecc527-d76c-4cdd-af1b-1a8d1aa50f59"
      },
      "cell_type": "code",
      "source": [
        "from oauth2client.client import GoogleCredentials\n",
        "creds = GoogleCredentials.get_application_default()\n",
        "import getpass\n",
        "!google-drive-ocamlfuse -headless -id={creds.client_id} -secret={creds.client_secret} < /dev/null 2>&1 | grep URL\n",
        "vcode = getpass.getpass()\n",
        "!echo {vcode} | google-drive-ocamlfuse -headless -id={creds.client_id} -secret={creds.client_secret}"
      ],
      "execution_count": 4,
      "outputs": [
        {
          "output_type": "stream",
          "text": [
            "Please, open the following URL in a web browser: https://accounts.google.com/o/oauth2/auth?client_id=32555940559.apps.googleusercontent.com&redirect_uri=urn%3Aietf%3Awg%3Aoauth%3A2.0%3Aoob&scope=https%3A%2F%2Fwww.googleapis.com%2Fauth%2Fdrive&response_type=code&access_type=offline&approval_prompt=force\r\n",
            "··········\n",
            "Please, open the following URL in a web browser: https://accounts.google.com/o/oauth2/auth?client_id=32555940559.apps.googleusercontent.com&redirect_uri=urn%3Aietf%3Awg%3Aoauth%3A2.0%3Aoob&scope=https%3A%2F%2Fwww.googleapis.com%2Fauth%2Fdrive&response_type=code&access_type=offline&approval_prompt=force\n",
            "Please enter the verification code: Access token retrieved correctly.\n"
          ],
          "name": "stdout"
        }
      ]
    },
    {
      "metadata": {
        "id": "yZAG2PNkbbHq",
        "colab_type": "code",
        "colab": {
          "base_uri": "https://localhost:8080/",
          "height": 221
        },
        "outputId": "8fcf7db3-94db-43f4-f563-40ee87e27d2d"
      },
      "cell_type": "code",
      "source": [
        "# Create a directory and mount Google Drive using that directory.\n",
        "!mkdir -p drive\n",
        "!google-drive-ocamlfuse drive\n",
        "\n",
        "print ('Files in my project folder:')\n",
        "!ls drive/OSURPYTHON/teradata\n",
        "\n",
        "# Create a file in Drive.\n",
        "!echo \"This newly created file will appear in your Drive file list.\" > drive/OSURPYTHON/teradata/created.txt"
      ],
      "execution_count": 5,
      "outputs": [
        {
          "output_type": "stream",
          "text": [
            "Files in my project folder:\n",
            "2013-2017 Bike Events.csv\t       COPY OF NTA.xlsx\n",
            "2013-2017 Bike MS Participants.csv     created.txt\n",
            "2013-2017 National Team Activity.xlsx  donationsbike2013_clean.csv\n",
            "2013 Bike Donations.csv\t\t       donationsbike2014_clean.csv\n",
            "2014 Bike Donations.csv\t\t       donationsbike2015_clean.csv\n",
            "2015 Bike Donations.csv\t\t       donationsbike2016_clean.csv\n",
            "2016 Bike Donations.csv\t\t       donationsbike2017_clean.csv\n",
            "2017 Bike Donations.csv\t\t       eventsbike_clean.csv\n",
            "affiliatecodes_clean.csv\t       ntactivity_clean.csv\n",
            "Affiliate_Codes.xlsx\t\t       participantbike_clean.csv\n",
            "BikeTeams.csv\t\t\t       Working book.ipynb\n"
          ],
          "name": "stdout"
        }
      ]
    },
    {
      "metadata": {
        "id": "bzxMmFsaWxfg",
        "colab_type": "text"
      },
      "cell_type": "markdown",
      "source": [
        "Using pydrive to upload data in gdrive"
      ]
    },
    {
      "metadata": {
        "id": "hq_K5QjPW0V-",
        "colab_type": "code",
        "colab": {}
      },
      "cell_type": "code",
      "source": [
        "# Install the PyDrive wrapper & import libraries.\n",
        "# This only needs to be done once in a notebook.\n",
        "!pip install -U -q PyDrive\n",
        "from pydrive.auth import GoogleAuth\n",
        "from pydrive.drive import GoogleDrive\n",
        "from google.colab import auth\n",
        "from oauth2client.client import GoogleCredentials\n",
        "\n",
        "# Authenticate and create the PyDrive client.\n",
        "# This only needs to be done once in a notebook.\n",
        "auth.authenticate_user()\n",
        "gauth = GoogleAuth()\n",
        "gauth.credentials = GoogleCredentials.get_application_default()\n",
        "drive = GoogleDrive(gauth)\n",
        "\n"
      ],
      "execution_count": 0,
      "outputs": []
    },
    {
      "metadata": {
        "id": "GIES62WnGUc1",
        "colab_type": "text"
      },
      "cell_type": "markdown",
      "source": [
        "#Importing Files"
      ]
    },
    {
      "metadata": {
        "id": "73upZgFCbkqv",
        "colab_type": "code",
        "colab": {
          "base_uri": "https://localhost:8080/",
          "height": 51
        },
        "outputId": "154d713c-5e49-445a-e8e8-2c5ec8ea5b12"
      },
      "cell_type": "code",
      "source": [
        "%%time\n",
        "eventsbike = pd.read_csv(\"drive/OSURPYTHON/teradata/2013-2017 Bike Events.csv\",engine=\"python\")\n",
        "teamsbike = pd.read_csv(\"drive/OSURPYTHON/teradata/BikeTeams.csv\",engine=\"python\")\n",
        "participantbike = pd.read_csv(\"drive/OSURPYTHON/teradata/2013-2017 Bike MS Participants.csv\",engine=\"python\")\n",
        "donationsbike2017 = pd.read_csv(\"drive/OSURPYTHON/teradata/2017 Bike Donations.csv\",engine=\"python\")\n",
        "donationsbike2016 = pd.read_csv(\"drive/OSURPYTHON/teradata/2016 Bike Donations.csv\",engine=\"python\")\n",
        "donationsbike2015 = pd.read_csv(\"drive/OSURPYTHON/teradata/2015 Bike Donations.csv\",engine=\"python\")\n",
        "donationsbike2014 = pd.read_csv(\"drive/OSURPYTHON/teradata/2014 Bike Donations.csv\",engine=\"python\")\n",
        "donationsbike2013 = pd.read_csv(\"drive/OSURPYTHON/teradata/2013 Bike Donations.csv\",engine=\"python\")\n",
        "affiliatecodes= pd.read_excel(\"drive/OSURPYTHON/teradata/Affiliate_Codes.xlsx\")\n",
        "ntactivity =  pd.read_excel(\"drive/OSURPYTHON/teradata/COPY OF NTA.xlsx\")\n"
      ],
      "execution_count": 8,
      "outputs": [
        {
          "output_type": "stream",
          "text": [
            "CPU times: user 618 ms, sys: 41 ms, total: 659 ms\n",
            "Wall time: 1.85 s\n"
          ],
          "name": "stdout"
        }
      ]
    },
    {
      "metadata": {
        "id": "-dyVh5BBT15C",
        "colab_type": "text"
      },
      "cell_type": "markdown",
      "source": [
        "Replace space with underscore to clean the column names"
      ]
    },
    {
      "metadata": {
        "id": "qRv7kooCQkaQ",
        "colab_type": "code",
        "colab": {
          "base_uri": "https://localhost:8080/",
          "height": 51
        },
        "outputId": "db9aa5db-325e-4769-af2d-aa01f0e39da5"
      },
      "cell_type": "code",
      "source": [
        "%%time\n",
        "eventsbike.columns = eventsbike.columns.str.replace('\\s+', '_') \n",
        "teamsbike.columns = teamsbike.columns.str.replace('\\s+', '_') \n",
        "participantbike.columns = participantbike.columns.str.replace('\\s+', '_')  # in case there are multiple white spaces\n",
        "donationsbike2017.columns = donationsbike2017.columns.str.replace('\\s+', '_')  # in case there are multiple white spaces\n",
        "donationsbike2016.columns = donationsbike2016.columns.str.replace('\\s+', '_')  # in case there are multiple white spaces\n",
        "donationsbike2015.columns = donationsbike2015.columns.str.replace('\\s+', '_')  \n",
        "donationsbike2014.columns = donationsbike2014.columns.str.replace('\\s+', '_')  \n",
        "donationsbike2013.columns = donationsbike2013.columns.str.replace('\\s+', '_')\n",
        "affiliatecodes.columns = affiliatecodes.columns.str.replace('\\s+', '_')\n",
        "ntactivity.columns = ntactivity.columns.str.replace('\\s+', '_')\n",
        " "
      ],
      "execution_count": 9,
      "outputs": [
        {
          "output_type": "stream",
          "text": [
            "CPU times: user 0 ns, sys: 0 ns, total: 0 ns\n",
            "Wall time: 648 µs\n"
          ],
          "name": "stdout"
        }
      ]
    },
    {
      "metadata": {
        "id": "D9hTze077QCB",
        "colab_type": "text"
      },
      "cell_type": "markdown",
      "source": [
        "Dummy Date : '01/01/2000 00:00'\n",
        "Dummy Zip: 999999"
      ]
    },
    {
      "metadata": {
        "id": "0vZ635a-gizy",
        "colab_type": "text"
      },
      "cell_type": "markdown",
      "source": [
        "#Data Cleaning for Eventsbike"
      ]
    },
    {
      "metadata": {
        "id": "P4ctdcq2Klx6",
        "colab_type": "code",
        "colab": {}
      },
      "cell_type": "code",
      "source": [
        "eventsbike.isnull().sum().plot(kind='bar')"
      ],
      "execution_count": 0,
      "outputs": []
    },
    {
      "metadata": {
        "id": "zz1WltRqlcY3",
        "colab_type": "code",
        "colab": {}
      },
      "cell_type": "code",
      "source": [
        "eventsbike=eventsbike.dropna(subset = ['Event_Date'])"
      ],
      "execution_count": 0,
      "outputs": []
    },
    {
      "metadata": {
        "id": "mKWpJ9aUbsVz",
        "colab_type": "code",
        "colab": {}
      },
      "cell_type": "code",
      "source": [
        "\n",
        "eventsbike.loc[116,'Street_Address'] = '100 CAMPUS DR'\n",
        "eventsbike.loc[526,'Street_Address'] = '100 CAMPUS DR'\n",
        "eventsbike.loc[35,'Zip_Code']= 93001.0\n",
        "eventsbike.loc[53,'Zip_Code']= 94158.0\n",
        "eventsbike.loc[51,'Zip_Code']= 94158.0\n",
        "eventsbike.loc[38,'Zip_Code']= 89106.0\n",
        "eventsbike.loc[216:217,'Zip_Code']= 70401.0\n",
        "eventsbike.loc[221,'Zip_Code']= 70401.0\n",
        "eventsbike.loc[305,'Zip_Code']= 48451.0\n",
        "eventsbike.loc[297,'Zip_Code']= 49423.0\n",
        "eventsbike.loc[296,'Zip_Code']= 48116.0\n",
        "eventsbike.loc[294,'Zip_Code']= 48734.0\n",
        "eventsbike.loc[380,'Zip_Code']= 28560.0\n",
        "eventsbike.loc[386,'Zip_Code']= 8551.0\n",
        "eventsbike.loc[619,'Zip_Code']= 999999.0\n",
        "eventsbike.loc[542,'Zip_Code']= 16648.0\n",
        "eventsbike.loc[544,'Zip_Code']= 16648.0\n",
        "eventsbike.loc[584,'Zip_Code']= 38671.0\n",
        "eventsbike.loc[567,'Zip_Code']= 37064.0\n",
        "eventsbike.loc[631,'Zip_Code']= 84321.0"
      ],
      "execution_count": 0,
      "outputs": []
    },
    {
      "metadata": {
        "id": "TN2ssf_dlm55",
        "colab_type": "code",
        "colab": {}
      },
      "cell_type": "code",
      "source": [
        "eventsbike['Zip_Code']=eventsbike['Zip_Code'].fillna(999999)"
      ],
      "execution_count": 0,
      "outputs": []
    },
    {
      "metadata": {
        "id": "RhEZG-MelrcX",
        "colab_type": "code",
        "colab": {}
      },
      "cell_type": "code",
      "source": [
        "eventsbike['Event_Created_Date']=eventsbike['Event_Created_Date'].fillna( '01/01/2000 00:00' )"
      ],
      "execution_count": 0,
      "outputs": []
    },
    {
      "metadata": {
        "id": "ltR7_daOl8jf",
        "colab_type": "code",
        "colab": {}
      },
      "cell_type": "code",
      "source": [
        ""
      ],
      "execution_count": 0,
      "outputs": []
    },
    {
      "metadata": {
        "id": "qdxYjG5XcQPh",
        "colab_type": "code",
        "colab": {}
      },
      "cell_type": "code",
      "source": [
        "eventsbike['Security_Category_Name']=eventsbike['Security_Category_Name'].fillna('Unknown')\n",
        "eventsbike['State']=eventsbike['State'].fillna('Unknown')\n",
        "eventsbike['City']=eventsbike['City'].fillna('Unknown')\n",
        "eventsbike['Street_Address']=eventsbike['Street_Address'].fillna('Unknown')"
      ],
      "execution_count": 0,
      "outputs": []
    },
    {
      "metadata": {
        "id": "FDDv--x4c2aP",
        "colab_type": "code",
        "colab": {}
      },
      "cell_type": "code",
      "source": [
        "\n",
        "eventsbike['Security_Category_Name']=eventsbike['Security_Category_Name'].astype('category')\n",
        "eventsbike['Event_Created_Date']=pd.to_datetime(eventsbike['Event_Created_Date'])\n",
        "eventsbike['State']=eventsbike['State'].astype('category')\n",
        "eventsbike['Zip_Code']=eventsbike['Zip_Code'].astype('int')\n",
        "eventsbike['City']=eventsbike['City'].astype('category')\n",
        "eventsbike['Street_Address']=eventsbike['Street_Address'].astype('category')\n",
        "\n"
      ],
      "execution_count": 0,
      "outputs": []
    },
    {
      "metadata": {
        "id": "WpcgedPFdC2n",
        "colab_type": "code",
        "colab": {
          "base_uri": "https://localhost:8080/",
          "height": 578
        },
        "outputId": "55b780e7-d46b-4abc-9145-978bdaffcb4c"
      },
      "cell_type": "code",
      "source": [
        "eventsbike.dtypes"
      ],
      "execution_count": 112,
      "outputs": [
        {
          "output_type": "execute_result",
          "data": {
            "text/plain": [
              "Fiscal_Year                                    int64\n",
              "Event_ID                                       int64\n",
              "Security_Category_Name                      category\n",
              "Public_Event_Name                             object\n",
              "Event_Created_Date                    datetime64[ns]\n",
              "Event_Date                                    object\n",
              "Event_Goal($)                                  int64\n",
              "Active_Registrations                           int64\n",
              "Inactive_Registrations                         int64\n",
              "Total_Fees_Paid                              float64\n",
              "Total_of_All_Confirmed_Gifts($)              float64\n",
              "Total_Online_Gifts($)                        float64\n",
              "Teams                                          int64\n",
              "Captains                                       int64\n",
              "Average_Team_Size                              int64\n",
              "Team_pages_with_custom_URL                     int64\n",
              "Emails_Sent                                    int64\n",
              "Personal_pages_with_custom_URL                 int64\n",
              "Total_Offline_Confirmed_Gifts($)             float64\n",
              "Self_Donors                                    int64\n",
              "Total_From_Participant($)                    float64\n",
              "Non-self_Donors                                int64\n",
              "Total_Not_From_Participant($)                float64\n",
              "Total_Team_Gifts($)                          float64\n",
              "Total_Event_Gifts($)                         float64\n",
              "Total_Offline_Unconfirmed_Gifts($)           float64\n",
              "Street_Address                              category\n",
              "City                                        category\n",
              "State                                       category\n",
              "Zip_Code                                       int64\n",
              "Internal_Event_Name                           object\n",
              "Previous_Event_ID                              int64\n",
              "dtype: object"
            ]
          },
          "metadata": {
            "tags": []
          },
          "execution_count": 112
        }
      ]
    },
    {
      "metadata": {
        "id": "I6z6TiWhlOMt",
        "colab_type": "text"
      },
      "cell_type": "markdown",
      "source": [
        "**From FAQs**\n",
        "Question 9a: We found that some of the events do not have event dates. What does this imply? Or just error in recording the data?\n",
        "\n",
        "You would only find missing event dates in test events. Test events were created to test various functions and updates. Unfortunately, they are left in the system after being created\n"
      ]
    },
    {
      "metadata": {
        "id": "XT2qQAN7cz2C",
        "colab_type": "code",
        "colab": {}
      },
      "cell_type": "code",
      "source": [
        "eventsbike['Public_Event_Name']=eventsbike['Public_Event_Name'].astype('category')\n"
      ],
      "execution_count": 0,
      "outputs": []
    },
    {
      "metadata": {
        "id": "rNTl4aqYmw6a",
        "colab_type": "code",
        "colab": {}
      },
      "cell_type": "code",
      "source": [
        "eventsbike['Internal_Event_Name']=eventsbike['Internal_Event_Name'].astype('category')"
      ],
      "execution_count": 0,
      "outputs": []
    },
    {
      "metadata": {
        "id": "jCNqK4PIdCnK",
        "colab_type": "code",
        "colab": {}
      },
      "cell_type": "code",
      "source": [
        ""
      ],
      "execution_count": 0,
      "outputs": []
    },
    {
      "metadata": {
        "id": "nI8fdV_pkX3n",
        "colab_type": "code",
        "colab": {}
      },
      "cell_type": "code",
      "source": [
        "from google.colab import files\n",
        "\n",
        "eventsbike.to_csv('eventsbike_clean.csv')"
      ],
      "execution_count": 0,
      "outputs": []
    },
    {
      "metadata": {
        "id": "z3Ok_AJek3wv",
        "colab_type": "code",
        "colab": {
          "base_uri": "https://localhost:8080/",
          "height": 34
        },
        "outputId": "8923d9ce-3f6d-4e3f-c19c-c45b77a9d029"
      },
      "cell_type": "code",
      "source": [
        "# Create & upload a file.\n",
        "uploaded = drive.CreateFile({'title': 'eventsbike_clean.csv'})\n",
        "uploaded.SetContentFile('eventsbike_clean.csv')\n",
        "uploaded.Upload()\n",
        "print('Uploaded file with ID {}'.format(uploaded.get('id')))"
      ],
      "execution_count": 126,
      "outputs": [
        {
          "output_type": "stream",
          "text": [
            "Uploaded file with ID 1-BoY_cqSE3hhuxftgHwRG9nkxFNW607L\n"
          ],
          "name": "stdout"
        }
      ]
    },
    {
      "metadata": {
        "id": "vUuqZJ9gtzJA",
        "colab_type": "text"
      },
      "cell_type": "markdown",
      "source": [
        "#Data Cleaning for teamsbike"
      ]
    },
    {
      "metadata": {
        "id": "YEqhQeWffJtD",
        "colab_type": "code",
        "colab": {}
      },
      "cell_type": "code",
      "source": [
        "teamsbike.isnull().sum().plot(kind='bar')\n"
      ],
      "execution_count": 0,
      "outputs": []
    },
    {
      "metadata": {
        "id": "Y6R2ThHFnFbf",
        "colab_type": "code",
        "colab": {}
      },
      "cell_type": "code",
      "source": [
        "teamsbike=teamsbike.dropna(subset = ['Event_Date'])"
      ],
      "execution_count": 0,
      "outputs": []
    },
    {
      "metadata": {
        "id": "kSn_Ss9mn3wJ",
        "colab_type": "code",
        "colab": {}
      },
      "cell_type": "code",
      "source": [
        "teamsbike.isnull().sum().plot(kind='bar')"
      ],
      "execution_count": 0,
      "outputs": []
    },
    {
      "metadata": {
        "id": "k_k44R6mhcqf",
        "colab_type": "text"
      },
      "cell_type": "markdown",
      "source": [
        "unknown years have been replaced as 0000"
      ]
    },
    {
      "metadata": {
        "id": "t71F6H2Vo5Cf",
        "colab_type": "text"
      },
      "cell_type": "markdown",
      "source": [
        "These 2 events do not have fiscal year but it can be imputed from the event date"
      ]
    },
    {
      "metadata": {
        "id": "1mxSZMqfo4hC",
        "colab_type": "code",
        "colab": {}
      },
      "cell_type": "code",
      "source": [
        "teamsbike.loc[22706,['Fiscal_Year']]=2016\n",
        "teamsbike.loc[29752,['Fiscal_Year']]=2017"
      ],
      "execution_count": 0,
      "outputs": []
    },
    {
      "metadata": {
        "id": "H41jaWo-gxct",
        "colab_type": "code",
        "colab": {}
      },
      "cell_type": "code",
      "source": [
        "teamsbike=teamsbike.fillna({'Team_Captain_Contact_ID':0,'Previous_Event_Fiscal_Year':0000,'Company':'Some LLP','Total_Confirmed_Gifts_in_Team_History($)':0})"
      ],
      "execution_count": 0,
      "outputs": []
    },
    {
      "metadata": {
        "id": "qWyOAjjeqya4",
        "colab_type": "text"
      },
      "cell_type": "markdown",
      "source": [
        "Wrong data, cannot change it so have to delete it"
      ]
    },
    {
      "metadata": {
        "id": "E2JW38JzqgPn",
        "colab_type": "code",
        "colab": {}
      },
      "cell_type": "code",
      "source": [
        "\n",
        "teamsbike=teamsbike.drop(teamsbike.index[29752])"
      ],
      "execution_count": 0,
      "outputs": []
    },
    {
      "metadata": {
        "id": "F-qe_B79rs23",
        "colab_type": "text"
      },
      "cell_type": "markdown",
      "source": [
        "Contact ID has wrong value"
      ]
    },
    {
      "metadata": {
        "id": "uqKc3LXQrmPv",
        "colab_type": "code",
        "colab": {}
      },
      "cell_type": "code",
      "source": [
        "teamsbike.loc[22706,['Team_Captain_Contact_ID']]=13263460"
      ],
      "execution_count": 0,
      "outputs": []
    },
    {
      "metadata": {
        "id": "-cK3JeRunyPd",
        "colab_type": "code",
        "colab": {
          "base_uri": "https://localhost:8080/",
          "height": 476
        },
        "outputId": "65ba4484-412f-442b-b1db-40576077be6c"
      },
      "cell_type": "code",
      "source": [
        "teamsbike.dtypes"
      ],
      "execution_count": 132,
      "outputs": [
        {
          "output_type": "execute_result",
          "data": {
            "text/plain": [
              "Event_Type                                   object\n",
              "Internal_Event_Name                          object\n",
              "Event_ID                                      int64\n",
              "Team_ID                                       int64\n",
              "Team_Name                                    object\n",
              "Team_Creation_Date                           object\n",
              "Team_Captain_Contact_ID                      object\n",
              "Captain_Email_Domain                         object\n",
              "Team_Captain_Accept_Email                    object\n",
              "Team_Division                                object\n",
              "Company                                      object\n",
              "Number_of_Participants                        int64\n",
              "Total_Fees_Paid                             float64\n",
              "Team_Total_Confirmed_($)                     object\n",
              "Total_Online_Gifts($)                       float64\n",
              "Total_Offline_Confirmed_Gifts($)            float64\n",
              "Total_Offline_Unconfirmed_Gifts($)          float64\n",
              "Team_Goal($)                                float64\n",
              "Total_Confirmed_Gifts_in_Team_History($)    float64\n",
              "Previous_Event_Fiscal_Year                  float64\n",
              "Previous_Event_Internal_Name                 object\n",
              "Previous_Event_Team_Name                     object\n",
              "Previous_Event_Confirmed_Gifts($)           float64\n",
              "Previous_Event_Team_Members                  object\n",
              "Event_Date                                   object\n",
              "Fiscal_Year                                 float64\n",
              "dtype: object"
            ]
          },
          "metadata": {
            "tags": []
          },
          "execution_count": 132
        }
      ]
    },
    {
      "metadata": {
        "id": "v5_Q5ruCsGbj",
        "colab_type": "code",
        "colab": {}
      },
      "cell_type": "code",
      "source": [
        "teamsbike=teamsbike.fillna('Unknown')"
      ],
      "execution_count": 0,
      "outputs": []
    },
    {
      "metadata": {
        "id": "dZ6ZjVD-i-zE",
        "colab_type": "code",
        "colab": {}
      },
      "cell_type": "code",
      "source": [
        "teamsbike['Event_Type']=teamsbike['Event_Type'].astype('category')\n",
        "teamsbike['Internal_Event_Name']=teamsbike['Internal_Event_Name'].astype('category')\n",
        "teamsbike['Team_Name']=teamsbike['Team_Name'].astype('category')\n",
        "teamsbike['Captain_Email_Domain']=teamsbike['Captain_Email_Domain'].astype('category')\n",
        "teamsbike['Team_Division']=teamsbike['Team_Division'].astype('category')\n",
        "teamsbike['Company']=teamsbike['Company'].astype('category')\n",
        "teamsbike['Previous_Event_Internal_Name']=teamsbike['Previous_Event_Internal_Name'].astype('category')\n",
        "teamsbike['Previous_Event_Team_Name']=teamsbike['Previous_Event_Team_Name'].astype('category')\n",
        "teamsbike['Previous_Event_Team_Members']=teamsbike['Previous_Event_Team_Members'].astype('category')\n",
        "teamsbike['Event_Date']=pd.to_datetime(teamsbike['Event_Date'],format=\"%m/%d/%Y %H:%M\")\n",
        "teamsbike['Team_Creation_Date']=pd.to_datetime(teamsbike['Team_Creation_Date'],format=\"%m/%d/%Y %H:%M\")\n",
        "teamsbike['Fiscal_Year']=teamsbike['Fiscal_Year'].astype('int')\n",
        "teamsbike['Previous_Event_Fiscal_Year']=teamsbike['Previous_Event_Fiscal_Year'].astype('int')\n",
        "teamsbike['Total_Confirmed_Gifts_in_Team_History($)']=teamsbike['Total_Confirmed_Gifts_in_Team_History($)'].astype('float')\n",
        "teamsbike['Team_Total_Confirmed_($)']=teamsbike['Team_Total_Confirmed_($)'].astype('float')\n",
        "teamsbike['Team_Captain_Contact_ID']=teamsbike['Team_Captain_Contact_ID'].astype('int')\n",
        "teamsbike['Team_Captain_Accept_Email']=teamsbike['Team_Captain_Accept_Email'].astype('category')\n"
      ],
      "execution_count": 0,
      "outputs": []
    },
    {
      "metadata": {
        "id": "IhiO2j3Urxn4",
        "colab_type": "code",
        "colab": {}
      },
      "cell_type": "code",
      "source": [
        "from google.colab import files\n",
        "\n",
        "teamsbike.to_csv('teamsbike_clean.csv')"
      ],
      "execution_count": 0,
      "outputs": []
    },
    {
      "metadata": {
        "id": "3UQ_530lr6qa",
        "colab_type": "code",
        "colab": {
          "base_uri": "https://localhost:8080/",
          "height": 34
        },
        "outputId": "38073f24-2ea2-4361-9363-fb83c7e8e631"
      },
      "cell_type": "code",
      "source": [
        "# Create & upload a file.\n",
        "uploaded = drive.CreateFile({'title': 'teamsbike_clean.csv'})\n",
        "uploaded.SetContentFile('teamsbike_clean.csv')\n",
        "uploaded.Upload()\n",
        "print('Uploaded file with ID {}'.format(uploaded.get('id')))"
      ],
      "execution_count": 18,
      "outputs": [
        {
          "output_type": "stream",
          "text": [
            "Uploaded file with ID 15ZbuyaoIG7YRggsccjp2bybC7Z2BvkHF\n"
          ],
          "name": "stdout"
        }
      ]
    },
    {
      "metadata": {
        "id": "bdE3AzUa-8yq",
        "colab_type": "text"
      },
      "cell_type": "markdown",
      "source": [
        "#Data Cleaning for participantbike"
      ]
    },
    {
      "metadata": {
        "id": "YIwL2l32uFg9",
        "colab_type": "code",
        "colab": {}
      },
      "cell_type": "code",
      "source": [
        "participantbike.isnull().sum().plot(kind='bar')"
      ],
      "execution_count": 0,
      "outputs": []
    },
    {
      "metadata": {
        "id": "IA-4jolPtmBy",
        "colab_type": "code",
        "colab": {}
      },
      "cell_type": "code",
      "source": [
        "participantbike.columns"
      ],
      "execution_count": 0,
      "outputs": []
    },
    {
      "metadata": {
        "id": "AmY4jLnrtd5h",
        "colab_type": "code",
        "colab": {}
      },
      "cell_type": "code",
      "source": [
        "participantbike=participantbike.dropna(subset = ['Event_Date'])"
      ],
      "execution_count": 0,
      "outputs": []
    },
    {
      "metadata": {
        "id": "KKkuQHERutja",
        "colab_type": "code",
        "colab": {}
      },
      "cell_type": "code",
      "source": [
        "participantbike=participantbike.fillna({'Participant_Connection_to_MS':'Other','Participant_Employer':'Some_LLP','Team_ID':'0','Member_ID':'0','Team_Creation_Date':'01/01/2000 00:00'})"
      ],
      "execution_count": 0,
      "outputs": []
    },
    {
      "metadata": {
        "id": "UJpKTIJN-m40",
        "colab_type": "code",
        "colab": {}
      },
      "cell_type": "code",
      "source": [
        "participantbike=participantbike.fillna('Unknown')"
      ],
      "execution_count": 0,
      "outputs": []
    },
    {
      "metadata": {
        "id": "hU6ZjhxSR1SW",
        "colab_type": "text"
      },
      "cell_type": "markdown",
      "source": [
        "Since some member_ID contains \"#_removed\" and it is not known what _removed means, we are dropping this column"
      ]
    },
    {
      "metadata": {
        "id": "_HHfMEiiSCPI",
        "colab_type": "code",
        "colab": {}
      },
      "cell_type": "code",
      "source": [
        "participantbike=participantbike.drop('Member_ID',axis=1)"
      ],
      "execution_count": 0,
      "outputs": []
    },
    {
      "metadata": {
        "id": "k0Zg6Qo6wHyG",
        "colab_type": "code",
        "colab": {}
      },
      "cell_type": "code",
      "source": [
        "#89871577_removed\n",
        "#participantbike.loc[participantbike.Member_ID==\"85130489_removed\"]\n",
        "#participantbike.loc[65459,['Member_ID']]=89871577\n",
        "#participantbike.loc[65391,['Member_ID']]=85130489"
      ],
      "execution_count": 0,
      "outputs": []
    },
    {
      "metadata": {
        "id": "1914FxHDvFpe",
        "colab_type": "code",
        "colab": {}
      },
      "cell_type": "code",
      "source": [
        "participantbike[\t'Security_Category_Name'\t]=\tparticipantbike[\t'Security_Category_Name'\t].astype('category')\n",
        "participantbike[\t 'Internal_Event_Name'\t]=\tparticipantbike[\t 'Internal_Event_Name'\t].astype('category')\n",
        "participantbike[\t 'Participation_Type_Name'\t]=\tparticipantbike[\t 'Participation_Type_Name'\t].astype('category')\n",
        "participantbike[\t 'Team_Name'\t]=\tparticipantbike[\t 'Team_Name'\t].astype('category')\n",
        "participantbike[\t 'Team_Division'\t]=\tparticipantbike[\t 'Team_Division'\t].astype('category')\n",
        "participantbike[\t 'Participant_Accept_Email'\t]=\tparticipantbike[\t 'Participant_Accept_Email'\t].astype('category')\n",
        "participantbike[\t 'Registration_Active_Status'\t]=\tparticipantbike[\t 'Registration_Active_Status'\t].astype('category')\n",
        "participantbike[\t 'Is_Team_Captain'\t]=\tparticipantbike[\t 'Is_Team_Captain'\t].astype('category')\n",
        "participantbike[\t 'Is_Secondary_Registration'\t]=\tparticipantbike[\t 'Is_Secondary_Registration'\t].astype('category')\n",
        "participantbike[\t 'Is_Prior_Participant'\t]=\tparticipantbike[\t 'Is_Prior_Participant'\t].astype('category')\n",
        "participantbike[\t 'Emails_Sent'\t]=\tparticipantbike[\t 'Emails_Sent'\t].astype('category')\n",
        "participantbike[\t 'Participant_Email_Status'\t]=\tparticipantbike[\t 'Participant_Email_Status'\t].astype('category')\n",
        "participantbike[\t 'Participant_Employer'\t]=\tparticipantbike[\t 'Participant_Employer'\t].astype('category')\n",
        "participantbike[\t 'Participant_Occupation'\t]=\tparticipantbike[\t 'Participant_Occupation'\t].astype('category')\n",
        "participantbike[\t 'Participant_Connection_to_MS'\t]=\tparticipantbike[\t 'Participant_Connection_to_MS'\t].astype('category')\n",
        "participantbike[\t 'Address_-_Participant_State/Province'\t]=\tparticipantbike[\t 'Address_-_Participant_State/Province'\t].astype('category')\n",
        "participantbike[\t 'Address_-_Participant_County'\t]=\tparticipantbike[\t 'Address_-_Participant_County'\t].astype('category')\n",
        "participantbike[\t 'Address_-_Participant_City'\t]=\tparticipantbike[\t 'Address_-_Participant_City'\t].astype('category')\n",
        "participantbike[\t 'Registration_Type'\t]=\tparticipantbike[\t 'Registration_Type'\t].astype('category')\n",
        "participantbike[\t 'Participant_Gender'\t]=\tparticipantbike[\t 'Participant_Gender'\t].astype('category')\n",
        "participantbike[\t 'Source_Code_Type'\t]=\tparticipantbike[\t 'Source_Code_Type'\t].astype('category')\n",
        "participantbike[\t 'Source_Code_Text'\t]=\tparticipantbike[\t 'Source_Code_Text'\t].astype('category')\n",
        "participantbike[\t 'Sub_Source_Code_Text']\t=\tparticipantbike[\t 'Sub_Source_Code_Text']\t.astype('category')"
      ],
      "execution_count": 0,
      "outputs": []
    },
    {
      "metadata": {
        "id": "yYlKXKFHvRZ0",
        "colab_type": "code",
        "colab": {}
      },
      "cell_type": "code",
      "source": [
        "participantbike[\t 'Team_ID'\t]=\tparticipantbike[\t 'Team_ID'\t].astype('float')\n",
        "participantbike[\t 'Contact_ID'\t]=\tparticipantbike[\t 'Contact_ID'\t].astype('float')\n",
        "#participantbike[\t 'Member_ID'\t]=\tparticipantbike[\t 'Member_ID'\t].astype('float')\n",
        "participantbike[\t 'Total_of_All_Confirmed_Gifts($)'\t]=\tparticipantbike[\t 'Total_of_All_Confirmed_Gifts($)'\t].astype('float')\n",
        "participantbike[\t 'Total_From_Participant($)'\t]=\tparticipantbike[\t 'Total_From_Participant($)'\t].astype('float')\n",
        "participantbike[\t 'Total_Not_From_Participant($)'\t]=\tparticipantbike[\t 'Total_Not_From_Participant($)'\t].astype('float')\n",
        "participantbike[\t 'Number_From_Participant'\t]=\tparticipantbike[\t 'Number_From_Participant'\t].astype('float')\n",
        "participantbike[\t 'Number_Not_From_Participant'\t]=\tparticipantbike[\t 'Number_Not_From_Participant'\t].astype('float')\n",
        "participantbike[\t 'Event_ID'\t]=\tparticipantbike[\t 'Event_ID'\t].astype('float')\n",
        "participantbike[\t 'Participant_Goal($)'\t]=\tparticipantbike[\t 'Participant_Goal($)'\t].astype('float')\n",
        "participantbike[\t 'Fiscal_Year'\t]=\tparticipantbike[\t 'Fiscal_Year'\t].astype('float')\n",
        "\n"
      ],
      "execution_count": 0,
      "outputs": []
    },
    {
      "metadata": {
        "id": "U2XnH41W9RJ3",
        "colab_type": "code",
        "colab": {}
      },
      "cell_type": "code",
      "source": [
        "participantbike[\t 'Event_Date'\t]=\tpd.to_datetime(participantbike[\t 'Event_Date'\t],format=\"%m/%d/%Y %H:%M\")\n",
        "participantbike[\t 'Team_Creation_Date'\t]=\tpd.to_datetime(participantbike[\t 'Team_Creation_Date'\t],format=\"%m/%d/%Y %H:%M\")\n",
        "participantbike[\t 'Registration_Date'\t]=\tpd.to_datetime(participantbike[\t 'Registration_Date'\t],format=\"%m/%d/%Y %H:%M\")\n"
      ],
      "execution_count": 0,
      "outputs": []
    },
    {
      "metadata": {
        "id": "BbDW3_AcSnRw",
        "colab_type": "code",
        "colab": {}
      },
      "cell_type": "code",
      "source": [
        "participantbike.isnull().sum().plot(kind='bar')"
      ],
      "execution_count": 0,
      "outputs": []
    },
    {
      "metadata": {
        "id": "xEAbP32QlwzJ",
        "colab_type": "code",
        "colab": {}
      },
      "cell_type": "code",
      "source": [
        "from google.colab import files\n",
        "\n",
        "participantbike.to_csv('participantbike_clean.csv')"
      ],
      "execution_count": 0,
      "outputs": []
    },
    {
      "metadata": {
        "id": "lyJp9QXXXGyK",
        "colab_type": "code",
        "colab": {}
      },
      "cell_type": "code",
      "source": [
        "# Create & upload a file.\n",
        "uploaded = drive.CreateFile({'title': 'participantbike_clean.csv'})\n",
        "uploaded.SetContentFile('participantbike_clean.csv')\n",
        "uploaded.Upload()\n",
        "print('Uploaded file with ID {}'.format(uploaded.get('id')))"
      ],
      "execution_count": 0,
      "outputs": []
    },
    {
      "metadata": {
        "id": "hZnC3OV8BJTF",
        "colab_type": "text"
      },
      "cell_type": "markdown",
      "source": [
        "#Data Cleaning for affiliatecodes"
      ]
    },
    {
      "metadata": {
        "id": "QJjdOhhjAxKO",
        "colab_type": "code",
        "colab": {}
      },
      "cell_type": "code",
      "source": [
        "affiliatecodes.isnull().sum().plot(kind='bar')"
      ],
      "execution_count": 0,
      "outputs": []
    },
    {
      "metadata": {
        "id": "1AOBcM9_lVP-",
        "colab_type": "code",
        "colab": {}
      },
      "cell_type": "code",
      "source": [
        "\n",
        "for col in affiliatecodes.columns:\n",
        "  affiliatecodes[col] = affiliatecodes[col].astype('category')"
      ],
      "execution_count": 0,
      "outputs": []
    },
    {
      "metadata": {
        "id": "KpZ488aSl_E4",
        "colab_type": "code",
        "colab": {}
      },
      "cell_type": "code",
      "source": [
        "from google.colab import files\n",
        "\n",
        "affiliatecodes.to_csv('affiliatecodes_clean.csv')"
      ],
      "execution_count": 0,
      "outputs": []
    },
    {
      "metadata": {
        "id": "uend4hkPloDk",
        "colab_type": "code",
        "colab": {
          "base_uri": "https://localhost:8080/",
          "height": 34
        },
        "outputId": "13f0c44a-d9f7-4ac8-d015-5ca4802f9ce7"
      },
      "cell_type": "code",
      "source": [
        "# Create & upload a file.\n",
        "uploaded = drive.CreateFile({'title': 'affiliatecodes_clean.csv'})\n",
        "uploaded.SetContentFile('affiliatecodes_clean.csv')\n",
        "uploaded.Upload()\n",
        "print('Uploaded file with ID {}'.format(uploaded.get('id')))"
      ],
      "execution_count": 0,
      "outputs": [
        {
          "output_type": "stream",
          "text": [
            "Uploaded file with ID 1w79M432WEVlGHI3z4oWlGeAf9U-3_t7n\n"
          ],
          "name": "stdout"
        }
      ]
    },
    {
      "metadata": {
        "id": "Lfsil0XrBZAB",
        "colab_type": "text"
      },
      "cell_type": "markdown",
      "source": [
        "#Data Cleaning for ntactivity"
      ]
    },
    {
      "metadata": {
        "id": "QUZjhuItBvw1",
        "colab_type": "text"
      },
      "cell_type": "markdown",
      "source": [
        "Since there are team names which are merged, we have to unmerged them and create a new file"
      ]
    },
    {
      "metadata": {
        "id": "KHCiBd9LD4e9",
        "colab_type": "text"
      },
      "cell_type": "markdown",
      "source": [
        "Here the First Line represents consolidated revenue and no of participants for each time. this is not required in our data frame hence we will drop that rows"
      ]
    },
    {
      "metadata": {
        "id": "iXgboovJqbdu",
        "colab_type": "code",
        "colab": {}
      },
      "cell_type": "code",
      "source": [
        "ntactivity = ntactivity.dropna(subset=['Event_Chapter'])\n"
      ],
      "execution_count": 0,
      "outputs": []
    },
    {
      "metadata": {
        "id": "mMpW1c-_FoS1",
        "colab_type": "text"
      },
      "cell_type": "markdown",
      "source": [
        "From the shape function we can observe that 107 rows have been dropped."
      ]
    },
    {
      "metadata": {
        "id": "8DekX4MCI2TC",
        "colab_type": "text"
      },
      "cell_type": "markdown",
      "source": [
        "Here the assumption is the atleast 1 participant must be present in the team, hence we are replacing the  NAN value of 'number of team members' = 1\n",
        "\n",
        "Also, contact id and mermber id have been replaced by 0.Zip code by 9999999 so as to keep the data type of columns consistent\n",
        "\n",
        "Participant Connection of MS have been substituted as OTHER since we do not know if they have any connection or not and substituing \"NONE\" will not be appropriate"
      ]
    },
    {
      "metadata": {
        "id": "OJ4ccuYFHJGN",
        "colab_type": "code",
        "colab": {}
      },
      "cell_type": "code",
      "source": [
        "ntactivity=ntactivity.fillna({'Participant_Connection_to_MS':'Other','Zip_Code':'999999','Contact_ID':0,'Member_ID':0,'Contact_By_Email_OK?_(Y/N)':'N','Contact_By_Phone_OK?_(Y/N)':'N','Contact_By_Mail_OK?_(Y/N)':'N'})"
      ],
      "execution_count": 0,
      "outputs": []
    },
    {
      "metadata": {
        "id": "vTgHBBlNoNna",
        "colab_type": "code",
        "colab": {}
      },
      "cell_type": "code",
      "source": [
        "teamcount=ntactivity.loc[:,['Number_of_Team_Members']].copy()\n",
        "ntactivity=ntactivity.drop('Number_of_Team_Members',axis=1)\n",
        "ntactivity=ntactivity.fillna('Unknown')\n"
      ],
      "execution_count": 0,
      "outputs": []
    },
    {
      "metadata": {
        "id": "-GptF8jxoUwx",
        "colab_type": "code",
        "colab": {
          "base_uri": "https://localhost:8080/",
          "height": 34
        },
        "outputId": "3dda7ce2-ff92-4015-ddc3-9729a059eac0"
      },
      "cell_type": "code",
      "source": [
        "ntactivity.isnull().values.any()"
      ],
      "execution_count": 0,
      "outputs": [
        {
          "output_type": "execute_result",
          "data": {
            "text/plain": [
              "False"
            ]
          },
          "metadata": {
            "tags": []
          },
          "execution_count": 82
        }
      ]
    },
    {
      "metadata": {
        "id": "Q7KfhJkuqQe7",
        "colab_type": "code",
        "colab": {}
      },
      "cell_type": "code",
      "source": [
        "ntactivity[\t'National_Team_Name'\t]=ntactivity[\t'National_Team_Name'\t].astype('category')\n",
        "ntactivity[\t'Event_Chapter'\t]=ntactivity[\t'Event_Chapter'\t].astype('category')\n",
        "ntactivity[\t'Event_Category'\t]=ntactivity[\t'Event_Category'\t].astype('category')\n",
        "ntactivity[\t'Event_Type'\t]=ntactivity[\t'Event_Type'\t].astype('category')\n",
        "ntactivity[\t'Local_Team_Name'\t]=ntactivity[\t'Local_Team_Name'\t].astype('category')\n",
        "ntactivity[\t'Event_Name'\t]=ntactivity[\t'Event_Name'\t].astype('category')\n",
        "ntactivity[\t'Location'\t]=ntactivity[\t'Location'\t].astype('category')\n",
        "ntactivity[\t'Corporate_Name'\t]=ntactivity[\t'Corporate_Name'\t].astype('category')\n",
        "ntactivity[\t'Email_Domain'\t]=ntactivity[\t'Email_Domain'\t].astype('category')\n",
        "ntactivity[\t'Bad_Email_Flag'\t]=ntactivity[\t'Bad_Email_Flag'\t].astype('category')\n",
        "ntactivity[\t'Contact_By_Email_OK?_(Y/N)'\t]=ntactivity[\t'Contact_By_Email_OK?_(Y/N)'\t].astype('category')\n",
        "ntactivity[\t'Phone_Type'\t]=ntactivity[\t'Phone_Type'\t].astype('category')\n",
        "ntactivity[\t'Call_Status'\t]=ntactivity[\t'Call_Status'\t].astype('category')\n",
        "ntactivity[\t'Contact_By_Phone_OK?_(Y/N)'\t]=ntactivity[\t'Contact_By_Phone_OK?_(Y/N)'\t].astype('category')\n",
        "ntactivity[\t'City'\t]=ntactivity[\t'City'\t].astype('category')\n",
        "ntactivity[\t'State/Province'\t]=ntactivity[\t'State/Province'\t].astype('category')\n",
        "ntactivity[\t'Bad_Address_Flag'\t]=ntactivity[\t'Bad_Address_Flag'\t].astype('category')\n",
        "ntactivity[\t'Contact_By_Mail_OK?_(Y/N)'\t]=ntactivity[\t'Contact_By_Mail_OK?_(Y/N)'\t].astype('category')\n",
        "ntactivity[\t'Active_Flag'\t]=ntactivity[\t'Active_Flag'\t].astype('category')\n",
        "ntactivity[\t'Deceased_Flag'\t]=ntactivity[\t'Deceased_Flag'\t].astype('category')\n",
        "ntactivity[\t'Primary_Connection_To_MS'\t]=ntactivity[\t'Primary_Connection_To_MS'\t].astype('category')\n"
      ],
      "execution_count": 0,
      "outputs": []
    },
    {
      "metadata": {
        "id": "qlnXIKaFquwX",
        "colab_type": "code",
        "colab": {}
      },
      "cell_type": "code",
      "source": [
        "ntactivity[\t'Revenue_Raised'\t]=ntactivity[\t'Revenue_Raised'\t].astype('float')\n",
        "ntactivity[\t'Member_ID'\t]=ntactivity[\t'Member_ID'\t].astype('int')\n",
        "ntactivity[\t'Contact_ID'\t]=ntactivity[\t'Contact_ID'\t].astype('int')\n"
      ],
      "execution_count": 0,
      "outputs": []
    },
    {
      "metadata": {
        "id": "ubUl7Nnnq3nr",
        "colab_type": "code",
        "colab": {}
      },
      "cell_type": "code",
      "source": [
        "ntactivity[\t'Event_Start_Date'\t]=\tpd.to_datetime(ntactivity[\t'Event_Start_Date'\t],format=\"%m/%d/%Y %H:%M\")\n"
      ],
      "execution_count": 0,
      "outputs": []
    },
    {
      "metadata": {
        "id": "2bLA4LfpoZvo",
        "colab_type": "code",
        "colab": {}
      },
      "cell_type": "code",
      "source": [
        "ntactivity = pd.concat([ntactivity, teamcount], axis=1)"
      ],
      "execution_count": 0,
      "outputs": []
    },
    {
      "metadata": {
        "id": "wPqIRkhZo8mb",
        "colab_type": "code",
        "colab": {
          "base_uri": "https://localhost:8080/",
          "height": 170
        },
        "outputId": "cbf468fb-1299-49f2-95a7-412fd2cf3c4e"
      },
      "cell_type": "code",
      "source": [
        "ntactivity.columns"
      ],
      "execution_count": 0,
      "outputs": [
        {
          "output_type": "execute_result",
          "data": {
            "text/plain": [
              "Index(['National_Team_Name', 'Event_Chapter', 'Event_Category', 'Event_Type',\n",
              "       'Local_Team_Name', 'Event_Name', 'Event_Start_Date', 'Location',\n",
              "       'Corporate_Name', 'Revenue_Raised', 'Member_ID', 'Contact_ID',\n",
              "       'Email_Domain', 'Bad_Email_Flag', 'Contact_By_Email_OK?_(Y/N)',\n",
              "       'Phone_Type', 'Call_Status', 'Contact_By_Phone_OK?_(Y/N)', 'City',\n",
              "       'State/Province', 'Zip_Code', 'Bad_Address_Flag',\n",
              "       'Contact_By_Mail_OK?_(Y/N)', 'Active_Flag', 'Deceased_Flag',\n",
              "       'Primary_Connection_To_MS', 'Number_of_Team_Members'],\n",
              "      dtype='object')"
            ]
          },
          "metadata": {
            "tags": []
          },
          "execution_count": 88
        }
      ]
    },
    {
      "metadata": {
        "id": "udDSjcnLpAEZ",
        "colab_type": "code",
        "colab": {}
      },
      "cell_type": "code",
      "source": [
        "missing_team=ntactivity.Number_of_Team_Members.isnull()\n",
        "ntactivity_missingteam=ntactivity[missing_team].copy()\n",
        "ntactivity_missingteam #this will become our test data\n",
        "\n"
      ],
      "execution_count": 0,
      "outputs": []
    },
    {
      "metadata": {
        "id": "Vit9UbX1voql",
        "colab_type": "code",
        "colab": {
          "base_uri": "https://localhost:8080/",
          "height": 119
        },
        "outputId": "b1bcd744-ca06-4014-df58-4b5316f4be4d"
      },
      "cell_type": "code",
      "source": [
        "ntactivity_missingteam['Number_of_Team_Members'].index"
      ],
      "execution_count": 0,
      "outputs": [
        {
          "output_type": "execute_result",
          "data": {
            "text/plain": [
              "Int64Index([  3,  19,  22,  25,  54,  59,  70,  86,  91, 121, 130, 144, 174,\n",
              "            194, 198, 211, 233, 235, 243, 285, 334, 349, 366, 383, 387, 394,\n",
              "            402, 404, 408, 419, 436, 439, 475, 498, 582, 593, 595, 622, 635,\n",
              "            637, 640, 650, 659, 673, 675, 688, 692, 702, 709, 713, 717, 727,\n",
              "            744, 757, 807, 809, 814, 819, 845, 862, 874, 887, 893],\n",
              "           dtype='int64')"
            ]
          },
          "metadata": {
            "tags": []
          },
          "execution_count": 128
        }
      ]
    },
    {
      "metadata": {
        "id": "OLULa_cCpIdi",
        "colab_type": "code",
        "colab": {}
      },
      "cell_type": "code",
      "source": [
        "having_team=~missing_team\n",
        "having_team\n",
        "ntactivity_havingteam=ntactivity[having_team].copy()\n",
        "ntactivity_havingteam #this will become our test data"
      ],
      "execution_count": 0,
      "outputs": []
    },
    {
      "metadata": {
        "id": "hXR6HhdWrODL",
        "colab_type": "code",
        "colab": {
          "base_uri": "https://localhost:8080/",
          "height": 34
        },
        "outputId": "2214af68-beac-480f-d28f-ecbc4ed5c637"
      },
      "cell_type": "code",
      "source": [
        "y=ntactivity_havingteam.Number_of_Team_Members\n",
        "predictors=['Event_Category', 'Event_Type','Location', 'Corporate_Name', 'Revenue_Raised', 'City', 'State/Province',   'Primary_Connection_To_MS']\n",
        "X=ntactivity_havingteam[predictors].copy()\n",
        "X.shape\n"
      ],
      "execution_count": 0,
      "outputs": [
        {
          "output_type": "execute_result",
          "data": {
            "text/plain": [
              "(747, 8)"
            ]
          },
          "metadata": {
            "tags": []
          },
          "execution_count": 91
        }
      ]
    },
    {
      "metadata": {
        "id": "-SrcYcEIrXKt",
        "colab_type": "code",
        "colab": {
          "base_uri": "https://localhost:8080/",
          "height": 34
        },
        "outputId": "4239494d-e52a-4459-d2ed-2372927ef138"
      },
      "cell_type": "code",
      "source": [
        "X_enc=pd.get_dummies(X)\n",
        "X_enc.shape"
      ],
      "execution_count": 0,
      "outputs": [
        {
          "output_type": "execute_result",
          "data": {
            "text/plain": [
              "(747, 625)"
            ]
          },
          "metadata": {
            "tags": []
          },
          "execution_count": 92
        }
      ]
    },
    {
      "metadata": {
        "id": "U5Ni51cprecU",
        "colab_type": "code",
        "colab": {
          "base_uri": "https://localhost:8080/",
          "height": 34
        },
        "outputId": "1fe65406-13f8-415e-c049-51c31622f58f"
      },
      "cell_type": "code",
      "source": [
        "X_missing=ntactivity_missingteam[predictors].copy()\n",
        "X_missing_enc=pd.get_dummies(X_missing)\n",
        "X_missing_enc.isnull().values.any()"
      ],
      "execution_count": 0,
      "outputs": [
        {
          "output_type": "execute_result",
          "data": {
            "text/plain": [
              "False"
            ]
          },
          "metadata": {
            "tags": []
          },
          "execution_count": 93
        }
      ]
    },
    {
      "metadata": {
        "id": "vj3CV5iIrjzu",
        "colab_type": "code",
        "colab": {
          "base_uri": "https://localhost:8080/",
          "height": 34
        },
        "outputId": "6f19408c-2e4b-4b34-cfdb-3c011c5cbb60"
      },
      "cell_type": "code",
      "source": [
        "col_test=X_missing_enc.columns\n",
        "X_enc=X_enc.loc[:,col_test]\n",
        "nullvalues=X_enc.isnull()\n",
        "X_enc=X_enc.fillna(0.0)\n",
        "X_enc.isnull().values.any()"
      ],
      "execution_count": 0,
      "outputs": [
        {
          "output_type": "execute_result",
          "data": {
            "text/plain": [
              "False"
            ]
          },
          "metadata": {
            "tags": []
          },
          "execution_count": 94
        }
      ]
    },
    {
      "metadata": {
        "id": "IRRfeQuMrqqe",
        "colab_type": "code",
        "colab": {}
      },
      "cell_type": "code",
      "source": [
        "train_X, val_X, train_y, val_y = train_test_split(X_enc, y,random_state = 0)"
      ],
      "execution_count": 0,
      "outputs": []
    },
    {
      "metadata": {
        "id": "4MIlXfKpr3AU",
        "colab_type": "code",
        "colab": {
          "base_uri": "https://localhost:8080/",
          "height": 34
        },
        "outputId": "ea4574a4-e0c6-455a-e464-fa481084fd8b"
      },
      "cell_type": "code",
      "source": [
        "my_pipeline_xgbr = make_pipeline(XGBRegressor(n_estimators=1000,learning_rate=0.00999))\n",
        "scores_xgbr = cross_val_score(my_pipeline_xgbr, train_X, train_y, scoring='neg_mean_squared_error')\n"
      ],
      "execution_count": 0,
      "outputs": [
        {
          "output_type": "stream",
          "text": [
            "New Mean Absolute Error 113.490189 XGBR\n"
          ],
          "name": "stdout"
        }
      ]
    },
    {
      "metadata": {
        "id": "vvnYf5hHr_so",
        "colab_type": "code",
        "colab": {}
      },
      "cell_type": "code",
      "source": [
        "my_pipeline_gbr = make_pipeline(GradientBoostingRegressor())\n",
        "scores_gbr = cross_val_score(my_pipeline_gbr, train_X, train_y, scoring='neg_mean_squared_error')"
      ],
      "execution_count": 0,
      "outputs": []
    },
    {
      "metadata": {
        "id": "3kXj8XjNr-aP",
        "colab_type": "code",
        "colab": {
          "base_uri": "https://localhost:8080/",
          "height": 51
        },
        "outputId": "8ff237f3-44df-4e50-c560-5ed646535f48"
      },
      "cell_type": "code",
      "source": [
        "print('New Mean Absolute Error %2f XGBR' %(-1 * scores_xgbr.mean()))\n",
        "print('New Mean Absolute Error %2f GBR' %(-1 * scores_gbr.mean()))\n"
      ],
      "execution_count": 0,
      "outputs": [
        {
          "output_type": "stream",
          "text": [
            "New Mean Absolute Error 126.749073 XGBR\n",
            "New Mean Absolute Error 113.889859 GBR\n"
          ],
          "name": "stdout"
        }
      ]
    },
    {
      "metadata": {
        "id": "fVrFcb6JtWvr",
        "colab_type": "code",
        "colab": {
          "base_uri": "https://localhost:8080/",
          "height": 85
        },
        "outputId": "55cb6938-b032-4677-9468-72ee6ca5e6dd"
      },
      "cell_type": "code",
      "source": [
        "my_model_GBR=GradientBoostingRegressor().fit(train_X,train_y)\n",
        "val_predictions = my_model_GBR.predict(val_X)\n",
        "print(mean_absolute_error(val_y, val_predictions))\n",
        "predicted_NOTM_GBR = my_model_GBR.predict(X_missing_enc)\n",
        "print(predicted_NOTM_GBR.round().astype(int))"
      ],
      "execution_count": 0,
      "outputs": [
        {
          "output_type": "stream",
          "text": [
            "4.7235169658674\n",
            "[ 3  3  3  3  3  3  3  8  3  3  3  3  3  3 10  3  3  3  3  3  3  3 14  3\n",
            "  3  3  6  4  4  3  3  3  3  3  5  5  3  3  3  3  8  3  3  4  3  3  4  2\n",
            "  3  3  3  3  3  3  3  5  3  3  3 29  3  4  4]\n"
          ],
          "name": "stdout"
        }
      ]
    },
    {
      "metadata": {
        "id": "5eUJfQspUSt-",
        "colab_type": "code",
        "colab": {
          "base_uri": "https://localhost:8080/",
          "height": 85
        },
        "outputId": "56d319d9-da5f-487a-94a7-45d79113c16a"
      },
      "cell_type": "code",
      "source": [
        "my_model_XGBR=XGBRegressor(n_estimators=1000,learning_rate=0.00999).fit(train_X,train_y)\n",
        "val_predictions = my_model_XGBR.predict(val_X)\n",
        "print(mean_absolute_error(val_y, val_predictions))\n",
        "predicted_NOTM_XGBR = my_model_XGBR.predict(X_missing_enc)\n",
        "print(predicted_NOTM_XGBR.round().astype(int))"
      ],
      "execution_count": 0,
      "outputs": [
        {
          "output_type": "stream",
          "text": [
            "4.767150218474036\n",
            "[ 3  3  6  3  3  5  3  7  3  3  3  3  3  3 10  3  3  3  3  3  3  3 13  3\n",
            "  3  3  7  4  5  3  3  3  3  3  4  5  3  3  3  3  8  3  3  4  5  3  4  2\n",
            "  3  3  3  3  6  3  3  3  3  4  3 28  3  3  6]\n"
          ],
          "name": "stdout"
        }
      ]
    },
    {
      "metadata": {
        "id": "fxWcPJyRuRa6",
        "colab_type": "text"
      },
      "cell_type": "markdown",
      "source": [
        "Using prediction from XGBR"
      ]
    },
    {
      "metadata": {
        "id": "XPdtFku1r2cQ",
        "colab_type": "code",
        "colab": {}
      },
      "cell_type": "code",
      "source": [
        "predicted_NOTM=predicted_NOTM_XGBR.round().astype(int)\n",
        "X_missing_enc['Number_of_Team_Members']=predicted_NOTM\n",
        "notm_values=X_missing_enc['Number_of_Team_Members'].index\n",
        "ntactivity.loc[notm_values,['Number_of_Team_Members']]=X_missing_enc['Number_of_Team_Members']"
      ],
      "execution_count": 0,
      "outputs": []
    },
    {
      "metadata": {
        "id": "yr2mg6t8wYhb",
        "colab_type": "code",
        "colab": {}
      },
      "cell_type": "code",
      "source": [
        "ntactivity.Number_of_Team_Members"
      ],
      "execution_count": 0,
      "outputs": []
    },
    {
      "metadata": {
        "id": "UwkZnegoueYq",
        "colab_type": "code",
        "colab": {
          "base_uri": "https://localhost:8080/",
          "height": 34
        },
        "outputId": "3a3466c9-f111-45b5-877c-05b65992195b"
      },
      "cell_type": "code",
      "source": [
        "ntactivity.isnull().values.any()"
      ],
      "execution_count": 0,
      "outputs": [
        {
          "output_type": "execute_result",
          "data": {
            "text/plain": [
              "False"
            ]
          },
          "metadata": {
            "tags": []
          },
          "execution_count": 135
        }
      ]
    },
    {
      "metadata": {
        "id": "vwqNeI4awzSd",
        "colab_type": "code",
        "colab": {}
      },
      "cell_type": "code",
      "source": [
        "from google.colab import files\n",
        "\n",
        "ntactivity.to_csv('ntactivity_clean.csv')"
      ],
      "execution_count": 0,
      "outputs": []
    },
    {
      "metadata": {
        "id": "V_Kbaa48w_DL",
        "colab_type": "code",
        "colab": {
          "base_uri": "https://localhost:8080/",
          "height": 34
        },
        "outputId": "eddd71fd-8922-4c1a-e736-18caabc5b130"
      },
      "cell_type": "code",
      "source": [
        "# Create & upload a file.\n",
        "uploaded = drive.CreateFile({'title': 'ntactivity_clean.csv'})\n",
        "uploaded.SetContentFile('ntactivity_clean.csv')\n",
        "uploaded.Upload()\n",
        "print('Uploaded file with ID {}'.format(uploaded.get('id')))"
      ],
      "execution_count": 0,
      "outputs": [
        {
          "output_type": "stream",
          "text": [
            "Uploaded file with ID 1RgDsyUlY1Nf0wAw9xHG6uqCoqU5ACzu-\n"
          ],
          "name": "stdout"
        }
      ]
    },
    {
      "metadata": {
        "id": "EWYM_87sQM6y",
        "colab_type": "text"
      },
      "cell_type": "markdown",
      "source": [
        "#Data Cleaning for donationsbike"
      ]
    },
    {
      "metadata": {
        "id": "r7YWFjlrQ9sd",
        "colab_type": "code",
        "colab": {}
      },
      "cell_type": "code",
      "source": [
        "donationsbike2017.isnull().sum().plot(kind='bar')"
      ],
      "execution_count": 0,
      "outputs": []
    },
    {
      "metadata": {
        "id": "7Eh8qNGyyW7Y",
        "colab_type": "code",
        "colab": {}
      },
      "cell_type": "code",
      "source": [
        "donationsbike2017=donationsbike2017.dropna(subset = ['Event_Date'])\n",
        "donationsbike2017=donationsbike2017.fillna({'Gift_Payment_Method':'Credit Card','Offline_Status':'Not_Applicable','Donor_Member_ID':0,'Donor_ZIP':999999,'Participant_Contact_ID':0,'Donor_Connection_to_MS':'Other','Participant_Member_ID':0,'Fiscal_Year':0,'Donor_ConsID'\t:0,'Donor_Opt-out_Date':'01/01/2000 00:00','Registration_Date':'01/01/2000 00:00','Team_Creation_Date':'01/01/2000 00:00'})\n",
        "donationsbike2017=donationsbike2017.fillna('Unknown')"
      ],
      "execution_count": 0,
      "outputs": []
    },
    {
      "metadata": {
        "id": "9RCH6DHtUB7n",
        "colab_type": "text"
      },
      "cell_type": "markdown",
      "source": [
        "\n",
        "For the above row no the gift has been made by participant, payment is online and type is Credit card hence our intution is that the gift payment is Credit Card"
      ]
    },
    {
      "metadata": {
        "id": "1iZC-K28WxOc",
        "colab_type": "text"
      },
      "cell_type": "markdown",
      "source": [
        "From our understanding, offline status reflects if the payment has been made offline and confirnemd. Since for credit cards the payments are not confirmed immediately we will but the offline status as 'Not Applicable'"
      ]
    },
    {
      "metadata": {
        "id": "Bu29en6cYXL_",
        "colab_type": "text"
      },
      "cell_type": "markdown",
      "source": [
        "Updating generic IDs as 0 since the IDs are machine generated."
      ]
    },
    {
      "metadata": {
        "id": "AoG9dlLZZy5d",
        "colab_type": "text"
      },
      "cell_type": "markdown",
      "source": [
        "Zipcodes have been updated as a generic number 999999"
      ]
    },
    {
      "metadata": {
        "id": "a7fA4R_KgrOc",
        "colab_type": "code",
        "colab": {}
      },
      "cell_type": "code",
      "source": [
        "donationsbike2017[\t'Security_Category_Name'\t]=donationsbike2017[\t'Security_Category_Name'\t].astype('category')\n",
        "donationsbike2017[\t'Public_Event_Name'\t]=donationsbike2017[\t'Public_Event_Name'\t].astype('category')\n",
        "donationsbike2017[\t'Campaign_Title'\t]=donationsbike2017[\t'Campaign_Title'\t].astype('category')\n",
        "donationsbike2017[\t'Gift_Type'\t]=donationsbike2017[\t'Gift_Type'\t].astype('category')\n",
        "donationsbike2017[\t'Offline_Status'\t]=donationsbike2017[\t'Offline_Status'\t].astype('category')\n",
        "donationsbike2017[\t'Is_Registration?'\t]=donationsbike2017[\t'Is_Registration?'\t].astype('category')\n",
        "donationsbike2017[\t'Donor_Affiliate_Code'\t]=donationsbike2017[\t'Donor_Affiliate_Code'\t].astype('category')\n",
        "donationsbike2017[\t'Donor_Gender'\t]=donationsbike2017[\t'Donor_Gender'\t].astype('category')\n",
        "donationsbike2017[\t'Donor_Accept_Email'\t]=donationsbike2017[\t'Donor_Accept_Email'\t].astype('category')\n",
        "donationsbike2017[\t'Donor_Opt-out_Method'\t]=donationsbike2017[\t'Donor_Opt-out_Method'\t].astype('category')\n",
        "donationsbike2017[\t'Donor_Email_Status'\t]=donationsbike2017[\t'Donor_Email_Status'\t].astype('category')\n",
        "donationsbike2017[\t'Donor_City'\t]=donationsbike2017[\t'Donor_City'\t].astype('category')\n",
        "donationsbike2017[\t'Donor_State'\t]=donationsbike2017[\t'Donor_State'\t].astype('category')\n",
        "donationsbike2017[\t'Donor_County'\t]=donationsbike2017[\t'Donor_County'\t].astype('category')\n",
        "donationsbike2017[\t'Donor_Employer'\t]=donationsbike2017[\t'Donor_Employer'\t].astype('category')\n",
        "donationsbike2017[\t'Donor_Connection_to_MS'\t]=donationsbike2017[\t'Donor_Connection_to_MS'\t].astype('category')\n",
        "donationsbike2017[\t'Participation_Type_Name'\t]=donationsbike2017[\t'Participation_Type_Name'\t].astype('category')\n",
        "donationsbike2017[\t'Registration_Active_Status'\t]=donationsbike2017[\t'Registration_Active_Status'\t].astype('category')\n",
        "donationsbike2017[\t'Is_Prior_Participant'\t]=donationsbike2017[\t'Is_Prior_Participant'\t].astype('category')\n",
        "donationsbike2017[\t'Is_Team_Captain'\t]=donationsbike2017[\t'Is_Team_Captain'\t].astype('category')\n",
        "donationsbike2017[\t'Team_Name'\t]=donationsbike2017[\t'Team_Name'\t].astype('category')\n",
        "donationsbike2017[\t'Team'\t]=donationsbike2017[\t'Team'\t].astype('category')\n",
        "donationsbike2017[\t'Proxy_Type'\t]=donationsbike2017[\t'Proxy_Type'\t].astype('category')\n",
        "donationsbike2017[\t'User_Confirmation_Code'\t]=donationsbike2017[\t'User_Confirmation_Code'\t].astype('category')\n",
        "donationsbike2017[\t'Source_Code_Text'\t]=donationsbike2017[\t'Source_Code_Text'\t].astype('category')\n",
        "donationsbike2017[\t'Sub_Source_Code_Text'\t]=donationsbike2017[\t'Sub_Source_Code_Text'\t].astype('category')\n",
        "donationsbike2017[\t'Source_Code_Type'\t]=donationsbike2017[\t'Source_Code_Type'\t].astype('category')\n",
        "donationsbike2017[\t'Batch_ID'\t]=donationsbike2017[\t'Batch_ID'\t].astype('category')"
      ],
      "execution_count": 0,
      "outputs": []
    },
    {
      "metadata": {
        "id": "MKI5255Og2DY",
        "colab_type": "code",
        "colab": {}
      },
      "cell_type": "code",
      "source": [
        "donationsbike2017[\t'Participant_Contact_ID'\t]=donationsbike2017[\t'Participant_Contact_ID'\t].astype('int')\n",
        "\n",
        "donationsbike2017['Additional_Gift_Amount($)']=pd.to_numeric(donationsbike2017['Additional_Gift_Amount($)'], errors='coerce')\n",
        "donationsbike2017=donationsbike2017.dropna(subset = ['Additional_Gift_Amount($)'])\n",
        "\n",
        "donationsbike2017[\t'Event_ID'\t]=pd.to_numeric(donationsbike2017[\t'Event_ID'\t], errors='coerce')\n",
        "donationsbike2017=donationsbike2017.dropna(subset = [\t'Event_ID'\t])\n",
        "\n",
        "donationsbike2017[\t'Donor_Member_ID'\t]=pd.to_numeric(donationsbike2017[\t'Donor_Member_ID'\t], errors='coerce')\n",
        "donationsbike2017=donationsbike2017.dropna(subset = [\t'Donor_Member_ID'\t])\n",
        "\n",
        "donationsbike2017[\t    'Campaign_ID'\t]=pd.to_numeric(donationsbike2017[\t    'Campaign_ID'\t], errors='coerce')\n",
        "donationsbike2017=donationsbike2017.dropna(subset = [\t    'Campaign_ID'\t])\n",
        "\n",
        "donationsbike2017[\t'Donor_ConsID'\t]=pd.to_numeric(donationsbike2017[\t'Donor_ConsID'\t], errors='coerce')\n",
        "donationsbike2017=donationsbike2017.dropna(subset = [\t'Donor_ConsID'\t])\n",
        "\n",
        "donationsbike2017[\t'Donor_ZIP'\t]=pd.to_numeric(donationsbike2017[\t'Donor_ZIP'\t], errors='coerce')\n",
        "donationsbike2017=donationsbike2017.dropna(subset = [\t'Donor_ZIP'\t])\n",
        "\n",
        "donationsbike2017[\t'Participant_Member_ID'\t]=pd.to_numeric(donationsbike2017[\t'Participant_Member_ID'\t], errors='coerce')\n",
        "donationsbike2017=donationsbike2017.dropna(subset = [\t'Participant_Member_ID'\t])\n",
        "\n",
        "donationsbike2017[\t'Gift_Amount($)'\t]=donationsbike2017[\t'Gift_Amount($)'\t].astype('float')\n",
        "donationsbike2017[\t'Participant_Goal($)']=\tdonationsbike2017[\t'Participant_Goal($)'\t].astype('float')\n",
        "donationsbike2017[\t'Additional_Gift_Amount($)']=\tdonationsbike2017[\t'Additional_Gift_Amount($)'\t].astype('float')\n",
        "donationsbike2017[\t'Campaign_ID'\t]=donationsbike2017[\t'Campaign_ID'\t].astype('int')\n",
        "donationsbike2017[\t'Donor_Member_ID'\t]=donationsbike2017[\t'Donor_Member_ID'\t].astype('int')\n",
        "donationsbike2017[\t'Donor_ZIP'\t]=donationsbike2017[\t'Donor_ZIP'\t].astype('int')\n",
        "donationsbike2017[\t'Participant_Member_ID'\t]=donationsbike2017[\t'Participant_Member_ID'\t].astype('int')\n",
        "donationsbike2017[\t'Donor_ConsID'\t]=donationsbike2017[\t'Donor_ConsID'\t].astype('int')"
      ],
      "execution_count": 0,
      "outputs": []
    },
    {
      "metadata": {
        "id": "6JYIwqiniQWD",
        "colab_type": "code",
        "colab": {
          "base_uri": "https://localhost:8080/",
          "height": 180
        },
        "outputId": "d1d2a633-8c69-431f-a817-82513f0fa731"
      },
      "cell_type": "code",
      "source": [
        "filterbool=donationsbike2017['Team_Creation_Date'].apply(lambda x: len(x)<3)\n",
        "donationsbike2017[filterbool]"
      ],
      "execution_count": 89,
      "outputs": [
        {
          "output_type": "execute_result",
          "data": {
            "text/html": [
              "<div>\n",
              "<style scoped>\n",
              "    .dataframe tbody tr th:only-of-type {\n",
              "        vertical-align: middle;\n",
              "    }\n",
              "\n",
              "    .dataframe tbody tr th {\n",
              "        vertical-align: top;\n",
              "    }\n",
              "\n",
              "    .dataframe thead th {\n",
              "        text-align: right;\n",
              "    }\n",
              "</style>\n",
              "<table border=\"1\" class=\"dataframe\">\n",
              "  <thead>\n",
              "    <tr style=\"text-align: right;\">\n",
              "      <th></th>\n",
              "      <th>Security_Category_Name</th>\n",
              "      <th>Event_ID</th>\n",
              "      <th>Public_Event_Name</th>\n",
              "      <th>Fiscal_Year</th>\n",
              "      <th>Event_Date</th>\n",
              "      <th>Campaign_Title</th>\n",
              "      <th>Campaign_ID</th>\n",
              "      <th>Gift_Amount($)</th>\n",
              "      <th>Date_Recorded</th>\n",
              "      <th>Gift_Type</th>\n",
              "      <th>...</th>\n",
              "      <th>Team_Creation_Date</th>\n",
              "      <th>Original_Value_Transacted</th>\n",
              "      <th>Net_Transaction_Amount</th>\n",
              "      <th>Ledger_Transaction_Amount</th>\n",
              "      <th>Proxy_Type</th>\n",
              "      <th>User_Confirmation_Code</th>\n",
              "      <th>Source_Code_Type</th>\n",
              "      <th>Source_Code_Text</th>\n",
              "      <th>Sub_Source_Code_Text</th>\n",
              "      <th>Batch_ID</th>\n",
              "    </tr>\n",
              "  </thead>\n",
              "  <tbody>\n",
              "    <tr>\n",
              "      <th>9210</th>\n",
              "      <td>CAL Bike Events</td>\n",
              "      <td>28217</td>\n",
              "      <td>Bike MS: Coastal Challenge 2017</td>\n",
              "      <td>2017</td>\n",
              "      <td>3/25/2017 15:06</td>\n",
              "      <td>CAL 2017 Bike MS</td>\n",
              "      <td>44974</td>\n",
              "      <td>50.0</td>\n",
              "      <td>2017-02-22 18:27:00</td>\n",
              "      <td>online</td>\n",
              "      <td>...</td>\n",
              "      <td>50</td>\n",
              "      <td>50</td>\n",
              "      <td>50.0</td>\n",
              "      <td>TeamRaiser Participant</td>\n",
              "      <td>1638-44974-1-17910659-18882098</td>\n",
              "      <td>Unknown</td>\n",
              "      <td>Unknown</td>\n",
              "      <td>Unknown</td>\n",
              "      <td>Unknown</td>\n",
              "      <td>Unknown</td>\n",
              "    </tr>\n",
              "  </tbody>\n",
              "</table>\n",
              "<p>1 rows × 49 columns</p>\n",
              "</div>"
            ],
            "text/plain": [
              "     Security_Category_Name  Event_ID                Public_Event_Name  \\\n",
              "9210        CAL Bike Events     28217  Bike MS: Coastal Challenge 2017   \n",
              "\n",
              "     Fiscal_Year       Event_Date    Campaign_Title  Campaign_ID  \\\n",
              "9210        2017  3/25/2017 15:06  CAL 2017 Bike MS        44974   \n",
              "\n",
              "      Gift_Amount($)       Date_Recorded Gift_Type   ...     \\\n",
              "9210            50.0 2017-02-22 18:27:00    online   ...      \n",
              "\n",
              "     Team_Creation_Date Original_Value_Transacted Net_Transaction_Amount  \\\n",
              "9210                 50                        50                   50.0   \n",
              "\n",
              "     Ledger_Transaction_Amount                      Proxy_Type  \\\n",
              "9210    TeamRaiser Participant  1638-44974-1-17910659-18882098   \n",
              "\n",
              "      User_Confirmation_Code Source_Code_Type Source_Code_Text  \\\n",
              "9210                 Unknown          Unknown          Unknown   \n",
              "\n",
              "     Sub_Source_Code_Text Batch_ID  \n",
              "9210              Unknown  Unknown  \n",
              "\n",
              "[1 rows x 49 columns]"
            ]
          },
          "metadata": {
            "tags": []
          },
          "execution_count": 89
        }
      ]
    },
    {
      "metadata": {
        "id": "eWpmeKWgiT_O",
        "colab_type": "code",
        "colab": {}
      },
      "cell_type": "code",
      "source": [
        "donationsbike2017.drop(9210,inplace=True)"
      ],
      "execution_count": 0,
      "outputs": []
    },
    {
      "metadata": {
        "id": "cYy6aO3RihcI",
        "colab_type": "code",
        "colab": {
          "base_uri": "https://localhost:8080/",
          "height": 146
        },
        "outputId": "4f3983ba-b7a1-4b89-866c-fb008713388b"
      },
      "cell_type": "code",
      "source": [
        "donationsbike2017[donationsbike2017['Event_Date']=='3/25+2017 15:06']"
      ],
      "execution_count": 94,
      "outputs": [
        {
          "output_type": "execute_result",
          "data": {
            "text/html": [
              "<div>\n",
              "<style scoped>\n",
              "    .dataframe tbody tr th:only-of-type {\n",
              "        vertical-align: middle;\n",
              "    }\n",
              "\n",
              "    .dataframe tbody tr th {\n",
              "        vertical-align: top;\n",
              "    }\n",
              "\n",
              "    .dataframe thead th {\n",
              "        text-align: right;\n",
              "    }\n",
              "</style>\n",
              "<table border=\"1\" class=\"dataframe\">\n",
              "  <thead>\n",
              "    <tr style=\"text-align: right;\">\n",
              "      <th></th>\n",
              "      <th>Security_Category_Name</th>\n",
              "      <th>Event_ID</th>\n",
              "      <th>Public_Event_Name</th>\n",
              "      <th>Fiscal_Year</th>\n",
              "      <th>Event_Date</th>\n",
              "      <th>Campaign_Title</th>\n",
              "      <th>Campaign_ID</th>\n",
              "      <th>Gift_Amount($)</th>\n",
              "      <th>Date_Recorded</th>\n",
              "      <th>Gift_Type</th>\n",
              "      <th>...</th>\n",
              "      <th>Team_Creation_Date</th>\n",
              "      <th>Original_Value_Transacted</th>\n",
              "      <th>Net_Transaction_Amount</th>\n",
              "      <th>Ledger_Transaction_Amount</th>\n",
              "      <th>Proxy_Type</th>\n",
              "      <th>User_Confirmation_Code</th>\n",
              "      <th>Source_Code_Type</th>\n",
              "      <th>Source_Code_Text</th>\n",
              "      <th>Sub_Source_Code_Text</th>\n",
              "      <th>Batch_ID</th>\n",
              "    </tr>\n",
              "  </thead>\n",
              "  <tbody>\n",
              "    <tr>\n",
              "      <th>7740</th>\n",
              "      <td>CAL Bike Events</td>\n",
              "      <td>28217</td>\n",
              "      <td>Bike MS: Coastal Challenge 2017</td>\n",
              "      <td>2017</td>\n",
              "      <td>3/25+2017 15:06</td>\n",
              "      <td>CAL 2017 Bike MS</td>\n",
              "      <td>44974</td>\n",
              "      <td>200.0</td>\n",
              "      <td>2017-02-07 21:59:00</td>\n",
              "      <td>online</td>\n",
              "      <td>...</td>\n",
              "      <td>2016-08-29 14:12:00</td>\n",
              "      <td>200</td>\n",
              "      <td>200.0</td>\n",
              "      <td>200</td>\n",
              "      <td>TeamRaiser Participant</td>\n",
              "      <td>1638-44974-1-17867103-18834471</td>\n",
              "      <td>Unknown</td>\n",
              "      <td>Unknown</td>\n",
              "      <td>Unknown</td>\n",
              "      <td>Unknown</td>\n",
              "    </tr>\n",
              "  </tbody>\n",
              "</table>\n",
              "<p>1 rows × 49 columns</p>\n",
              "</div>"
            ],
            "text/plain": [
              "     Security_Category_Name  Event_ID                Public_Event_Name  \\\n",
              "7740        CAL Bike Events     28217  Bike MS: Coastal Challenge 2017   \n",
              "\n",
              "     Fiscal_Year       Event_Date    Campaign_Title  Campaign_ID  \\\n",
              "7740        2017  3/25+2017 15:06  CAL 2017 Bike MS        44974   \n",
              "\n",
              "      Gift_Amount($)       Date_Recorded Gift_Type   ...     \\\n",
              "7740           200.0 2017-02-07 21:59:00    online   ...      \n",
              "\n",
              "      Team_Creation_Date Original_Value_Transacted Net_Transaction_Amount  \\\n",
              "7740 2016-08-29 14:12:00                       200                  200.0   \n",
              "\n",
              "     Ledger_Transaction_Amount              Proxy_Type  \\\n",
              "7740                       200  TeamRaiser Participant   \n",
              "\n",
              "              User_Confirmation_Code Source_Code_Type Source_Code_Text  \\\n",
              "7740  1638-44974-1-17867103-18834471          Unknown          Unknown   \n",
              "\n",
              "     Sub_Source_Code_Text Batch_ID  \n",
              "7740              Unknown  Unknown  \n",
              "\n",
              "[1 rows x 49 columns]"
            ]
          },
          "metadata": {
            "tags": []
          },
          "execution_count": 94
        }
      ]
    },
    {
      "metadata": {
        "id": "Ma0oSfXaissq",
        "colab_type": "code",
        "colab": {}
      },
      "cell_type": "code",
      "source": [
        "donationsbike2017.loc[7740,['Event_Date']]='3/25/2017 15:06'"
      ],
      "execution_count": 0,
      "outputs": []
    },
    {
      "metadata": {
        "id": "Dy2cDUDZg0XZ",
        "colab_type": "code",
        "colab": {}
      },
      "cell_type": "code",
      "source": [
        "donationsbike2017[\t'Event_Date'\t]=pd.to_datetime(donationsbike2017[\t'Event_Date'\t],format=\"%m/%d/%Y %H:%M\")\n",
        "donationsbike2017[\t'Date_Recorded'\t]=pd.to_datetime(donationsbike2017[\t'Date_Recorded'\t],format=\"%m/%d/%Y %H:%M\")\n",
        "donationsbike2017[\t'Donor_Opt-out_Date'\t]=pd.to_datetime(donationsbike2017[\t'Donor_Opt-out_Date'\t],format=\"%m/%d/%Y %H:%M\")\n",
        "donationsbike2017[\t'Registration_Date'\t]=pd.to_datetime(donationsbike2017[\t'Registration_Date'\t],format=\"%m/%d/%Y %H:%M\")\n",
        "donationsbike2017[\t'Team_Creation_Date'\t]=pd.to_datetime(donationsbike2017[\t'Team_Creation_Date'\t],format=\"%m/%d/%Y %H:%M\")\n"
      ],
      "execution_count": 0,
      "outputs": []
    },
    {
      "metadata": {
        "id": "fPpd9Uwn-CFI",
        "colab_type": "text"
      },
      "cell_type": "markdown",
      "source": [
        "Since Additional_Gift_Columns has some wrong data records and they are just 6, it is best to drop them\n",
        "\n",
        "Same concept is applied to other columns too"
      ]
    },
    {
      "metadata": {
        "id": "x8KdxQt-GS8E",
        "colab_type": "code",
        "colab": {}
      },
      "cell_type": "code",
      "source": [
        "from google.colab import files\n",
        "donationsbike2017.to_csv('donationsbike2017_clean.csv')\n"
      ],
      "execution_count": 0,
      "outputs": []
    },
    {
      "metadata": {
        "id": "3ldqcjxoGtlk",
        "colab_type": "code",
        "colab": {
          "base_uri": "https://localhost:8080/",
          "height": 34
        },
        "outputId": "f76df5d8-eae3-426a-b665-09af6e690d50"
      },
      "cell_type": "code",
      "source": [
        "# Create & upload a file.\n",
        "uploaded = drive.CreateFile({'title': 'donationsbike2017_clean.csv'})\n",
        "uploaded.SetContentFile('donationsbike2017_clean.csv')\n",
        "uploaded.Upload()\n",
        "print('Uploaded file with ID {}'.format(uploaded.get('id')))"
      ],
      "execution_count": 98,
      "outputs": [
        {
          "output_type": "stream",
          "text": [
            "Uploaded file with ID 1zK-8vfwC7J9XRJX0VjFuTdqrVcrdMImD\n"
          ],
          "name": "stdout"
        }
      ]
    },
    {
      "metadata": {
        "id": "T2eu-Ds9BPuo",
        "colab_type": "text"
      },
      "cell_type": "markdown",
      "source": [
        "                        ---------------------------------- 2017 finished -------------------------------------------------------\n"
      ]
    },
    {
      "metadata": {
        "id": "VZlsKcpldXa9",
        "colab_type": "code",
        "colab": {}
      },
      "cell_type": "code",
      "source": [
        "donationsbike2016=donationsbike2016.dropna(subset = ['Event_Date'])\n",
        "donationsbike2016=donationsbike2016.fillna({'Gift_Payment_Method':'Credit Card','Offline_Status':'Not_Applicable','Donor_Member_ID':0,'Donor_ZIP':999999,'Participant_Contact_ID':0,'Donor_Connection_to_MS':'Other','Participant_Member_ID':0,'Fiscal_Year':0,'Donor_ConsID'\t:0,'Donor_Opt-out_Date':'01/01/2000 00:00','Registration_Date':'01/01/2000 00:00','Team_Creation_Date':'01/01/2000 00:00'})\n",
        "donationsbike2016=donationsbike2016.fillna('Unknown')"
      ],
      "execution_count": 0,
      "outputs": []
    },
    {
      "metadata": {
        "id": "MePx-K8LCAKj",
        "colab_type": "code",
        "colab": {}
      },
      "cell_type": "code",
      "source": [
        "donationsbike2016[\t'Security_Category_Name'\t]=donationsbike2016[\t'Security_Category_Name'\t].astype('category')\n",
        "donationsbike2016[\t'Public_Event_Name'\t]=donationsbike2016[\t'Public_Event_Name'\t].astype('category')\n",
        "donationsbike2016[\t'Campaign_Title'\t]=donationsbike2016[\t'Campaign_Title'\t].astype('category')\n",
        "donationsbike2016[\t'Gift_Type'\t]=donationsbike2016[\t'Gift_Type'\t].astype('category')\n",
        "donationsbike2016[\t'Offline_Status'\t]=donationsbike2016[\t'Offline_Status'\t].astype('category')\n",
        "donationsbike2016[\t'Is_Registration?'\t]=donationsbike2016[\t'Is_Registration?'\t].astype('category')\n",
        "donationsbike2016[\t'Donor_Affiliate_Code'\t]=donationsbike2016[\t'Donor_Affiliate_Code'\t].astype('category')\n",
        "donationsbike2016[\t'Donor_Gender'\t]=donationsbike2016[\t'Donor_Gender'\t].astype('category')\n",
        "donationsbike2016[\t'Donor_Accept_Email'\t]=donationsbike2016[\t'Donor_Accept_Email'\t].astype('category')\n",
        "donationsbike2016[\t'Donor_Opt-out_Method'\t]=donationsbike2016[\t'Donor_Opt-out_Method'\t].astype('category')\n",
        "donationsbike2016[\t'Donor_Email_Status'\t]=donationsbike2016[\t'Donor_Email_Status'\t].astype('category')\n",
        "donationsbike2016[\t'Donor_City'\t]=donationsbike2016[\t'Donor_City'\t].astype('category')\n",
        "donationsbike2016[\t'Donor_State'\t]=donationsbike2016[\t'Donor_State'\t].astype('category')\n",
        "donationsbike2016[\t'Donor_County'\t]=donationsbike2016[\t'Donor_County'\t].astype('category')\n",
        "donationsbike2016[\t'Donor_Employer'\t]=donationsbike2016[\t'Donor_Employer'\t].astype('category')\n",
        "donationsbike2016[\t'Donor_Connection_to_MS'\t]=donationsbike2016[\t'Donor_Connection_to_MS'\t].astype('category')\n",
        "donationsbike2016[\t'Participation_Type_Name'\t]=donationsbike2016[\t'Participation_Type_Name'\t].astype('category')\n",
        "donationsbike2016[\t'Registration_Active_Status'\t]=donationsbike2016[\t'Registration_Active_Status'\t].astype('category')\n",
        "donationsbike2016[\t'Is_Prior_Participant'\t]=donationsbike2016[\t'Is_Prior_Participant'\t].astype('category')\n",
        "donationsbike2016[\t'Is_Team_Captain'\t]=donationsbike2016[\t'Is_Team_Captain'\t].astype('category')\n",
        "donationsbike2016[\t'Team_Name'\t]=donationsbike2016[\t'Team_Name'\t].astype('category')\n",
        "donationsbike2016[\t'Team'\t]=donationsbike2016[\t'Team'\t].astype('category')\n",
        "donationsbike2016[\t'Proxy_Type'\t]=donationsbike2016[\t'Proxy_Type'\t].astype('category')\n",
        "donationsbike2016[\t'User_Confirmation_Code'\t]=donationsbike2016[\t'User_Confirmation_Code'\t].astype('category')\n",
        "donationsbike2016[\t'Source_Code_Text'\t]=donationsbike2016[\t'Source_Code_Text'\t].astype('category')\n",
        "donationsbike2016[\t'Sub_Source_Code_Text'\t]=donationsbike2016[\t'Sub_Source_Code_Text'\t].astype('category')\n",
        "donationsbike2016[\t'Source_Code_Type'\t]=donationsbike2016[\t'Source_Code_Type'\t].astype('category')\n",
        "donationsbike2016[\t'Batch_ID'\t]=donationsbike2016[\t'Batch_ID'\t].astype('category')"
      ],
      "execution_count": 0,
      "outputs": []
    },
    {
      "metadata": {
        "id": "uq5K621edgdw",
        "colab_type": "code",
        "colab": {}
      },
      "cell_type": "code",
      "source": [
        "\n",
        "donationsbike2016[\t'Participant_Contact_ID'\t]=donationsbike2016[\t'Participant_Contact_ID'\t].astype('int')\n",
        "\n",
        "donationsbike2016['Additional_Gift_Amount($)']=pd.to_numeric(donationsbike2016['Additional_Gift_Amount($)'], errors='coerce')\n",
        "donationsbike2016=donationsbike2016.dropna(subset = ['Additional_Gift_Amount($)'])\n",
        "\n",
        "donationsbike2016[\t'Event_ID'\t]=pd.to_numeric(donationsbike2016[\t'Event_ID'\t], errors='coerce')\n",
        "donationsbike2016=donationsbike2016.dropna(subset = [\t'Event_ID'\t])\n",
        "\n",
        "donationsbike2016[\t'Donor_Member_ID'\t]=pd.to_numeric(donationsbike2016[\t'Donor_Member_ID'\t], errors='coerce')\n",
        "donationsbike2016=donationsbike2016.dropna(subset = [\t'Donor_Member_ID'\t])\n",
        "\n",
        "donationsbike2016[\t    'Campaign_ID'\t]=pd.to_numeric(donationsbike2016[\t    'Campaign_ID'\t], errors='coerce')\n",
        "donationsbike2016=donationsbike2016.dropna(subset = [\t    'Campaign_ID'\t])\n",
        "\n",
        "donationsbike2016[\t'Donor_ConsID'\t]=pd.to_numeric(donationsbike2016[\t'Donor_ConsID'\t], errors='coerce')\n",
        "donationsbike2016=donationsbike2016.dropna(subset = [\t'Donor_ConsID'\t])\n",
        "\n",
        "donationsbike2016[\t'Donor_ZIP'\t]=pd.to_numeric(donationsbike2016[\t'Donor_ZIP'\t], errors='coerce')\n",
        "donationsbike2016=donationsbike2016.dropna(subset = [\t'Donor_ZIP'\t])\n",
        "\n",
        "donationsbike2016[\t'Participant_Member_ID'\t]=pd.to_numeric(donationsbike2016[\t'Participant_Member_ID'\t], errors='coerce')\n",
        "donationsbike2016=donationsbike2016.dropna(subset = [\t'Participant_Member_ID'\t])\n",
        "\n",
        "donationsbike2016[\t'Gift_Amount($)'\t]=donationsbike2016[\t'Gift_Amount($)'\t].astype('float')\n",
        "donationsbike2016[\t'Participant_Goal($)']=\tdonationsbike2016[\t'Participant_Goal($)'\t].astype('float')\n",
        "donationsbike2016[\t'Additional_Gift_Amount($)']=\tdonationsbike2016[\t'Additional_Gift_Amount($)'\t].astype('float')\n",
        "donationsbike2016[\t'Campaign_ID'\t]=donationsbike2016[\t'Campaign_ID'\t].astype('int')\n",
        "donationsbike2016[\t'Donor_Member_ID'\t]=donationsbike2016[\t'Donor_Member_ID'\t].astype('int')\n",
        "donationsbike2016[\t'Donor_ZIP'\t]=donationsbike2016[\t'Donor_ZIP'\t].astype('int')\n",
        "donationsbike2016[\t'Participant_Member_ID'\t]=donationsbike2016[\t'Participant_Member_ID'\t].astype('int')\n",
        "donationsbike2016[\t'Donor_ConsID'\t]=donationsbike2016[\t'Donor_ConsID'\t].astype('int')"
      ],
      "execution_count": 0,
      "outputs": []
    },
    {
      "metadata": {
        "id": "wb7O31jzecER",
        "colab_type": "code",
        "colab": {
          "base_uri": "https://localhost:8080/",
          "height": 146
        },
        "outputId": "37f23f5f-a555-4e41-cb93-f14443ae66dd"
      },
      "cell_type": "code",
      "source": [
        "donationsbike2016[donationsbike2016['Event_Date']=='4/16+2016 13:18']"
      ],
      "execution_count": 66,
      "outputs": [
        {
          "output_type": "execute_result",
          "data": {
            "text/html": [
              "<div>\n",
              "<style scoped>\n",
              "    .dataframe tbody tr th:only-of-type {\n",
              "        vertical-align: middle;\n",
              "    }\n",
              "\n",
              "    .dataframe tbody tr th {\n",
              "        vertical-align: top;\n",
              "    }\n",
              "\n",
              "    .dataframe thead th {\n",
              "        text-align: right;\n",
              "    }\n",
              "</style>\n",
              "<table border=\"1\" class=\"dataframe\">\n",
              "  <thead>\n",
              "    <tr style=\"text-align: right;\">\n",
              "      <th></th>\n",
              "      <th>Security_Category_Name</th>\n",
              "      <th>Event_ID</th>\n",
              "      <th>Public_Event_Name</th>\n",
              "      <th>Fiscal_Year</th>\n",
              "      <th>Event_Date</th>\n",
              "      <th>Campaign_Title</th>\n",
              "      <th>Campaign_ID</th>\n",
              "      <th>Gift_Amount($)</th>\n",
              "      <th>Date_Recorded</th>\n",
              "      <th>Gift_Type</th>\n",
              "      <th>...</th>\n",
              "      <th>Team_Creation_Date</th>\n",
              "      <th>Original_Value_Transacted</th>\n",
              "      <th>Net_Transaction_Amount</th>\n",
              "      <th>Ledger_Transaction_Amount</th>\n",
              "      <th>Proxy_Type</th>\n",
              "      <th>User_Confirmation_Code</th>\n",
              "      <th>Source_Code_Type</th>\n",
              "      <th>Source_Code_Text</th>\n",
              "      <th>Sub_Source_Code_Text</th>\n",
              "      <th>Batch_ID</th>\n",
              "    </tr>\n",
              "  </thead>\n",
              "  <tbody>\n",
              "    <tr>\n",
              "      <th>484986</th>\n",
              "      <td>TXH Bike Events</td>\n",
              "      <td>27003</td>\n",
              "      <td>2016 BP MS 150</td>\n",
              "      <td>2016</td>\n",
              "      <td>4/16+2016 13:18</td>\n",
              "      <td>TXH 2016 Bike MS: BP MS 150</td>\n",
              "      <td>44120</td>\n",
              "      <td>75.0</td>\n",
              "      <td>12/30/2015 12:23</td>\n",
              "      <td>online</td>\n",
              "      <td>...</td>\n",
              "      <td>9/15/2015 12:41</td>\n",
              "      <td>175.0</td>\n",
              "      <td>175.0</td>\n",
              "      <td>175</td>\n",
              "      <td>TeamRaiser Participant</td>\n",
              "      <td>1638-44120-20-16239491-16988359</td>\n",
              "      <td>Unknown</td>\n",
              "      <td>Unknown</td>\n",
              "      <td>Unknown</td>\n",
              "      <td>Unknown</td>\n",
              "    </tr>\n",
              "  </tbody>\n",
              "</table>\n",
              "<p>1 rows × 49 columns</p>\n",
              "</div>"
            ],
            "text/plain": [
              "       Security_Category_Name  Event_ID Public_Event_Name Fiscal_Year  \\\n",
              "484986        TXH Bike Events     27003    2016 BP MS 150        2016   \n",
              "\n",
              "             Event_Date               Campaign_Title  Campaign_ID  \\\n",
              "484986  4/16+2016 13:18  TXH 2016 Bike MS: BP MS 150        44120   \n",
              "\n",
              "        Gift_Amount($)     Date_Recorded Gift_Type   ...     \\\n",
              "484986            75.0  12/30/2015 12:23    online   ...      \n",
              "\n",
              "       Team_Creation_Date Original_Value_Transacted Net_Transaction_Amount  \\\n",
              "484986    9/15/2015 12:41                     175.0                  175.0   \n",
              "\n",
              "       Ledger_Transaction_Amount              Proxy_Type  \\\n",
              "484986                       175  TeamRaiser Participant   \n",
              "\n",
              "                 User_Confirmation_Code Source_Code_Type Source_Code_Text  \\\n",
              "484986  1638-44120-20-16239491-16988359          Unknown          Unknown   \n",
              "\n",
              "       Sub_Source_Code_Text Batch_ID  \n",
              "484986              Unknown  Unknown  \n",
              "\n",
              "[1 rows x 49 columns]"
            ]
          },
          "metadata": {
            "tags": []
          },
          "execution_count": 66
        }
      ]
    },
    {
      "metadata": {
        "id": "xXMEp78yeg0o",
        "colab_type": "code",
        "colab": {}
      },
      "cell_type": "code",
      "source": [
        "donationsbike2016.loc[484986,['Event_Date']]='4/16/2016 13:18'"
      ],
      "execution_count": 0,
      "outputs": []
    },
    {
      "metadata": {
        "id": "GHdhqks3fHyi",
        "colab_type": "code",
        "colab": {
          "base_uri": "https://localhost:8080/",
          "height": 180
        },
        "outputId": "1bd41283-9358-4388-dfa2-e7ea2e2d37f7"
      },
      "cell_type": "code",
      "source": [
        "#'(100'\n",
        "donationsbike2016[donationsbike2016['Team_Creation_Date']=='(100']"
      ],
      "execution_count": 75,
      "outputs": [
        {
          "output_type": "execute_result",
          "data": {
            "text/html": [
              "<div>\n",
              "<style scoped>\n",
              "    .dataframe tbody tr th:only-of-type {\n",
              "        vertical-align: middle;\n",
              "    }\n",
              "\n",
              "    .dataframe tbody tr th {\n",
              "        vertical-align: top;\n",
              "    }\n",
              "\n",
              "    .dataframe thead th {\n",
              "        text-align: right;\n",
              "    }\n",
              "</style>\n",
              "<table border=\"1\" class=\"dataframe\">\n",
              "  <thead>\n",
              "    <tr style=\"text-align: right;\">\n",
              "      <th></th>\n",
              "      <th>Security_Category_Name</th>\n",
              "      <th>Event_ID</th>\n",
              "      <th>Public_Event_Name</th>\n",
              "      <th>Fiscal_Year</th>\n",
              "      <th>Event_Date</th>\n",
              "      <th>Campaign_Title</th>\n",
              "      <th>Campaign_ID</th>\n",
              "      <th>Gift_Amount($)</th>\n",
              "      <th>Date_Recorded</th>\n",
              "      <th>Gift_Type</th>\n",
              "      <th>...</th>\n",
              "      <th>Team_Creation_Date</th>\n",
              "      <th>Original_Value_Transacted</th>\n",
              "      <th>Net_Transaction_Amount</th>\n",
              "      <th>Ledger_Transaction_Amount</th>\n",
              "      <th>Proxy_Type</th>\n",
              "      <th>User_Confirmation_Code</th>\n",
              "      <th>Source_Code_Type</th>\n",
              "      <th>Source_Code_Text</th>\n",
              "      <th>Sub_Source_Code_Text</th>\n",
              "      <th>Batch_ID</th>\n",
              "    </tr>\n",
              "  </thead>\n",
              "  <tbody>\n",
              "    <tr>\n",
              "      <th>553994</th>\n",
              "      <td>TXH Bike Events</td>\n",
              "      <td>27003</td>\n",
              "      <td>2016 BP MS 150</td>\n",
              "      <td>2016</td>\n",
              "      <td>2016-04-16 13:18:00</td>\n",
              "      <td>TXH 2016 Bike MS: BP MS 150</td>\n",
              "      <td>44120</td>\n",
              "      <td>100.0</td>\n",
              "      <td>2016-04-13 19:21:00</td>\n",
              "      <td>online</td>\n",
              "      <td>...</td>\n",
              "      <td>(100</td>\n",
              "      <td>100.0</td>\n",
              "      <td>100.0</td>\n",
              "      <td>TeamRaiser Participant</td>\n",
              "      <td>1638-44120-1-16769191-17589979</td>\n",
              "      <td>Unknown</td>\n",
              "      <td>Unknown</td>\n",
              "      <td>Unknown</td>\n",
              "      <td>Unknown</td>\n",
              "      <td>Unknown</td>\n",
              "    </tr>\n",
              "  </tbody>\n",
              "</table>\n",
              "<p>1 rows × 49 columns</p>\n",
              "</div>"
            ],
            "text/plain": [
              "       Security_Category_Name  Event_ID Public_Event_Name Fiscal_Year  \\\n",
              "553994        TXH Bike Events     27003    2016 BP MS 150        2016   \n",
              "\n",
              "                Event_Date               Campaign_Title  Campaign_ID  \\\n",
              "553994 2016-04-16 13:18:00  TXH 2016 Bike MS: BP MS 150        44120   \n",
              "\n",
              "        Gift_Amount($)       Date_Recorded Gift_Type   ...     \\\n",
              "553994           100.0 2016-04-13 19:21:00    online   ...      \n",
              "\n",
              "       Team_Creation_Date Original_Value_Transacted Net_Transaction_Amount  \\\n",
              "553994               (100                     100.0                  100.0   \n",
              "\n",
              "       Ledger_Transaction_Amount                      Proxy_Type  \\\n",
              "553994    TeamRaiser Participant  1638-44120-1-16769191-17589979   \n",
              "\n",
              "        User_Confirmation_Code Source_Code_Type Source_Code_Text  \\\n",
              "553994                 Unknown          Unknown          Unknown   \n",
              "\n",
              "       Sub_Source_Code_Text Batch_ID  \n",
              "553994              Unknown  Unknown  \n",
              "\n",
              "[1 rows x 49 columns]"
            ]
          },
          "metadata": {
            "tags": []
          },
          "execution_count": 75
        }
      ]
    },
    {
      "metadata": {
        "id": "gNEdtpXBfPvS",
        "colab_type": "code",
        "colab": {}
      },
      "cell_type": "code",
      "source": [
        "donationsbike2016.drop(553994,inplace=True)"
      ],
      "execution_count": 0,
      "outputs": []
    },
    {
      "metadata": {
        "id": "tL3Q3tJBdimh",
        "colab_type": "code",
        "colab": {}
      },
      "cell_type": "code",
      "source": [
        "\n",
        "#donationsbike2016[\t'Event_Date'\t]=pd.to_datetime(donationsbike2016[\t'Event_Date'\t],format=\"%m/%d/%Y %H:%M\")\n",
        "#donationsbike2016[\t'Date_Recorded'\t]=pd.to_datetime(donationsbike2016[\t'Date_Recorded'\t],format=\"%m/%d/%Y %H:%M\")\n",
        "#donationsbike2016[\t'Donor_Opt-out_Date'\t]=pd.to_datetime(donationsbike2016[\t'Donor_Opt-out_Date'\t],format=\"%m/%d/%Y %H:%M\")\n",
        "#donationsbike2016[\t'Registration_Date'\t]=pd.to_datetime(donationsbike2016[\t'Registration_Date'\t],format=\"%m/%d/%Y %H:%M\")\n",
        "donationsbike2016[\t'Team_Creation_Date'\t]=pd.to_datetime(donationsbike2016[\t'Team_Creation_Date'\t],format=\"%m/%d/%Y %H:%M\")\n"
      ],
      "execution_count": 0,
      "outputs": []
    },
    {
      "metadata": {
        "id": "DIwKe-KfHHpZ",
        "colab_type": "code",
        "colab": {}
      },
      "cell_type": "code",
      "source": [
        "from google.colab import files\n",
        "donationsbike2016.to_csv('donationsbike2016_clean.csv')"
      ],
      "execution_count": 0,
      "outputs": []
    },
    {
      "metadata": {
        "id": "PnBgZLxEHN_X",
        "colab_type": "code",
        "colab": {
          "base_uri": "https://localhost:8080/",
          "height": 34
        },
        "outputId": "2b7cb4ce-4b2b-4f92-ec02-7ccc660a0b65"
      },
      "cell_type": "code",
      "source": [
        "# Create & upload a file.\n",
        "uploaded = drive.CreateFile({'title': 'donationsbike2016_clean.csv'})\n",
        "uploaded.SetContentFile('donationsbike2016_clean.csv')\n",
        "uploaded.Upload()\n",
        "print('Uploaded file with ID {}'.format(uploaded.get('id')))"
      ],
      "execution_count": 79,
      "outputs": [
        {
          "output_type": "stream",
          "text": [
            "Uploaded file with ID 1PprsMwobIyGayurdT0knujWRfGghpOZ4\n"
          ],
          "name": "stdout"
        }
      ]
    },
    {
      "metadata": {
        "id": "5Xo5NBamHOoE",
        "colab_type": "text"
      },
      "cell_type": "markdown",
      "source": [
        "                                  ------------------------------------- 2016 finished ------------------------------------------"
      ]
    },
    {
      "metadata": {
        "id": "XoWGPHkrFAAj",
        "colab_type": "code",
        "colab": {}
      },
      "cell_type": "code",
      "source": [
        "donationsbike2015=donationsbike2015.dropna(subset = ['Event_Date'])\n",
        "donationsbike2015=donationsbike2015.fillna({'Gift_Payment_Method':'Credit Card','Offline_Status':'Not_Applicable','Donor_Member_ID':0,'Donor_ZIP':999999,'Participant_Contact_ID':0,'Donor_Connection_to_MS':'Other','Participant_Member_ID':0,'Fiscal_Year':0,'Donor_ConsID'\t:0,'Donor_Opt-out_Date':'01/01/2000 00:00','Registration_Date':'01/01/2000 00:00','Team_Creation_Date':'01/01/2000 00:00'})\n",
        "donationsbike2015=donationsbike2015.fillna('Unknown')\n"
      ],
      "execution_count": 0,
      "outputs": []
    },
    {
      "metadata": {
        "id": "CZhMhXOoY7y_",
        "colab_type": "code",
        "colab": {}
      },
      "cell_type": "code",
      "source": [
        "donationsbike2015[\t'Security_Category_Name'\t]=donationsbike2015[\t'Security_Category_Name'\t].astype('category')\n",
        "donationsbike2015[\t'Public_Event_Name'\t]=donationsbike2015[\t'Public_Event_Name'\t].astype('category')\n",
        "donationsbike2015[\t'Campaign_Title'\t]=donationsbike2015[\t'Campaign_Title'\t].astype('category')\n",
        "donationsbike2015[\t'Gift_Type'\t]=donationsbike2015[\t'Gift_Type'\t].astype('category')\n",
        "donationsbike2015[\t'Offline_Status'\t]=donationsbike2015[\t'Offline_Status'\t].astype('category')\n",
        "donationsbike2015[\t'Is_Registration?'\t]=donationsbike2015[\t'Is_Registration?'\t].astype('category')\n",
        "donationsbike2015[\t'Donor_Affiliate_Code'\t]=donationsbike2015[\t'Donor_Affiliate_Code'\t].astype('category')\n",
        "donationsbike2015[\t'Donor_Gender'\t]=donationsbike2015[\t'Donor_Gender'\t].astype('category')\n",
        "donationsbike2015[\t'Donor_Accept_Email'\t]=donationsbike2015[\t'Donor_Accept_Email'\t].astype('category')\n",
        "donationsbike2015[\t'Donor_Opt-out_Method'\t]=donationsbike2015[\t'Donor_Opt-out_Method'\t].astype('category')\n",
        "donationsbike2015[\t'Donor_Email_Status'\t]=donationsbike2015[\t'Donor_Email_Status'\t].astype('category')\n",
        "donationsbike2015[\t'Donor_City'\t]=donationsbike2015[\t'Donor_City'\t].astype('category')\n",
        "donationsbike2015[\t'Donor_State'\t]=donationsbike2015[\t'Donor_State'\t].astype('category')\n",
        "donationsbike2015[\t'Donor_County'\t]=donationsbike2015[\t'Donor_County'\t].astype('category')\n",
        "donationsbike2015[\t'Donor_Employer'\t]=donationsbike2015[\t'Donor_Employer'\t].astype('category')\n",
        "donationsbike2015[\t'Donor_Connection_to_MS'\t]=donationsbike2015[\t'Donor_Connection_to_MS'\t].astype('category')\n",
        "donationsbike2015[\t'Participation_Type_Name'\t]=donationsbike2015[\t'Participation_Type_Name'\t].astype('category')\n",
        "donationsbike2015[\t'Registration_Active_Status'\t]=donationsbike2015[\t'Registration_Active_Status'\t].astype('category')\n",
        "donationsbike2015[\t'Is_Prior_Participant'\t]=donationsbike2015[\t'Is_Prior_Participant'\t].astype('category')\n",
        "donationsbike2015[\t'Is_Team_Captain'\t]=donationsbike2015[\t'Is_Team_Captain'\t].astype('category')\n",
        "donationsbike2015[\t'Team_Name'\t]=donationsbike2015[\t'Team_Name'\t].astype('category')\n",
        "donationsbike2015[\t'Team'\t]=donationsbike2015[\t'Team'\t].astype('category')\n",
        "donationsbike2015[\t'Proxy_Type'\t]=donationsbike2015[\t'Proxy_Type'\t].astype('category')\n",
        "donationsbike2015[\t'User_Confirmation_Code'\t]=donationsbike2015[\t'User_Confirmation_Code'\t].astype('category')\n",
        "donationsbike2015[\t'Source_Code_Text'\t]=donationsbike2015[\t'Source_Code_Text'\t].astype('category')\n",
        "donationsbike2015[\t'Sub_Source_Code_Text'\t]=donationsbike2015[\t'Sub_Source_Code_Text'\t].astype('category')\n",
        "donationsbike2015[\t'Source_Code_Type'\t]=donationsbike2015[\t'Source_Code_Type'\t].astype('category')\n",
        "donationsbike2015[\t'Batch_ID'\t]=donationsbike2015[\t'Batch_ID'\t].astype('category')"
      ],
      "execution_count": 0,
      "outputs": []
    },
    {
      "metadata": {
        "id": "AlICR2yuY958",
        "colab_type": "code",
        "colab": {}
      },
      "cell_type": "code",
      "source": [
        "\n",
        "donationsbike2015[\t'Participant_Contact_ID'\t]=donationsbike2015[\t'Participant_Contact_ID'\t].astype('int')\n",
        "\n",
        "donationsbike2015['Additional_Gift_Amount($)']=pd.to_numeric(donationsbike2015['Additional_Gift_Amount($)'], errors='coerce')\n",
        "donationsbike2015=donationsbike2015.dropna(subset = ['Additional_Gift_Amount($)'])\n",
        "\n",
        "donationsbike2015[\t'Event_ID'\t]=pd.to_numeric(donationsbike2015[\t'Event_ID'\t], errors='coerce')\n",
        "donationsbike2015=donationsbike2015.dropna(subset = [\t'Event_ID'\t])\n",
        "\n",
        "donationsbike2015[\t'Donor_Member_ID'\t]=pd.to_numeric(donationsbike2015[\t'Donor_Member_ID'\t], errors='coerce')\n",
        "donationsbike2015=donationsbike2015.dropna(subset = [\t'Donor_Member_ID'\t])\n",
        "\n",
        "donationsbike2015[\t    'Campaign_ID'\t]=pd.to_numeric(donationsbike2015[\t    'Campaign_ID'\t], errors='coerce')\n",
        "donationsbike2015=donationsbike2015.dropna(subset = [\t    'Campaign_ID'\t])\n",
        "\n",
        "donationsbike2015[\t'Donor_ConsID'\t]=pd.to_numeric(donationsbike2015[\t'Donor_ConsID'\t], errors='coerce')\n",
        "donationsbike2015=donationsbike2015.dropna(subset = [\t'Donor_ConsID'\t])\n",
        "\n",
        "donationsbike2015[\t'Donor_ZIP'\t]=pd.to_numeric(donationsbike2015[\t'Donor_ZIP'\t], errors='coerce')\n",
        "donationsbike2015=donationsbike2015.dropna(subset = [\t'Donor_ZIP'\t])\n",
        "\n",
        "donationsbike2015[\t'Participant_Member_ID'\t]=pd.to_numeric(donationsbike2015[\t'Participant_Member_ID'\t], errors='coerce')\n",
        "donationsbike2015=donationsbike2015.dropna(subset = [\t'Participant_Member_ID'\t])\n",
        "\n",
        "donationsbike2015[\t'Gift_Amount($)'\t]=donationsbike2015[\t'Gift_Amount($)'\t].astype('float')\n",
        "donationsbike2015[\t'Participant_Goal($)']=\tdonationsbike2015[\t'Participant_Goal($)'\t].astype('float')\n",
        "donationsbike2015[\t'Additional_Gift_Amount($)']=\tdonationsbike2015[\t'Additional_Gift_Amount($)'\t].astype('float')\n",
        "donationsbike2015[\t'Campaign_ID'\t]=donationsbike2015[\t'Campaign_ID'\t].astype('int')\n",
        "donationsbike2015[\t'Donor_Member_ID'\t]=donationsbike2015[\t'Donor_Member_ID'\t].astype('int')\n",
        "donationsbike2015[\t'Donor_ZIP'\t]=donationsbike2015[\t'Donor_ZIP'\t].astype('int')\n",
        "donationsbike2015[\t'Participant_Member_ID'\t]=donationsbike2015[\t'Participant_Member_ID'\t].astype('int')\n",
        "donationsbike2015[\t'Donor_ConsID'\t]=donationsbike2015[\t'Donor_ConsID'\t].astype('int')"
      ],
      "execution_count": 0,
      "outputs": []
    },
    {
      "metadata": {
        "id": "kUcCrYCSaBKE",
        "colab_type": "code",
        "colab": {
          "base_uri": "https://localhost:8080/",
          "height": 163
        },
        "outputId": "14bbc301-a36e-44fe-b2c5-53bbf0d0cf32"
      },
      "cell_type": "code",
      "source": [
        "donationsbike2015[donationsbike2015['Event_Date']=='8/1+2015 12:21']"
      ],
      "execution_count": 31,
      "outputs": [
        {
          "output_type": "execute_result",
          "data": {
            "text/html": [
              "<div>\n",
              "<style scoped>\n",
              "    .dataframe tbody tr th:only-of-type {\n",
              "        vertical-align: middle;\n",
              "    }\n",
              "\n",
              "    .dataframe tbody tr th {\n",
              "        vertical-align: top;\n",
              "    }\n",
              "\n",
              "    .dataframe thead th {\n",
              "        text-align: right;\n",
              "    }\n",
              "</style>\n",
              "<table border=\"1\" class=\"dataframe\">\n",
              "  <thead>\n",
              "    <tr style=\"text-align: right;\">\n",
              "      <th></th>\n",
              "      <th>Security_Category_Name</th>\n",
              "      <th>Event_ID</th>\n",
              "      <th>Public_Event_Name</th>\n",
              "      <th>Fiscal_Year</th>\n",
              "      <th>Event_Date</th>\n",
              "      <th>Campaign_Title</th>\n",
              "      <th>Campaign_ID</th>\n",
              "      <th>Gift_Amount($)</th>\n",
              "      <th>Date_Recorded</th>\n",
              "      <th>Gift_Type</th>\n",
              "      <th>...</th>\n",
              "      <th>Team_Creation_Date</th>\n",
              "      <th>Original_Value_Transacted</th>\n",
              "      <th>Net_Transaction_Amount</th>\n",
              "      <th>Ledger_Transaction_Amount</th>\n",
              "      <th>Proxy_Type</th>\n",
              "      <th>User_Confirmation_Code</th>\n",
              "      <th>Source_Code_Type</th>\n",
              "      <th>Source_Code_Text</th>\n",
              "      <th>Sub_Source_Code_Text</th>\n",
              "      <th>Batch_ID</th>\n",
              "    </tr>\n",
              "  </thead>\n",
              "  <tbody>\n",
              "    <tr>\n",
              "      <th>775038</th>\n",
              "      <td>WIG Bike Events</td>\n",
              "      <td>24838</td>\n",
              "      <td>Bike MS: TOYOTA Best Dam Bike Tour 2015</td>\n",
              "      <td>2015</td>\n",
              "      <td>8/1+2015 12:21</td>\n",
              "      <td>WIG Bike Donation Campaign</td>\n",
              "      <td>35582</td>\n",
              "      <td>50.0</td>\n",
              "      <td>9/1/2015 0:00</td>\n",
              "      <td>offline</td>\n",
              "      <td>...</td>\n",
              "      <td>8/6/2014 10:11</td>\n",
              "      <td>50.0</td>\n",
              "      <td>50</td>\n",
              "      <td>50</td>\n",
              "      <td>TeamRaiser Participant</td>\n",
              "      <td>1638-35582-1-15958851-16677134</td>\n",
              "      <td>Unknown</td>\n",
              "      <td>Unknown</td>\n",
              "      <td>Unknown</td>\n",
              "      <td>WIG09022015KAKDP16545S</td>\n",
              "    </tr>\n",
              "  </tbody>\n",
              "</table>\n",
              "<p>1 rows × 49 columns</p>\n",
              "</div>"
            ],
            "text/plain": [
              "       Security_Category_Name  Event_ID  \\\n",
              "775038        WIG Bike Events     24838   \n",
              "\n",
              "                              Public_Event_Name  Fiscal_Year      Event_Date  \\\n",
              "775038  Bike MS: TOYOTA Best Dam Bike Tour 2015         2015  8/1+2015 12:21   \n",
              "\n",
              "                    Campaign_Title  Campaign_ID  Gift_Amount($)  \\\n",
              "775038  WIG Bike Donation Campaign        35582            50.0   \n",
              "\n",
              "        Date_Recorded Gift_Type           ...           Team_Creation_Date  \\\n",
              "775038  9/1/2015 0:00   offline           ...               8/6/2014 10:11   \n",
              "\n",
              "       Original_Value_Transacted Net_Transaction_Amount  \\\n",
              "775038                      50.0                     50   \n",
              "\n",
              "       Ledger_Transaction_Amount              Proxy_Type  \\\n",
              "775038                        50  TeamRaiser Participant   \n",
              "\n",
              "                User_Confirmation_Code Source_Code_Type Source_Code_Text  \\\n",
              "775038  1638-35582-1-15958851-16677134          Unknown          Unknown   \n",
              "\n",
              "       Sub_Source_Code_Text                Batch_ID  \n",
              "775038              Unknown  WIG09022015KAKDP16545S  \n",
              "\n",
              "[1 rows x 49 columns]"
            ]
          },
          "metadata": {
            "tags": []
          },
          "execution_count": 31
        }
      ]
    },
    {
      "metadata": {
        "id": "pVXPDnmraLnD",
        "colab_type": "text"
      },
      "cell_type": "markdown",
      "source": [
        "Since this is not a valid date and 1+ can be anything, we will drop this row"
      ]
    },
    {
      "metadata": {
        "id": "EQiOY-36aZhO",
        "colab_type": "code",
        "colab": {}
      },
      "cell_type": "code",
      "source": [
        "donationsbike2015.drop(775038,inplace=True)"
      ],
      "execution_count": 0,
      "outputs": []
    },
    {
      "metadata": {
        "id": "SCPZzgAfbeyi",
        "colab_type": "code",
        "colab": {
          "base_uri": "https://localhost:8080/",
          "height": 163
        },
        "outputId": "18eca0fc-37f3-42b3-dcb2-6aad11fb72a2"
      },
      "cell_type": "code",
      "source": [
        "\n",
        "donationsbike2015[donationsbike2015[\t'Registration_Date'\t]=='3/17+2015 15:04']"
      ],
      "execution_count": 52,
      "outputs": [
        {
          "output_type": "execute_result",
          "data": {
            "text/html": [
              "<div>\n",
              "<style scoped>\n",
              "    .dataframe tbody tr th:only-of-type {\n",
              "        vertical-align: middle;\n",
              "    }\n",
              "\n",
              "    .dataframe tbody tr th {\n",
              "        vertical-align: top;\n",
              "    }\n",
              "\n",
              "    .dataframe thead th {\n",
              "        text-align: right;\n",
              "    }\n",
              "</style>\n",
              "<table border=\"1\" class=\"dataframe\">\n",
              "  <thead>\n",
              "    <tr style=\"text-align: right;\">\n",
              "      <th></th>\n",
              "      <th>Security_Category_Name</th>\n",
              "      <th>Event_ID</th>\n",
              "      <th>Public_Event_Name</th>\n",
              "      <th>Fiscal_Year</th>\n",
              "      <th>Event_Date</th>\n",
              "      <th>Campaign_Title</th>\n",
              "      <th>Campaign_ID</th>\n",
              "      <th>Gift_Amount($)</th>\n",
              "      <th>Date_Recorded</th>\n",
              "      <th>Gift_Type</th>\n",
              "      <th>...</th>\n",
              "      <th>Team_Creation_Date</th>\n",
              "      <th>Original_Value_Transacted</th>\n",
              "      <th>Net_Transaction_Amount</th>\n",
              "      <th>Ledger_Transaction_Amount</th>\n",
              "      <th>Proxy_Type</th>\n",
              "      <th>User_Confirmation_Code</th>\n",
              "      <th>Source_Code_Type</th>\n",
              "      <th>Source_Code_Text</th>\n",
              "      <th>Sub_Source_Code_Text</th>\n",
              "      <th>Batch_ID</th>\n",
              "    </tr>\n",
              "  </thead>\n",
              "  <tbody>\n",
              "    <tr>\n",
              "      <th>437804</th>\n",
              "      <td>PAE Bike Events</td>\n",
              "      <td>25223</td>\n",
              "      <td>Bike MS: City to Shore Ride 2015</td>\n",
              "      <td>2015</td>\n",
              "      <td>2015-09-26 10:47:00</td>\n",
              "      <td>PAE Bike MS 2015 Donation Campaign</td>\n",
              "      <td>41715</td>\n",
              "      <td>50.0</td>\n",
              "      <td>2015-09-16 20:02:00</td>\n",
              "      <td>online</td>\n",
              "      <td>...</td>\n",
              "      <td>1/20/2015 7:01</td>\n",
              "      <td>50.0</td>\n",
              "      <td>50</td>\n",
              "      <td>50</td>\n",
              "      <td>TeamRaiser Participant</td>\n",
              "      <td>1638-41715-1-16014136-16737262</td>\n",
              "      <td>Unknown</td>\n",
              "      <td>Unknown</td>\n",
              "      <td>Unknown</td>\n",
              "      <td>Unknown</td>\n",
              "    </tr>\n",
              "  </tbody>\n",
              "</table>\n",
              "<p>1 rows × 49 columns</p>\n",
              "</div>"
            ],
            "text/plain": [
              "       Security_Category_Name  Event_ID                 Public_Event_Name  \\\n",
              "437804        PAE Bike Events     25223  Bike MS: City to Shore Ride 2015   \n",
              "\n",
              "        Fiscal_Year          Event_Date                      Campaign_Title  \\\n",
              "437804         2015 2015-09-26 10:47:00  PAE Bike MS 2015 Donation Campaign   \n",
              "\n",
              "        Campaign_ID  Gift_Amount($)       Date_Recorded Gift_Type   ...     \\\n",
              "437804        41715            50.0 2015-09-16 20:02:00    online   ...      \n",
              "\n",
              "       Team_Creation_Date Original_Value_Transacted Net_Transaction_Amount  \\\n",
              "437804     1/20/2015 7:01                      50.0                     50   \n",
              "\n",
              "       Ledger_Transaction_Amount              Proxy_Type  \\\n",
              "437804                        50  TeamRaiser Participant   \n",
              "\n",
              "                User_Confirmation_Code Source_Code_Type Source_Code_Text  \\\n",
              "437804  1638-41715-1-16014136-16737262          Unknown          Unknown   \n",
              "\n",
              "       Sub_Source_Code_Text Batch_ID  \n",
              "437804              Unknown  Unknown  \n",
              "\n",
              "[1 rows x 49 columns]"
            ]
          },
          "metadata": {
            "tags": []
          },
          "execution_count": 52
        }
      ]
    },
    {
      "metadata": {
        "id": "jGDkQVTdanh9",
        "colab_type": "code",
        "colab": {
          "base_uri": "https://localhost:8080/",
          "height": 163
        },
        "outputId": "13585b1f-6e4e-4c81-de06-af337fb0fdcd"
      },
      "cell_type": "code",
      "source": [
        "donationsbike2015[donationsbike2015[\t'Date_Recorded'\t]=='8/20+2015 19:17']"
      ],
      "execution_count": 35,
      "outputs": [
        {
          "output_type": "execute_result",
          "data": {
            "text/html": [
              "<div>\n",
              "<style scoped>\n",
              "    .dataframe tbody tr th:only-of-type {\n",
              "        vertical-align: middle;\n",
              "    }\n",
              "\n",
              "    .dataframe tbody tr th {\n",
              "        vertical-align: top;\n",
              "    }\n",
              "\n",
              "    .dataframe thead th {\n",
              "        text-align: right;\n",
              "    }\n",
              "</style>\n",
              "<table border=\"1\" class=\"dataframe\">\n",
              "  <thead>\n",
              "    <tr style=\"text-align: right;\">\n",
              "      <th></th>\n",
              "      <th>Security_Category_Name</th>\n",
              "      <th>Event_ID</th>\n",
              "      <th>Public_Event_Name</th>\n",
              "      <th>Fiscal_Year</th>\n",
              "      <th>Event_Date</th>\n",
              "      <th>Campaign_Title</th>\n",
              "      <th>Campaign_ID</th>\n",
              "      <th>Gift_Amount($)</th>\n",
              "      <th>Date_Recorded</th>\n",
              "      <th>Gift_Type</th>\n",
              "      <th>...</th>\n",
              "      <th>Team_Creation_Date</th>\n",
              "      <th>Original_Value_Transacted</th>\n",
              "      <th>Net_Transaction_Amount</th>\n",
              "      <th>Ledger_Transaction_Amount</th>\n",
              "      <th>Proxy_Type</th>\n",
              "      <th>User_Confirmation_Code</th>\n",
              "      <th>Source_Code_Type</th>\n",
              "      <th>Source_Code_Text</th>\n",
              "      <th>Sub_Source_Code_Text</th>\n",
              "      <th>Batch_ID</th>\n",
              "    </tr>\n",
              "  </thead>\n",
              "  <tbody>\n",
              "    <tr>\n",
              "      <th>422012</th>\n",
              "      <td>OHG Bike Events</td>\n",
              "      <td>24907</td>\n",
              "      <td>Ohio - Bike MS: Venture the Valley 2015</td>\n",
              "      <td>2015</td>\n",
              "      <td>2015-08-22 13:10:00</td>\n",
              "      <td>OHG 2015 Bike Donation Campaign</td>\n",
              "      <td>41455</td>\n",
              "      <td>35.0</td>\n",
              "      <td>8/20+2015 19:17</td>\n",
              "      <td>online</td>\n",
              "      <td>...</td>\n",
              "      <td>3/13/2015 15:10</td>\n",
              "      <td>35.0</td>\n",
              "      <td>35</td>\n",
              "      <td>35</td>\n",
              "      <td>TeamRaiser Participant</td>\n",
              "      <td>1638-41455-1-15877004-16587399</td>\n",
              "      <td>Unknown</td>\n",
              "      <td>Unknown</td>\n",
              "      <td>Unknown</td>\n",
              "      <td>Unknown</td>\n",
              "    </tr>\n",
              "  </tbody>\n",
              "</table>\n",
              "<p>1 rows × 49 columns</p>\n",
              "</div>"
            ],
            "text/plain": [
              "       Security_Category_Name  Event_ID  \\\n",
              "422012        OHG Bike Events     24907   \n",
              "\n",
              "                              Public_Event_Name  Fiscal_Year  \\\n",
              "422012  Ohio - Bike MS: Venture the Valley 2015         2015   \n",
              "\n",
              "                Event_Date                    Campaign_Title  Campaign_ID  \\\n",
              "422012 2015-08-22 13:10:00  OHG 2015 Bike Donation Campaign         41455   \n",
              "\n",
              "        Gift_Amount($)    Date_Recorded Gift_Type   ...    Team_Creation_Date  \\\n",
              "422012            35.0  8/20+2015 19:17    online   ...       3/13/2015 15:10   \n",
              "\n",
              "       Original_Value_Transacted Net_Transaction_Amount  \\\n",
              "422012                      35.0                     35   \n",
              "\n",
              "       Ledger_Transaction_Amount              Proxy_Type  \\\n",
              "422012                        35  TeamRaiser Participant   \n",
              "\n",
              "                User_Confirmation_Code Source_Code_Type Source_Code_Text  \\\n",
              "422012  1638-41455-1-15877004-16587399          Unknown          Unknown   \n",
              "\n",
              "       Sub_Source_Code_Text Batch_ID  \n",
              "422012              Unknown  Unknown  \n",
              "\n",
              "[1 rows x 49 columns]"
            ]
          },
          "metadata": {
            "tags": []
          },
          "execution_count": 35
        }
      ]
    },
    {
      "metadata": {
        "id": "btOPK5HaawKX",
        "colab_type": "code",
        "colab": {}
      },
      "cell_type": "code",
      "source": [
        "#invalid date, it cannot be anything except 8/20/2015\n",
        "donationsbike2015.loc[422012,['Date_Recorded']]='8/20/2015 19:17'\n",
        "#similiarly for other dates\n",
        "donationsbike2015.loc[450031,['Date_Recorded']]='9/22/2015 22:06'\n",
        "donationsbike2015.loc[294556\t,[\t'Registration_Date'\t]]='4/14/2015 16:44'\n",
        "donationsbike2015.loc[437804\t,[\t'Registration_Date'\t]]='3/17/2015 15:04'"
      ],
      "execution_count": 0,
      "outputs": []
    },
    {
      "metadata": {
        "id": "05Tn_BkrZA0K",
        "colab_type": "code",
        "colab": {}
      },
      "cell_type": "code",
      "source": [
        "donationsbike2015[\t'Event_Date'\t]=pd.to_datetime(donationsbike2015[\t'Event_Date'\t],format=\"%m/%d/%Y %H:%M\")\n",
        "donationsbike2015[\t'Date_Recorded'\t]=pd.to_datetime(donationsbike2015[\t'Date_Recorded'\t],format=\"%m/%d/%Y %H:%M\")\n",
        "donationsbike2015[\t'Donor_Opt-out_Date'\t]=pd.to_datetime(donationsbike2015[\t'Donor_Opt-out_Date'\t],format=\"%m/%d/%Y %H:%M\")\n",
        "donationsbike2015[\t'Registration_Date'\t]=pd.to_datetime(donationsbike2015[\t'Registration_Date'\t],format=\"%m/%d/%Y %H:%M\")\n",
        "donationsbike2015[\t'Team_Creation_Date'\t]=pd.to_datetime(donationsbike2015[\t'Team_Creation_Date'\t],format=\"%m/%d/%Y %H:%M\")"
      ],
      "execution_count": 0,
      "outputs": []
    },
    {
      "metadata": {
        "id": "5Gsap-iQGBHt",
        "colab_type": "code",
        "colab": {}
      },
      "cell_type": "code",
      "source": [
        "from google.colab import files\n",
        "donationsbike2015.to_csv('donationsbike2015_clean.csv')"
      ],
      "execution_count": 0,
      "outputs": []
    },
    {
      "metadata": {
        "id": "u4TAgOFsHzav",
        "colab_type": "code",
        "colab": {
          "base_uri": "https://localhost:8080/",
          "height": 34
        },
        "outputId": "02ac0528-c8e1-43c7-dc73-2b21975a8a1b"
      },
      "cell_type": "code",
      "source": [
        "# Create & upload a file.\n",
        "uploaded = drive.CreateFile({'title': 'donationsbike2015_clean.csv'})\n",
        "uploaded.SetContentFile('donationsbike2015_clean.csv')\n",
        "uploaded.Upload()\n",
        "print('Uploaded file with ID {}'.format(uploaded.get('id')))"
      ],
      "execution_count": 59,
      "outputs": [
        {
          "output_type": "stream",
          "text": [
            "Uploaded file with ID 17wi-qILuRHa3czHHBtvO0Hx6m1iD1r6V\n"
          ],
          "name": "stdout"
        }
      ]
    },
    {
      "metadata": {
        "id": "XLwkMpDaHvQx",
        "colab_type": "text"
      },
      "cell_type": "markdown",
      "source": [
        "                                  ------------------------------------- 2015 finished ------------------------------------------"
      ]
    },
    {
      "metadata": {
        "id": "xRfkbGR5H_FA",
        "colab_type": "code",
        "colab": {}
      },
      "cell_type": "code",
      "source": [
        "\n",
        "donationsbike2014=donationsbike2014.dropna(subset = ['Event_Date'])\n",
        "donationsbike2014=donationsbike2014.fillna({'Gift_Payment_Method':'Credit Card','Offline_Status':'Not_Applicable','Donor_Member_ID':0,'Donor_ZIP':999999,'Participant_Contact_ID':0,'Donor_Connection_to_MS':'Other','Participant_Member_ID':0,'Fiscal_Year':0,'Donor_ConsID'\t:0,'Donor_Opt-out_Date':'01/01/2000 00:00','Registration_Date':'01/01/2000 00:00','Team_Creation_Date':'01/01/2000 00:00'})\n",
        "donationsbike2014=donationsbike2014.fillna('Unknown')\n",
        "\n",
        "\n"
      ],
      "execution_count": 0,
      "outputs": []
    },
    {
      "metadata": {
        "id": "qHTeOjyP4sPx",
        "colab_type": "code",
        "colab": {}
      },
      "cell_type": "code",
      "source": [
        "\n",
        "donationsbike2014[\t'Security_Category_Name'\t]=donationsbike2014[\t'Security_Category_Name'\t].astype('category')\n",
        "donationsbike2014[\t'Public_Event_Name'\t]=donationsbike2014[\t'Public_Event_Name'\t].astype('category')\n",
        "donationsbike2014[\t'Campaign_Title'\t]=donationsbike2014[\t'Campaign_Title'\t].astype('category')\n",
        "donationsbike2014[\t'Gift_Type'\t]=donationsbike2014[\t'Gift_Type'\t].astype('category')\n",
        "donationsbike2014[\t'Offline_Status'\t]=donationsbike2014[\t'Offline_Status'\t].astype('category')\n",
        "donationsbike2014[\t'Is_Registration?'\t]=donationsbike2014[\t'Is_Registration?'\t].astype('category')\n",
        "donationsbike2014[\t'Donor_Affiliate_Code'\t]=donationsbike2014[\t'Donor_Affiliate_Code'\t].astype('category')\n",
        "donationsbike2014[\t'Donor_Gender'\t]=donationsbike2014[\t'Donor_Gender'\t].astype('category')\n",
        "donationsbike2014[\t'Donor_Accept_Email'\t]=donationsbike2014[\t'Donor_Accept_Email'\t].astype('category')\n",
        "donationsbike2014[\t'Donor_Opt-out_Method'\t]=donationsbike2014[\t'Donor_Opt-out_Method'\t].astype('category')\n",
        "donationsbike2014[\t'Donor_Email_Status'\t]=donationsbike2014[\t'Donor_Email_Status'\t].astype('category')\n",
        "donationsbike2014[\t'Donor_City'\t]=donationsbike2014[\t'Donor_City'\t].astype('category')\n",
        "donationsbike2014[\t'Donor_State'\t]=donationsbike2014[\t'Donor_State'\t].astype('category')\n",
        "donationsbike2014[\t'Donor_County'\t]=donationsbike2014[\t'Donor_County'\t].astype('category')\n",
        "donationsbike2014[\t'Donor_Employer'\t]=donationsbike2014[\t'Donor_Employer'\t].astype('category')\n",
        "donationsbike2014[\t'Donor_Connection_to_MS'\t]=donationsbike2014[\t'Donor_Connection_to_MS'\t].astype('category')\n",
        "donationsbike2014[\t'Participation_Type_Name'\t]=donationsbike2014[\t'Participation_Type_Name'\t].astype('category')\n",
        "donationsbike2014[\t'Registration_Active_Status'\t]=donationsbike2014[\t'Registration_Active_Status'\t].astype('category')\n",
        "donationsbike2014[\t'Is_Prior_Participant'\t]=donationsbike2014[\t'Is_Prior_Participant'\t].astype('category')\n",
        "donationsbike2014[\t'Is_Team_Captain'\t]=donationsbike2014[\t'Is_Team_Captain'\t].astype('category')\n",
        "donationsbike2014[\t'Team_Name'\t]=donationsbike2014[\t'Team_Name'\t].astype('category')\n",
        "donationsbike2014[\t'Team'\t]=donationsbike2014[\t'Team'\t].astype('category')\n",
        "donationsbike2014[\t'Proxy_Type'\t]=donationsbike2014[\t'Proxy_Type'\t].astype('category')\n",
        "donationsbike2014[\t'User_Confirmation_Code'\t]=donationsbike2014[\t'User_Confirmation_Code'\t].astype('category')\n",
        "donationsbike2014[\t'Source_Code_Text'\t]=donationsbike2014[\t'Source_Code_Text'\t].astype('category')\n",
        "donationsbike2014[\t'Sub_Source_Code_Text'\t]=donationsbike2014[\t'Sub_Source_Code_Text'\t].astype('category')\n",
        "donationsbike2014[\t'Source_Code_Type'\t]=donationsbike2014[\t'Source_Code_Type'\t].astype('category')\n",
        "donationsbike2014[\t'Batch_ID'\t]=donationsbike2014[\t'Batch_ID'\t].astype('category')"
      ],
      "execution_count": 0,
      "outputs": []
    },
    {
      "metadata": {
        "id": "qTLC-Mhk4wSo",
        "colab_type": "code",
        "colab": {}
      },
      "cell_type": "code",
      "source": [
        "\n",
        "\n",
        "donationsbike2014[\t'Participant_Contact_ID'\t]=donationsbike2014[\t'Participant_Contact_ID'\t].astype('int')\n",
        "\n",
        "donationsbike2014['Additional_Gift_Amount($)']=pd.to_numeric(donationsbike2014['Additional_Gift_Amount($)'], errors='coerce')\n",
        "donationsbike2014=donationsbike2014.dropna(subset = ['Additional_Gift_Amount($)'])\n",
        "\n",
        "\n",
        "donationsbike2014[\t'Event_ID'\t]=pd.to_numeric(donationsbike2014[\t'Event_ID'\t], errors='coerce')\n",
        "donationsbike2014=donationsbike2014.dropna(subset = [\t'Event_ID'\t])\n",
        "\n",
        "donationsbike2014[\t'Donor_Member_ID'\t]=pd.to_numeric(donationsbike2014[\t'Donor_Member_ID'\t], errors='coerce')\n",
        "donationsbike2014=donationsbike2014.dropna(subset = [\t'Donor_Member_ID'\t])\n",
        "\n",
        "\n",
        "donationsbike2014[\t    'Campaign_ID'\t]=pd.to_numeric(donationsbike2014[\t    'Campaign_ID'\t], errors='coerce')\n",
        "donationsbike2014=donationsbike2014.dropna(subset = [\t    'Campaign_ID'\t])\n",
        "\n",
        "\n",
        "\n",
        "donationsbike2014[\t'Donor_ConsID'\t]=pd.to_numeric(donationsbike2014[\t'Donor_ConsID'\t], errors='coerce')\n",
        "donationsbike2014=donationsbike2014.dropna(subset = [\t'Donor_ConsID'\t])\n",
        "\n",
        "\n",
        "\n",
        "donationsbike2014[\t'Donor_ZIP'\t]=pd.to_numeric(donationsbike2014[\t'Donor_ZIP'\t], errors='coerce')\n",
        "donationsbike2014=donationsbike2014.dropna(subset = [\t'Donor_ZIP'\t])\n",
        "\n",
        "donationsbike2014[\t'Participant_Member_ID'\t]=pd.to_numeric(donationsbike2014[\t'Participant_Member_ID'\t], errors='coerce')\n",
        "donationsbike2014=donationsbike2014.dropna(subset = [\t'Participant_Member_ID'\t])\n",
        "\n",
        "\n",
        "\n",
        "\n",
        "\n",
        "\n",
        "\n",
        "\n",
        "donationsbike2014[\t'Gift_Amount($)'\t]=donationsbike2014[\t'Gift_Amount($)'\t].astype('float')\n",
        "donationsbike2014[\t'Participant_Goal($)']=\tdonationsbike2014[\t'Participant_Goal($)'\t].astype('float')\n",
        "donationsbike2014[\t'Additional_Gift_Amount($)']=\tdonationsbike2014[\t'Additional_Gift_Amount($)'\t].astype('float')\n",
        "donationsbike2014[\t'Campaign_ID'\t]=donationsbike2014[\t'Campaign_ID'\t].astype('int')\n",
        "donationsbike2014[\t'Donor_Member_ID'\t]=donationsbike2014[\t'Donor_Member_ID'\t].astype('int')\n",
        "donationsbike2014[\t'Donor_ZIP'\t]=donationsbike2014[\t'Donor_ZIP'\t].astype('int')\n",
        "donationsbike2014[\t'Participant_Member_ID'\t]=donationsbike2014[\t'Participant_Member_ID'\t].astype('int')\n",
        "donationsbike2014[\t'Donor_ConsID'\t]=donationsbike2014[\t'Donor_ConsID'\t].astype('int')"
      ],
      "execution_count": 0,
      "outputs": []
    },
    {
      "metadata": {
        "id": "mSmQjecw5aQz",
        "colab_type": "code",
        "colab": {}
      },
      "cell_type": "code",
      "source": [
        "donationsbike2014[\t'Event_Date'\t]=pd.to_datetime(donationsbike2014[\t'Event_Date'\t],format=\"%m/%d/%Y %H:%M\")\n",
        "donationsbike2014[\t'Date_Recorded'\t]=pd.to_datetime(donationsbike2014[\t'Date_Recorded'\t],format=\"%m/%d/%Y %H:%M\")\n",
        "donationsbike2014[\t'Donor_Opt-out_Date'\t]=pd.to_datetime(donationsbike2014[\t'Donor_Opt-out_Date'\t],format=\"%m/%d/%Y %H:%M\")\n",
        "donationsbike2014[\t'Registration_Date'\t]=pd.to_datetime(donationsbike2014[\t'Registration_Date'\t],format=\"%m/%d/%Y %H:%M\")\n",
        "donationsbike2014[\t'Team_Creation_Date'\t]=pd.to_datetime(donationsbike2014[\t'Team_Creation_Date'\t],format=\"%m/%d/%Y %H:%M\")\n"
      ],
      "execution_count": 0,
      "outputs": []
    },
    {
      "metadata": {
        "id": "HkHH5aw2H-7b",
        "colab_type": "code",
        "colab": {}
      },
      "cell_type": "code",
      "source": [
        "from google.colab import files\n",
        "donationsbike2014.to_csv('donationsbike2014_clean.csv')"
      ],
      "execution_count": 0,
      "outputs": []
    },
    {
      "metadata": {
        "id": "_hzFp8cnH-yE",
        "colab_type": "code",
        "colab": {
          "base_uri": "https://localhost:8080/",
          "height": 34
        },
        "outputId": "b315fa0b-482b-4e4a-b0a8-9e4a32153876"
      },
      "cell_type": "code",
      "source": [
        "# Create & upload a file.\n",
        "uploaded = drive.CreateFile({'title': 'donationsbike2014_clean.csv'})\n",
        "uploaded.SetContentFile('donationsbike2014_clean.csv')\n",
        "uploaded.Upload()\n",
        "print('Uploaded file with ID {}'.format(uploaded.get('id')))"
      ],
      "execution_count": 0,
      "outputs": [
        {
          "output_type": "stream",
          "text": [
            "Uploaded file with ID 1captSN7r1QRM4qDdIX4l_Kf-qQbO09r3\n"
          ],
          "name": "stdout"
        }
      ]
    },
    {
      "metadata": {
        "id": "NfYg04M13hXi",
        "colab_type": "text"
      },
      "cell_type": "markdown",
      "source": [
        "      ------------------------------------- 2014 finished ------------------------------------------"
      ]
    },
    {
      "metadata": {
        "id": "gCdxVX2YAl-o",
        "colab_type": "code",
        "colab": {}
      },
      "cell_type": "code",
      "source": [
        "donationsbike2013=donationsbike2013.dropna(subset = ['Event_Date'])\n",
        "donationsbike2013=donationsbike2013.fillna({'Gift_Payment_Method':'Credit Card','Offline_Status':'Not_Applicable','Donor_Member_ID':0,'Donor_ZIP':999999,'Participant_Contact_ID':0,'Donor_Connection_to_MS':'Other','Participant_Member_ID':0,'Fiscal_Year':0,'Donor_ConsID'\t:0,'Donor_Opt-out_Date':'01/01/2000 00:00','Registration_Date':'01/01/2000 00:00','Team_Creation_Date':'01/01/2000 00:00'})\n",
        "donationsbike2013=donationsbike2013.fillna('Unknown')"
      ],
      "execution_count": 0,
      "outputs": []
    },
    {
      "metadata": {
        "id": "RbTCEJPvDctu",
        "colab_type": "text"
      },
      "cell_type": "markdown",
      "source": [
        "Date_Recorded    0/29/2013 21:42\n",
        "Name: 292537, dtype: object\n",
        "Since this is an invalid format and we cannot predict the actual date we will drop this"
      ]
    },
    {
      "metadata": {
        "id": "qmS2knDnDIja",
        "colab_type": "code",
        "colab": {}
      },
      "cell_type": "code",
      "source": [
        "donationsbike2013.drop( 292537 ,inplace=True)"
      ],
      "execution_count": 0,
      "outputs": []
    },
    {
      "metadata": {
        "id": "RwwDuw8yIZi3",
        "colab_type": "code",
        "colab": {}
      },
      "cell_type": "code",
      "source": [
        "dindex=donationsbike2013.index"
      ],
      "execution_count": 0,
      "outputs": []
    },
    {
      "metadata": {
        "id": "55cQfugfKPk-",
        "colab_type": "code",
        "colab": {
          "base_uri": "https://localhost:8080/",
          "height": 590
        },
        "outputId": "60096836-e198-4ffa-c33d-25e3c821c1df"
      },
      "cell_type": "code",
      "source": [
        "filterbool=donationsbike2013['Team_Creation_Date'].apply(lambda x: len(x)<3)\n",
        "donationsbike2013[filterbool]"
      ],
      "execution_count": 15,
      "outputs": [
        {
          "output_type": "execute_result",
          "data": {
            "text/html": [
              "<div>\n",
              "<style scoped>\n",
              "    .dataframe tbody tr th:only-of-type {\n",
              "        vertical-align: middle;\n",
              "    }\n",
              "\n",
              "    .dataframe tbody tr th {\n",
              "        vertical-align: top;\n",
              "    }\n",
              "\n",
              "    .dataframe thead th {\n",
              "        text-align: right;\n",
              "    }\n",
              "</style>\n",
              "<table border=\"1\" class=\"dataframe\">\n",
              "  <thead>\n",
              "    <tr style=\"text-align: right;\">\n",
              "      <th></th>\n",
              "      <th>Security_Category_Name</th>\n",
              "      <th>Event_ID</th>\n",
              "      <th>Public_Event_Name</th>\n",
              "      <th>Fiscal_Year</th>\n",
              "      <th>Event_Date</th>\n",
              "      <th>Campaign_Title</th>\n",
              "      <th>Campaign_ID</th>\n",
              "      <th>Gift_Amount($)</th>\n",
              "      <th>Date_Recorded</th>\n",
              "      <th>Gift_Type</th>\n",
              "      <th>...</th>\n",
              "      <th>Team_Creation_Date</th>\n",
              "      <th>Original_Value_Transacted</th>\n",
              "      <th>Net_Transaction_Amount</th>\n",
              "      <th>Ledger_Transaction_Amount</th>\n",
              "      <th>Proxy_Type</th>\n",
              "      <th>User_Confirmation_Code</th>\n",
              "      <th>Source_Code_Type</th>\n",
              "      <th>Source_Code_Text</th>\n",
              "      <th>Sub_Source_Code_Text</th>\n",
              "      <th>Batch_ID</th>\n",
              "    </tr>\n",
              "  </thead>\n",
              "  <tbody>\n",
              "    <tr>\n",
              "      <th>175502</th>\n",
              "      <td>ILD Bike Events</td>\n",
              "      <td>20718</td>\n",
              "      <td>ILD Bike MS: Tour de Farms 2013</td>\n",
              "      <td>2013</td>\n",
              "      <td>6/22/2013 11:50</td>\n",
              "      <td>ILD Bike MS 2013 Donation Campaign</td>\n",
              "      <td>36072</td>\n",
              "      <td>50.0</td>\n",
              "      <td>7/19/2013 14:29</td>\n",
              "      <td>offline</td>\n",
              "      <td>...</td>\n",
              "      <td>50</td>\n",
              "      <td>50.0</td>\n",
              "      <td>50</td>\n",
              "      <td>TeamRaiser Team</td>\n",
              "      <td>1638-36072-1-12281433-12721904</td>\n",
              "      <td>Unknown</td>\n",
              "      <td>Unknown</td>\n",
              "      <td>Unknown</td>\n",
              "      <td>ILD042913MB</td>\n",
              "      <td>Unknown</td>\n",
              "    </tr>\n",
              "    <tr>\n",
              "      <th>209938</th>\n",
              "      <td>KSG Bike Events</td>\n",
              "      <td>20078</td>\n",
              "      <td>Bike MS 2013 Ozarks Ride</td>\n",
              "      <td>2013</td>\n",
              "      <td>9/7/2013 11:56</td>\n",
              "      <td>KSG Bike Donation Campaign 2013</td>\n",
              "      <td>35132</td>\n",
              "      <td>50.0</td>\n",
              "      <td>9/5/2013 13:28(offline</td>\n",
              "      <td>Check</td>\n",
              "      <td>...</td>\n",
              "      <td>50</td>\n",
              "      <td>50.0</td>\n",
              "      <td>50</td>\n",
              "      <td>TeamRaiser Participant</td>\n",
              "      <td>1638-35132-1-12497403-12952191</td>\n",
              "      <td>6</td>\n",
              "      <td>intranet.nmss.org</td>\n",
              "      <td>/Pages/Home.aspx</td>\n",
              "      <td>KSG090513KL2</td>\n",
              "      <td>Unknown</td>\n",
              "    </tr>\n",
              "    <tr>\n",
              "      <th>321402</th>\n",
              "      <td>MNM Bike Events</td>\n",
              "      <td>19263</td>\n",
              "      <td>Minnesota - Bike MS: C.H. Robinson MS 150 Ride...</td>\n",
              "      <td>2013</td>\n",
              "      <td>6/7/2013 14:09</td>\n",
              "      <td>MNM 2013 Bike MS: MS 150 Ride</td>\n",
              "      <td>34312</td>\n",
              "      <td>20.0</td>\n",
              "      <td>1/24/2013 20:50</td>\n",
              "      <td>online</td>\n",
              "      <td>...</td>\n",
              "      <td>65</td>\n",
              "      <td>65.0</td>\n",
              "      <td>65</td>\n",
              "      <td>TeamRaiser Participant</td>\n",
              "      <td>1638-34312-20-11084041-11446454</td>\n",
              "      <td>Unknown</td>\n",
              "      <td>Unknown</td>\n",
              "      <td>Unknown</td>\n",
              "      <td>Unknown</td>\n",
              "      <td>Unknown</td>\n",
              "    </tr>\n",
              "    <tr>\n",
              "      <th>485629</th>\n",
              "      <td>OHA Bike Events</td>\n",
              "      <td>20976</td>\n",
              "      <td>Ohio - Bike MS: Pedal to the Point Ride 2013</td>\n",
              "      <td>2013</td>\n",
              "      <td>8/3/2013 15:27</td>\n",
              "      <td>OHA Bike Donation Campaign</td>\n",
              "      <td>35566</td>\n",
              "      <td>71.0</td>\n",
              "      <td>8/28/2013 15:07</td>\n",
              "      <td>offline</td>\n",
              "      <td>...</td>\n",
              "      <td>71</td>\n",
              "      <td>71.0</td>\n",
              "      <td>71</td>\n",
              "      <td>TeamRaiser Participant</td>\n",
              "      <td>1638-35566-1-12454353-12906856</td>\n",
              "      <td>Unknown</td>\n",
              "      <td>Unknown</td>\n",
              "      <td>Unknown</td>\n",
              "      <td>OHA082813-3617ER</td>\n",
              "      <td>Unknown</td>\n",
              "    </tr>\n",
              "    <tr>\n",
              "      <th>622886</th>\n",
              "      <td>TNS Bike Events</td>\n",
              "      <td>18277</td>\n",
              "      <td>Tennessee, Franklin 2012 Bike to Jack and Back</td>\n",
              "      <td>2013</td>\n",
              "      <td>10/6/2012 14:14</td>\n",
              "      <td>TNS Bike to Jack and Back 2012</td>\n",
              "      <td>32787</td>\n",
              "      <td>50.0</td>\n",
              "      <td>2/14/2012 16:52</td>\n",
              "      <td>online</td>\n",
              "      <td>...</td>\n",
              "      <td>64</td>\n",
              "      <td>64.0</td>\n",
              "      <td>64</td>\n",
              "      <td>TeamRaiser Participant</td>\n",
              "      <td>1638-32787-20-9191167-9459366</td>\n",
              "      <td>Unknown</td>\n",
              "      <td>Unknown</td>\n",
              "      <td>Unknown</td>\n",
              "      <td>Unknown</td>\n",
              "      <td>Unknown</td>\n",
              "    </tr>\n",
              "    <tr>\n",
              "      <th>801593</th>\n",
              "      <td>TXH Bike Events</td>\n",
              "      <td>18129</td>\n",
              "      <td>Bike MS: Valero 2012 Alamo Ride to the River p...</td>\n",
              "      <td>2013</td>\n",
              "      <td>10/13/2012 14:53</td>\n",
              "      <td>Texas, San Antonio - Bike MS: Valero 2012 Alam...</td>\n",
              "      <td>32633</td>\n",
              "      <td>25.0</td>\n",
              "      <td>10/17/2012 0:00</td>\n",
              "      <td>offline</td>\n",
              "      <td>...</td>\n",
              "      <td>25</td>\n",
              "      <td>25.0</td>\n",
              "      <td>25</td>\n",
              "      <td>TeamRaiser Participant</td>\n",
              "      <td>1638-32633-1-10962921-11314738</td>\n",
              "      <td>Unknown</td>\n",
              "      <td>Unknown</td>\n",
              "      <td>Unknown</td>\n",
              "      <td>TXH20121017-40546900-RR</td>\n",
              "      <td>Unknown</td>\n",
              "    </tr>\n",
              "  </tbody>\n",
              "</table>\n",
              "<p>6 rows × 49 columns</p>\n",
              "</div>"
            ],
            "text/plain": [
              "       Security_Category_Name  Event_ID  \\\n",
              "175502        ILD Bike Events     20718   \n",
              "209938        KSG Bike Events     20078   \n",
              "321402        MNM Bike Events     19263   \n",
              "485629        OHA Bike Events     20976   \n",
              "622886        TNS Bike Events     18277   \n",
              "801593        TXH Bike Events     18129   \n",
              "\n",
              "                                        Public_Event_Name  Fiscal_Year  \\\n",
              "175502                    ILD Bike MS: Tour de Farms 2013         2013   \n",
              "209938                           Bike MS 2013 Ozarks Ride         2013   \n",
              "321402  Minnesota - Bike MS: C.H. Robinson MS 150 Ride...         2013   \n",
              "485629       Ohio - Bike MS: Pedal to the Point Ride 2013         2013   \n",
              "622886     Tennessee, Franklin 2012 Bike to Jack and Back         2013   \n",
              "801593  Bike MS: Valero 2012 Alamo Ride to the River p...         2013   \n",
              "\n",
              "              Event_Date                                     Campaign_Title  \\\n",
              "175502   6/22/2013 11:50                 ILD Bike MS 2013 Donation Campaign   \n",
              "209938    9/7/2013 11:56                    KSG Bike Donation Campaign 2013   \n",
              "321402    6/7/2013 14:09                      MNM 2013 Bike MS: MS 150 Ride   \n",
              "485629    8/3/2013 15:27                         OHA Bike Donation Campaign   \n",
              "622886   10/6/2012 14:14                     TNS Bike to Jack and Back 2012   \n",
              "801593  10/13/2012 14:53  Texas, San Antonio - Bike MS: Valero 2012 Alam...   \n",
              "\n",
              "        Campaign_ID  Gift_Amount($)           Date_Recorded Gift_Type  \\\n",
              "175502        36072            50.0         7/19/2013 14:29   offline   \n",
              "209938        35132            50.0  9/5/2013 13:28(offline     Check   \n",
              "321402        34312            20.0         1/24/2013 20:50    online   \n",
              "485629        35566            71.0         8/28/2013 15:07   offline   \n",
              "622886        32787            50.0         2/14/2012 16:52    online   \n",
              "801593        32633            25.0         10/17/2012 0:00   offline   \n",
              "\n",
              "         ...    Team_Creation_Date Original_Value_Transacted  \\\n",
              "175502   ...                    50                      50.0   \n",
              "209938   ...                    50                      50.0   \n",
              "321402   ...                    65                      65.0   \n",
              "485629   ...                    71                      71.0   \n",
              "622886   ...                    64                      64.0   \n",
              "801593   ...                    25                      25.0   \n",
              "\n",
              "       Net_Transaction_Amount Ledger_Transaction_Amount  \\\n",
              "175502                     50           TeamRaiser Team   \n",
              "209938                     50    TeamRaiser Participant   \n",
              "321402                     65    TeamRaiser Participant   \n",
              "485629                     71    TeamRaiser Participant   \n",
              "622886                     64    TeamRaiser Participant   \n",
              "801593                     25    TeamRaiser Participant   \n",
              "\n",
              "                             Proxy_Type User_Confirmation_Code  \\\n",
              "175502   1638-36072-1-12281433-12721904                Unknown   \n",
              "209938   1638-35132-1-12497403-12952191                      6   \n",
              "321402  1638-34312-20-11084041-11446454                Unknown   \n",
              "485629   1638-35566-1-12454353-12906856                Unknown   \n",
              "622886    1638-32787-20-9191167-9459366                Unknown   \n",
              "801593   1638-32633-1-10962921-11314738                Unknown   \n",
              "\n",
              "         Source_Code_Type  Source_Code_Text     Sub_Source_Code_Text Batch_ID  \n",
              "175502            Unknown           Unknown              ILD042913MB  Unknown  \n",
              "209938  intranet.nmss.org  /Pages/Home.aspx             KSG090513KL2  Unknown  \n",
              "321402            Unknown           Unknown                  Unknown  Unknown  \n",
              "485629            Unknown           Unknown         OHA082813-3617ER  Unknown  \n",
              "622886            Unknown           Unknown                  Unknown  Unknown  \n",
              "801593            Unknown           Unknown  TXH20121017-40546900-RR  Unknown  \n",
              "\n",
              "[6 rows x 49 columns]"
            ]
          },
          "metadata": {
            "tags": []
          },
          "execution_count": 15
        }
      ]
    },
    {
      "metadata": {
        "id": "Fh1zWrEGXA1X",
        "colab_type": "text"
      },
      "cell_type": "markdown",
      "source": [
        "Since these dates are not valid and we cannot impute it , we will drop these rows"
      ]
    },
    {
      "metadata": {
        "id": "15gU1xmMXAd5",
        "colab_type": "code",
        "colab": {}
      },
      "cell_type": "code",
      "source": [
        "donationsbike2013.drop(donationsbike2013[filterbool].index,inplace=True)"
      ],
      "execution_count": 0,
      "outputs": []
    },
    {
      "metadata": {
        "id": "H2bT94zkAoNm",
        "colab_type": "code",
        "colab": {}
      },
      "cell_type": "code",
      "source": [
        "donationsbike2013[\t'Security_Category_Name'\t]=donationsbike2013[\t'Security_Category_Name'\t].astype('category')\n",
        "donationsbike2013[\t'Public_Event_Name'\t]=donationsbike2013[\t'Public_Event_Name'\t].astype('category')\n",
        "donationsbike2013[\t'Campaign_Title'\t]=donationsbike2013[\t'Campaign_Title'\t].astype('category')\n",
        "donationsbike2013[\t'Gift_Type'\t]=donationsbike2013[\t'Gift_Type'\t].astype('category')\n",
        "donationsbike2013[\t'Offline_Status'\t]=donationsbike2013[\t'Offline_Status'\t].astype('category')\n",
        "donationsbike2013[\t'Is_Registration?'\t]=donationsbike2013[\t'Is_Registration?'\t].astype('category')\n",
        "donationsbike2013[\t'Donor_Affiliate_Code'\t]=donationsbike2013[\t'Donor_Affiliate_Code'\t].astype('category')\n",
        "donationsbike2013[\t'Donor_Gender'\t]=donationsbike2013[\t'Donor_Gender'\t].astype('category')\n",
        "donationsbike2013[\t'Donor_Accept_Email'\t]=donationsbike2013[\t'Donor_Accept_Email'\t].astype('category')\n",
        "donationsbike2013[\t'Donor_Opt-out_Method'\t]=donationsbike2013[\t'Donor_Opt-out_Method'\t].astype('category')\n",
        "donationsbike2013[\t'Donor_Email_Status'\t]=donationsbike2013[\t'Donor_Email_Status'\t].astype('category')\n",
        "donationsbike2013[\t'Donor_City'\t]=donationsbike2013[\t'Donor_City'\t].astype('category')\n",
        "donationsbike2013[\t'Donor_State'\t]=donationsbike2013[\t'Donor_State'\t].astype('category')\n",
        "donationsbike2013[\t'Donor_County'\t]=donationsbike2013[\t'Donor_County'\t].astype('category')\n",
        "donationsbike2013[\t'Donor_Employer'\t]=donationsbike2013[\t'Donor_Employer'\t].astype('category')\n",
        "donationsbike2013[\t'Donor_Connection_to_MS'\t]=donationsbike2013[\t'Donor_Connection_to_MS'\t].astype('category')\n",
        "donationsbike2013[\t'Participation_Type_Name'\t]=donationsbike2013[\t'Participation_Type_Name'\t].astype('category')\n",
        "donationsbike2013[\t'Registration_Active_Status'\t]=donationsbike2013[\t'Registration_Active_Status'\t].astype('category')\n",
        "donationsbike2013[\t'Is_Prior_Participant'\t]=donationsbike2013[\t'Is_Prior_Participant'\t].astype('category')\n",
        "donationsbike2013[\t'Is_Team_Captain'\t]=donationsbike2013[\t'Is_Team_Captain'\t].astype('category')\n",
        "donationsbike2013[\t'Team_Name'\t]=donationsbike2013[\t'Team_Name'\t].astype('category')\n",
        "donationsbike2013[\t'Team'\t]=donationsbike2013[\t'Team'\t].astype('category')\n",
        "donationsbike2013[\t'Proxy_Type'\t]=donationsbike2013[\t'Proxy_Type'\t].astype('category')\n",
        "donationsbike2013[\t'User_Confirmation_Code'\t]=donationsbike2013[\t'User_Confirmation_Code'\t].astype('category')\n",
        "donationsbike2013[\t'Source_Code_Text'\t]=donationsbike2013[\t'Source_Code_Text'\t].astype('category')\n",
        "donationsbike2013[\t'Sub_Source_Code_Text'\t]=donationsbike2013[\t'Sub_Source_Code_Text'\t].astype('category')\n",
        "donationsbike2013[\t'Source_Code_Type'\t]=donationsbike2013[\t'Source_Code_Type'\t].astype('category')\n",
        "donationsbike2013[\t'Batch_ID'\t]=donationsbike2013[\t'Batch_ID'\t].astype('category')"
      ],
      "execution_count": 0,
      "outputs": []
    },
    {
      "metadata": {
        "id": "BXMSLR5DAzqn",
        "colab_type": "code",
        "colab": {}
      },
      "cell_type": "code",
      "source": [
        "donationsbike2013[\t'Participant_Contact_ID'\t]=donationsbike2013[\t'Participant_Contact_ID'\t].astype('int')\n",
        "\n",
        "donationsbike2013['Additional_Gift_Amount($)']=pd.to_numeric(donationsbike2013['Additional_Gift_Amount($)'], errors='coerce')\n",
        "donationsbike2013=donationsbike2013.dropna(subset = ['Additional_Gift_Amount($)'])\n",
        "\n",
        "donationsbike2013[\t'Event_ID'\t]=pd.to_numeric(donationsbike2013[\t'Event_ID'\t], errors='coerce')\n",
        "donationsbike2013=donationsbike2013.dropna(subset = [\t'Event_ID'\t])\n",
        "\n",
        "donationsbike2013[\t'Donor_Member_ID'\t]=pd.to_numeric(donationsbike2013[\t'Donor_Member_ID'\t], errors='coerce')\n",
        "donationsbike2013=donationsbike2013.dropna(subset = [\t'Donor_Member_ID'\t])\n",
        "\n",
        "donationsbike2013[\t    'Campaign_ID'\t]=pd.to_numeric(donationsbike2013[\t    'Campaign_ID'\t], errors='coerce')\n",
        "donationsbike2013=donationsbike2013.dropna(subset = [\t    'Campaign_ID'\t])\n",
        "\n",
        "donationsbike2013[\t'Donor_ConsID'\t]=pd.to_numeric(donationsbike2013[\t'Donor_ConsID'\t], errors='coerce')\n",
        "donationsbike2013=donationsbike2013.dropna(subset = [\t'Donor_ConsID'\t])\n",
        "\n",
        "donationsbike2013[\t'Donor_ZIP'\t]=pd.to_numeric(donationsbike2013[\t'Donor_ZIP'\t], errors='coerce')\n",
        "donationsbike2013=donationsbike2013.dropna(subset = [\t'Donor_ZIP'\t])\n",
        "\n",
        "donationsbike2013[\t'Participant_Member_ID'\t]=pd.to_numeric(donationsbike2013[\t'Participant_Member_ID'\t], errors='coerce')\n",
        "donationsbike2013=donationsbike2013.dropna(subset = [\t'Participant_Member_ID'\t])\n",
        "\n",
        "donationsbike2013[\t'Gift_Amount($)'\t]=donationsbike2013[\t'Gift_Amount($)'\t].astype('float')\n",
        "donationsbike2013[\t'Participant_Goal($)']=\tdonationsbike2013[\t'Participant_Goal($)'\t].astype('float')\n",
        "donationsbike2013[\t'Additional_Gift_Amount($)']=\tdonationsbike2013[\t'Additional_Gift_Amount($)'\t].astype('float')\n",
        "donationsbike2013[\t'Campaign_ID'\t]=donationsbike2013[\t'Campaign_ID'\t].astype('int')\n",
        "donationsbike2013[\t'Donor_Member_ID'\t]=donationsbike2013[\t'Donor_Member_ID'\t].astype('int')\n",
        "donationsbike2013[\t'Donor_ZIP'\t]=donationsbike2013[\t'Donor_ZIP'\t].astype('int')\n",
        "donationsbike2013[\t'Participant_Member_ID'\t]=donationsbike2013[\t'Participant_Member_ID'\t].astype('int')\n",
        "donationsbike2013[\t'Donor_ConsID'\t]=donationsbike2013[\t'Donor_ConsID'\t].astype('int')\n"
      ],
      "execution_count": 0,
      "outputs": []
    },
    {
      "metadata": {
        "id": "jHhMRvlGBEil",
        "colab_type": "code",
        "colab": {}
      },
      "cell_type": "code",
      "source": [
        "donationsbike2013[\t'Event_Date'\t]=pd.to_datetime(donationsbike2013[\t'Event_Date'\t],format=\"%m/%d/%Y %H:%M\")\n",
        "donationsbike2013[\t'Date_Recorded'\t]=pd.to_datetime(donationsbike2013[\t'Date_Recorded'\t],format=\"%m/%d/%Y %H:%M\")\n",
        "donationsbike2013[\t'Donor_Opt-out_Date'\t]=pd.to_datetime(donationsbike2013[\t'Donor_Opt-out_Date'\t],format=\"%m/%d/%Y %H:%M\")\n",
        "donationsbike2013[\t'Registration_Date'\t]=pd.to_datetime(donationsbike2013[\t'Registration_Date'\t],format=\"%m/%d/%Y %H:%M\")\n",
        "donationsbike2013[\t'Team_Creation_Date'\t]=pd.to_datetime(donationsbike2013[\t'Team_Creation_Date'\t],format=\"%m/%d/%Y %H:%M\")"
      ],
      "execution_count": 0,
      "outputs": []
    },
    {
      "metadata": {
        "id": "vswW_L-TDtTH",
        "colab_type": "code",
        "colab": {}
      },
      "cell_type": "code",
      "source": [
        "donationsbike2013.dtypes"
      ],
      "execution_count": 0,
      "outputs": []
    },
    {
      "metadata": {
        "id": "LZOS6255XmRT",
        "colab_type": "code",
        "colab": {}
      },
      "cell_type": "code",
      "source": [
        "from google.colab import files\n",
        "donationsbike2013.to_csv('donationsbike2013_clean.csv')"
      ],
      "execution_count": 0,
      "outputs": []
    },
    {
      "metadata": {
        "id": "Xe_BazE1XvlP",
        "colab_type": "code",
        "colab": {
          "base_uri": "https://localhost:8080/",
          "height": 34
        },
        "outputId": "af8a12b0-31fa-4869-e488-00218ee529cd"
      },
      "cell_type": "code",
      "source": [
        "#create & upload a file.\n",
        "uploaded = drive.CreateFile({'title': 'donationsbike2013_clean.csv'})\n",
        "uploaded.SetContentFile('donationsbike2013_clean.csv')\n",
        "uploaded.Upload()\n",
        "print('Uploaded file with ID {}'.format(uploaded.get('id')))"
      ],
      "execution_count": 24,
      "outputs": [
        {
          "output_type": "stream",
          "text": [
            "Uploaded file with ID 1YD_0Ujg8b2zFozA-O4FfMiBreJT1c2Wu\n"
          ],
          "name": "stdout"
        }
      ]
    },
    {
      "metadata": {
        "id": "T_7gxF7LiR9i",
        "colab_type": "text"
      },
      "cell_type": "markdown",
      "source": [
        "#**Predicting Number of teams **"
      ]
    },
    {
      "metadata": {
        "id": "ozdgDohan30a",
        "colab_type": "code",
        "colab": {}
      },
      "cell_type": "code",
      "source": [
        "teamcount=ntactivity.loc[:,['Number_of_Team_Members']]\n",
        "teamcount"
      ],
      "execution_count": 0,
      "outputs": []
    },
    {
      "metadata": {
        "id": "IKfjaPVloRGg",
        "colab_type": "code",
        "colab": {}
      },
      "cell_type": "code",
      "source": [
        "ntactivity=ntactivity.drop('Number_of_Team_Members',axis=1)\n",
        "ntactivity=ntactivity.fillna('Unknown')\n"
      ],
      "execution_count": 0,
      "outputs": []
    },
    {
      "metadata": {
        "id": "gs20Kvsjp3yZ",
        "colab_type": "code",
        "colab": {}
      },
      "cell_type": "code",
      "source": [
        "ntactivity.isnull().any()"
      ],
      "execution_count": 0,
      "outputs": []
    },
    {
      "metadata": {
        "id": "WKQGTMkXqP6p",
        "colab_type": "code",
        "colab": {}
      },
      "cell_type": "code",
      "source": [
        "ntactivity = pd.concat([ntactivity.reset_index(drop=True), teamcount], axis=1)\n",
        "ntactivity.head().T"
      ],
      "execution_count": 0,
      "outputs": []
    },
    {
      "metadata": {
        "id": "NTtaGIKpqYB4",
        "colab_type": "code",
        "colab": {}
      },
      "cell_type": "code",
      "source": [
        "ntactivity.isnull().any()"
      ],
      "execution_count": 0,
      "outputs": []
    },
    {
      "metadata": {
        "id": "gfNAFvjspYR-",
        "colab_type": "code",
        "colab": {}
      },
      "cell_type": "code",
      "source": [
        "missing_team=ntactivity.Number_of_Team_Members.isnull()\n",
        "ntactivity_missingteam=ntactivity[missing_team].copy()\n",
        "ntactivity_missingteam #this will become our test data"
      ],
      "execution_count": 0,
      "outputs": []
    },
    {
      "metadata": {
        "id": "2bcxasbIXN8h",
        "colab_type": "code",
        "colab": {}
      },
      "cell_type": "code",
      "source": [
        "print(\"shape of missign team : \" + str(ntactivity_missingteam.shape) + \"shape of original data : \" + str(ntactivity.shape))"
      ],
      "execution_count": 0,
      "outputs": []
    },
    {
      "metadata": {
        "id": "qLPlujFGw-mA",
        "colab_type": "text"
      },
      "cell_type": "markdown",
      "source": [
        "inverse the bool hence we have to use bitwise operator"
      ]
    },
    {
      "metadata": {
        "id": "fqsBY-1EqlpM",
        "colab_type": "code",
        "colab": {}
      },
      "cell_type": "code",
      "source": [
        "having_team=~missing_team\n",
        "having_team"
      ],
      "execution_count": 0,
      "outputs": []
    },
    {
      "metadata": {
        "id": "KcnS8-iWxDH3",
        "colab_type": "code",
        "colab": {}
      },
      "cell_type": "code",
      "source": [
        "ntactivity_havingteam=ntactivity[having_team].copy()\n",
        "ntactivity_havingteam #this will become our test data"
      ],
      "execution_count": 0,
      "outputs": []
    },
    {
      "metadata": {
        "id": "ptFO2-LyxOmI",
        "colab_type": "code",
        "colab": {}
      },
      "cell_type": "code",
      "source": [
        "ntactivity_havingteam.isnull().values.any()"
      ],
      "execution_count": 0,
      "outputs": []
    },
    {
      "metadata": {
        "id": "C1-EmmtHXqkN",
        "colab_type": "code",
        "colab": {}
      },
      "cell_type": "code",
      "source": [
        "print(\"shape of missign team : \" + str(ntactivity_missingteam.shape) + \"shape of having data : \" + str(ntactivity_havingteam.shape))"
      ],
      "execution_count": 0,
      "outputs": []
    },
    {
      "metadata": {
        "id": "4hQOvDNPEzz-",
        "colab_type": "text"
      },
      "cell_type": "markdown",
      "source": [
        "keep having data, split into train_test_validate, find best model and then impute accordingle"
      ]
    },
    {
      "metadata": {
        "id": "hGdnMHdLZqBy",
        "colab_type": "code",
        "colab": {}
      },
      "cell_type": "code",
      "source": [
        "y=ntactivity_havingteam.Number_of_Team_Members\n",
        "predictors=['Event_Chapter', 'Event_Category', 'Event_Type','Location', 'Corporate_Name', 'Revenue_Raised', 'City', 'State/Province',   'Primary_Connection_To_MS']\n",
        "X=ntactivity_havingteam[predictors].copy()\n",
        "X.shape"
      ],
      "execution_count": 0,
      "outputs": []
    },
    {
      "metadata": {
        "id": "vy9swprFhWuo",
        "colab_type": "code",
        "colab": {}
      },
      "cell_type": "code",
      "source": [
        "X_enc=pd.get_dummies(X)\n",
        "X_enc.shape"
      ],
      "execution_count": 0,
      "outputs": []
    },
    {
      "metadata": {
        "id": "M0GI1pmagJqH",
        "colab_type": "code",
        "colab": {}
      },
      "cell_type": "code",
      "source": [
        "X_missing=ntactivity_missingteam[predictors].copy()\n",
        "X_missing_enc=pd.get_dummies(X_missing)\n",
        "X_missing_enc.isnull().values.any()"
      ],
      "execution_count": 0,
      "outputs": []
    },
    {
      "metadata": {
        "id": "JKl7rM6ti1fa",
        "colab_type": "text"
      },
      "cell_type": "markdown",
      "source": [
        "Since not all the one hot encoded values are present in training set, we will extract columns from test and filter the train data. Also, we have to replace the nan values with 0 since they are not present"
      ]
    },
    {
      "metadata": {
        "id": "xD1w1Abmg1Wg",
        "colab_type": "code",
        "colab": {}
      },
      "cell_type": "code",
      "source": [
        "col_test=X_missing_enc.columns\n",
        "X_enc=X_enc.loc[:,col_test]\n",
        "nullvalues=X_enc.isnull()\n",
        "X_enc=X_enc.fillna(0.0)\n",
        "X_enc.isnull().values.any()"
      ],
      "execution_count": 0,
      "outputs": []
    },
    {
      "metadata": {
        "id": "LY7dYevUtI3U",
        "colab_type": "text"
      },
      "cell_type": "markdown",
      "source": [
        "Since we have only 1 numeric column 'Revenue Raised' lets scale it"
      ]
    },
    {
      "metadata": {
        "id": "ucFphV_3aMnF",
        "colab_type": "code",
        "colab": {}
      },
      "cell_type": "code",
      "source": [
        "train_X, val_X, train_y, val_y = train_test_split(X_enc, y,random_state = 0)"
      ],
      "execution_count": 0,
      "outputs": []
    },
    {
      "metadata": {
        "id": "2yEfM8nAbYqe",
        "colab_type": "code",
        "colab": {}
      },
      "cell_type": "code",
      "source": [
        "my_pipeline_xgbr = make_pipeline(XGBRegressor(n_estimators=1000,learning_rate=0.2))\n",
        "scores_xgbr = cross_val_score(my_pipeline_xgbr, train_X, train_y, scoring='neg_mean_squared_error')\n",
        "my_pipeline_gbr = make_pipeline(GradientBoostingRegressor())\n",
        "scores_gbr = cross_val_score(my_pipeline_gbr, train_X, train_y, scoring='neg_mean_squared_error')\n"
      ],
      "execution_count": 0,
      "outputs": []
    },
    {
      "metadata": {
        "id": "2tAYV5cubjmV",
        "colab_type": "code",
        "colab": {}
      },
      "cell_type": "code",
      "source": [
        "print('New Mean Absolute Error %2f XGBR' %(-1 * scores_xgbr.mean()))\n",
        "print('New Mean Absolute Error %2f GBR' %(-1 * scores_gbr.mean()))"
      ],
      "execution_count": 0,
      "outputs": []
    },
    {
      "metadata": {
        "id": "UkVzja72fg3-",
        "colab_type": "code",
        "colab": {}
      },
      "cell_type": "code",
      "source": [
        "my_model=GradientBoostingRegressor().fit(train_X,train_y)\n",
        "val_predictions = my_model.predict(val_X)\n",
        "print(mean_absolute_error(val_y, val_predictions))"
      ],
      "execution_count": 0,
      "outputs": []
    },
    {
      "metadata": {
        "id": "pf_zBEUXjXbp",
        "colab_type": "code",
        "colab": {}
      },
      "cell_type": "code",
      "source": [
        "predicted_NOTM = my_model.predict(X_missing_enc)\n"
      ],
      "execution_count": 0,
      "outputs": []
    },
    {
      "metadata": {
        "id": "VbTOX3xvbJkn",
        "colab_type": "text"
      },
      "cell_type": "markdown",
      "source": [
        "##########################################################################################################################"
      ]
    },
    {
      "metadata": {
        "id": "ADG43aETpU7I",
        "colab_type": "code",
        "colab": {}
      },
      "cell_type": "code",
      "source": [
        "predicted_NOTM=predicted_NOTM.round().astype(int)\n",
        "predicted_NOTM.dtype"
      ],
      "execution_count": 0,
      "outputs": []
    },
    {
      "metadata": {
        "id": "JuGaWJawpYEL",
        "colab_type": "code",
        "colab": {}
      },
      "cell_type": "code",
      "source": [
        "X_missing_enc.shape"
      ],
      "execution_count": 0,
      "outputs": []
    },
    {
      "metadata": {
        "id": "5yH_zD1bpcL2",
        "colab_type": "code",
        "colab": {}
      },
      "cell_type": "code",
      "source": [
        "X_missing_enc['NOTM']=predicted_NOTM\n",
        "notm_values=X_missing_enc['NOTM'].index\n",
        "notm_values"
      ],
      "execution_count": 0,
      "outputs": []
    },
    {
      "metadata": {
        "id": "nzW7HQ0TppgX",
        "colab_type": "code",
        "colab": {}
      },
      "cell_type": "code",
      "source": [
        "ntactivity.iloc[notm_values,-1]=X_missing_enc['NOTM']\n",
        "ntactivity.iloc[:,-1]\n",
        "ntactivity.isnull().values.any()"
      ],
      "execution_count": 0,
      "outputs": []
    },
    {
      "metadata": {
        "id": "NWouvqd3QBow",
        "colab_type": "text"
      },
      "cell_type": "markdown",
      "source": [
        "# Analyzing Corporate Teams"
      ]
    },
    {
      "metadata": {
        "id": "mLWmW2adQSen",
        "colab_type": "code",
        "colab": {}
      },
      "cell_type": "code",
      "source": [
        "corporate_participants=participantbike[participantbike.Team_Division=='Corporate'].copy()"
      ],
      "execution_count": 0,
      "outputs": []
    },
    {
      "metadata": {
        "id": "6fdaHh66A0Ns",
        "colab_type": "code",
        "colab": {}
      },
      "cell_type": "code",
      "source": [
        "filter_corporate=participantbike.Team_Division.str.contains(\"Corporate|Corporation\")\n",
        "corporate_participants=participantbike[filter_corporate]\n",
        "corporate_participants.shape"
      ],
      "execution_count": 0,
      "outputs": []
    },
    {
      "metadata": {
        "id": "g6YoV6v9Iv68",
        "colab_type": "code",
        "colab": {}
      },
      "cell_type": "code",
      "source": [
        "corporate_participants_2016=corporate_participants[corporate_participants.Fiscal_Year==2016]\n",
        "corporate_participants_2015=corporate_participants[corporate_participants.Fiscal_Year==2015]\n",
        "corporate_participants_2014=corporate_participants[corporate_participants.Fiscal_Year==2014]\n",
        "corporate_participants_2013=corporate_participants[corporate_participants.Fiscal_Year==2013]"
      ],
      "execution_count": 0,
      "outputs": []
    },
    {
      "metadata": {
        "id": "Zk9RUyVtJZR5",
        "colab_type": "code",
        "colab": {}
      },
      "cell_type": "code",
      "source": [
        "print(str(corporate_participants_2016.shape) + \"\\t\" + str(corporate_participants_2015.shape) + \"\\t\" + str(corporate_participants_2014.shape) + \"\\t\" + str(corporate_participants_2013.shape))"
      ],
      "execution_count": 0,
      "outputs": []
    },
    {
      "metadata": {
        "id": "4vfdqEU5T18e",
        "colab_type": "text"
      },
      "cell_type": "markdown",
      "source": [
        "finding columns through which tables can be joined"
      ]
    },
    {
      "metadata": {
        "id": "zkFJGjaASjN4",
        "colab_type": "code",
        "colab": {}
      },
      "cell_type": "code",
      "source": [
        "donationsbike2016.columns\n"
      ],
      "execution_count": 0,
      "outputs": []
    },
    {
      "metadata": {
        "id": "l6aPWe1ZCMAd",
        "colab_type": "text"
      },
      "cell_type": "markdown",
      "source": [
        "['Event_ID',  'Fiscal_Year','Gift_Amount($)',  'Gift_Type', 'Gift_Payment_Method','Donor_Employer','Participant_Goal($)','Additional_Gift_Amount($)',  'Original_Value_Transacted', 'Net_Transaction_Amount']\n",
        "\n",
        "These columns are important from donation data"
      ]
    },
    {
      "metadata": {
        "id": "9TM4HKgH_tCy",
        "colab_type": "code",
        "colab": {}
      },
      "cell_type": "code",
      "source": [
        "corporate_participants.columns\n"
      ],
      "execution_count": 0,
      "outputs": []
    },
    {
      "metadata": {
        "id": "_srXyxXNC9Oz",
        "colab_type": "text"
      },
      "cell_type": "markdown",
      "source": [
        "['Event_ID','Fiscal_Year','Total_of_All_Confirmed_Gifts($)','Participant_Employer','Registration_Type', 'Participant_Goal($)','Suggested_Participant_Goal($)']\n",
        "\n",
        "These are important columns from participant data"
      ]
    },
    {
      "metadata": {
        "id": "slaE7fZDC9BN",
        "colab_type": "code",
        "colab": {}
      },
      "cell_type": "code",
      "source": [
        "#donationsbike2017_tomerge=donationsbike2017.loc[:,['Event_ID',  'Fiscal_Year','Gift_Amount($)',  'Gift_Type', 'Gift_Payment_Method','Donor_Employer','Participant_Goal($)','Additional_Gift_Amount($)',  'Original_Value_Transacted', 'Net_Transaction_Amount']]\n",
        "donationsbike2016_tomerge=donationsbike2016.loc[:,['Event_ID',  'Fiscal_Year','Gift_Amount($)',  'Gift_Type', 'Gift_Payment_Method','Donor_Employer','Participant_Goal($)','Additional_Gift_Amount($)',  'Original_Value_Transacted', 'Net_Transaction_Amount']]\n",
        "donationsbike2015_tomerge=donationsbike2015.loc[:,['Event_ID',  'Fiscal_Year','Gift_Amount($)',  'Gift_Type', 'Gift_Payment_Method','Donor_Employer','Participant_Goal($)','Additional_Gift_Amount($)',  'Original_Value_Transacted', 'Net_Transaction_Amount']]\n",
        "donationsbike2014_tomerge=donationsbike2014.loc[:,['Event_ID',  'Fiscal_Year','Gift_Amount($)',  'Gift_Type', 'Gift_Payment_Method','Donor_Employer','Participant_Goal($)','Additional_Gift_Amount($)',  'Original_Value_Transacted', 'Net_Transaction_Amount']]\n",
        "donationsbike2013_tomerge=donationsbike2013.loc[:,['Event_ID',  'Fiscal_Year','Gift_Amount($)',  'Gift_Type', 'Gift_Payment_Method','Donor_Employer','Participant_Goal($)','Additional_Gift_Amount($)',  'Original_Value_Transacted', 'Net_Transaction_Amount']]\n"
      ],
      "execution_count": 0,
      "outputs": []
    },
    {
      "metadata": {
        "id": "BCX2B5cqDv9V",
        "colab_type": "code",
        "colab": {}
      },
      "cell_type": "code",
      "source": [
        "corporate_participants_2016_tomerge=corporate_participants_2016.loc[:,['Event_ID','Fiscal_Year','Total_of_All_Confirmed_Gifts($)','Participant_Employer','Registration_Type', 'Participant_Goal($)','Suggested_Participant_Goal($)']]\n",
        "corporate_participants_2015_tomerge=corporate_participants_2015.loc[:,['Event_ID','Fiscal_Year','Total_of_All_Confirmed_Gifts($)','Participant_Employer','Registration_Type', 'Participant_Goal($)','Suggested_Participant_Goal($)']]\n",
        "corporate_participants_2014_tomerge=corporate_participants_2014.loc[:,['Event_ID','Fiscal_Year','Total_of_All_Confirmed_Gifts($)','Participant_Employer','Registration_Type', 'Participant_Goal($)','Suggested_Participant_Goal($)']]\n",
        "corporate_participants_2013_tomerge=corporate_participants_2013.loc[:,['Event_ID','Fiscal_Year','Total_of_All_Confirmed_Gifts($)','Participant_Employer','Registration_Type', 'Participant_Goal($)','Suggested_Participant_Goal($)']]\n"
      ],
      "execution_count": 0,
      "outputs": []
    },
    {
      "metadata": {
        "id": "Il24NiipFNfI",
        "colab_type": "code",
        "colab": {}
      },
      "cell_type": "code",
      "source": [
        "from google.colab import files\n",
        "\n",
        "corporate_participants_2016_tomerge.to_csv('corporate_participants_2016_tomerge.csv')\n",
        "corporate_participants_2015_tomerge.to_csv('corporate_participants_2015_tomerge.csv')\n",
        "corporate_participants_2014_tomerge.to_csv('corporate_participants_2014_tomerge.csv')\n",
        "corporate_participants_2013_tomerge.to_csv('corporate_participants_2013_tomerge.csv')\n",
        "\n",
        "donationsbike2016_tomerge.to_csv('donationsbike2016_tomerge.csv')\n",
        "donationsbike2015_tomerge.to_csv('donationsbike2015_tomerge.csv')\n",
        "donationsbike2014_tomerge.to_csv('donationsbike2014_tomerge.csv')\n",
        "donationsbike2013_tomerge.to_csv('donationsbike2013_tomerge.csv')\n",
        "\n"
      ],
      "execution_count": 0,
      "outputs": []
    },
    {
      "metadata": {
        "id": "srp8XwxWGLTb",
        "colab_type": "code",
        "colab": {}
      },
      "cell_type": "code",
      "source": [
        "files.download('corporate_participants_2016_tomerge.csv')"
      ],
      "execution_count": 0,
      "outputs": []
    },
    {
      "metadata": {
        "id": "ohJuLNURGYdI",
        "colab_type": "code",
        "colab": {}
      },
      "cell_type": "code",
      "source": [
        "files.download('corporate_participants_2015_tomerge.csv')"
      ],
      "execution_count": 0,
      "outputs": []
    },
    {
      "metadata": {
        "id": "NaJ1F3T0NiBR",
        "colab_type": "code",
        "colab": {}
      },
      "cell_type": "code",
      "source": [
        "files.download('corporate_participants_2014_tomerge.csv')"
      ],
      "execution_count": 0,
      "outputs": []
    },
    {
      "metadata": {
        "id": "sbQlpEsaNl6L",
        "colab_type": "code",
        "colab": {}
      },
      "cell_type": "code",
      "source": [
        "files.download('corporate_participants_2013_tomerge.csv')"
      ],
      "execution_count": 0,
      "outputs": []
    },
    {
      "metadata": {
        "id": "jPjJFj5GNnue",
        "colab_type": "code",
        "colab": {}
      },
      "cell_type": "code",
      "source": [
        "files.download('donationsbike2016_tomerge.csv')"
      ],
      "execution_count": 0,
      "outputs": []
    },
    {
      "metadata": {
        "id": "1UXpVPCzNwSP",
        "colab_type": "code",
        "colab": {}
      },
      "cell_type": "code",
      "source": [
        "files.download('donationsbike2015_tomerge.csv')"
      ],
      "execution_count": 0,
      "outputs": []
    },
    {
      "metadata": {
        "id": "4QvMMxBUNzZr",
        "colab_type": "code",
        "colab": {}
      },
      "cell_type": "code",
      "source": [
        "files.download('donationsbike2014_tomerge.csv')"
      ],
      "execution_count": 0,
      "outputs": []
    },
    {
      "metadata": {
        "id": "9FuoE3yaN1Aa",
        "colab_type": "code",
        "colab": {}
      },
      "cell_type": "code",
      "source": [
        "files.download('donationsbike2013_tomerge.csv')"
      ],
      "execution_count": 0,
      "outputs": []
    },
    {
      "metadata": {
        "id": "AdAgcNVadUGd",
        "colab_type": "text"
      },
      "cell_type": "markdown",
      "source": [
        "#**Best Events**"
      ]
    },
    {
      "metadata": {
        "id": "z46LEVkfdXkS",
        "colab_type": "code",
        "colab": {}
      },
      "cell_type": "code",
      "source": [
        "eventsbike.head(3).T"
      ],
      "execution_count": 0,
      "outputs": []
    },
    {
      "metadata": {
        "id": "9yZxYCZzdno4",
        "colab_type": "code",
        "colab": {}
      },
      "cell_type": "code",
      "source": [
        "df=eventsbike.loc[:,['Fiscal_Year','Event_ID','Event_Goal($)','Total_of_All_Confirmed_Gifts($)','Total_Online_Gifts($)','Total_Offline_Confirmed_Gifts($)','Total_From_Participant($)','Total_Not_From_Participant($)','Total_Team_Gifts($)','Total_Event_Gifts($)']]"
      ],
      "execution_count": 0,
      "outputs": []
    },
    {
      "metadata": {
        "id": "1PGGqjcbeZ8A",
        "colab_type": "code",
        "colab": {}
      },
      "cell_type": "code",
      "source": [
        "df=df.sort_values(['Fiscal_Year','Total_of_All_Confirmed_Gifts($)'],ascending=[1, 0])"
      ],
      "execution_count": 0,
      "outputs": []
    },
    {
      "metadata": {
        "id": "kHO7u5lig03n",
        "colab_type": "code",
        "colab": {}
      },
      "cell_type": "code",
      "source": [
        "events_2013=df[df.Fiscal_Year==2013]\n",
        "events_2014=df[df.Fiscal_Year==2014]\n",
        "events_2015=df[df.Fiscal_Year==2015]\n",
        "events_2016=df[df.Fiscal_Year==2016]\n",
        "events_2017=df[df.Fiscal_Year==2017]"
      ],
      "execution_count": 0,
      "outputs": []
    },
    {
      "metadata": {
        "id": "Bh-Bk83Tjl53",
        "colab_type": "code",
        "colab": {}
      },
      "cell_type": "code",
      "source": [
        "events_2013['Goal_Left']=events_2013.loc[:,'Event_Goal($)'] - events_2013.loc[:,'Total_of_All_Confirmed_Gifts($)']\n",
        "events_2014['Goal_Left']=events_2014.loc[:,'Event_Goal($)'] - events_2014.loc[:,'Total_of_All_Confirmed_Gifts($)']\n",
        "events_2015['Goal_Left']=events_2015.loc[:,'Event_Goal($)'] - events_2015.loc[:,'Total_of_All_Confirmed_Gifts($)']\n",
        "events_2016['Goal_Left']=events_2016.loc[:,'Event_Goal($)'] - events_2016.loc[:,'Total_of_All_Confirmed_Gifts($)']\n",
        "events_2017['Goal_Left']=events_2017.loc[:,'Event_Goal($)'] - events_2017.loc[:,'Total_of_All_Confirmed_Gifts($)']"
      ],
      "execution_count": 0,
      "outputs": []
    },
    {
      "metadata": {
        "id": "RgC3ZRSFE-Yw",
        "colab_type": "code",
        "colab": {}
      },
      "cell_type": "code",
      "source": [
        "events_2013['Goal_Achieved(%)']=100*(events_2013['Total_of_All_Confirmed_Gifts($)']/events_2013['Event_Goal($)'])\n",
        "events_2014['Goal_Achieved(%)']=100*(events_2013['Total_of_All_Confirmed_Gifts($)']/events_2014['Event_Goal($)'])\n",
        "events_2015['Goal_Achieved(%)']=100*(events_2013['Total_of_All_Confirmed_Gifts($)']/events_2015['Event_Goal($)'])\n",
        "events_2016['Goal_Achieved(%)']=100*(events_2013['Total_of_All_Confirmed_Gifts($)']/events_2016['Event_Goal($)'])\n",
        "events_2017['Goal_Achieved(%)']=100*(events_2013['Total_of_All_Confirmed_Gifts($)']/events_2017['Event_Goal($)'])\n"
      ],
      "execution_count": 0,
      "outputs": []
    },
    {
      "metadata": {
        "id": "1wSO4wxbh_kr",
        "colab_type": "text"
      },
      "cell_type": "markdown",
      "source": [
        "Since data is already sorted, lets extract top 5 events each year"
      ]
    },
    {
      "metadata": {
        "id": "tL0KRzpaE1ym",
        "colab_type": "text"
      },
      "cell_type": "markdown",
      "source": [
        "**2013: Top 5 events by \"confirmed gift\" **"
      ]
    },
    {
      "metadata": {
        "id": "keXGSTdqiDlz",
        "colab_type": "code",
        "colab": {}
      },
      "cell_type": "code",
      "source": [
        "events_2013.nlargest(5,'Total_of_All_Confirmed_Gifts($)') "
      ],
      "execution_count": 0,
      "outputs": []
    },
    {
      "metadata": {
        "id": "7Rtxpdl8HDMc",
        "colab_type": "text"
      },
      "cell_type": "markdown",
      "source": [
        "**2013: Top 15 events by \" % Goal Achieved\" **"
      ]
    },
    {
      "metadata": {
        "id": "ACe96tZOHHsM",
        "colab_type": "code",
        "colab": {}
      },
      "cell_type": "code",
      "source": [
        "events_2013.nlargest(15,'Goal_Achieved(%)') "
      ],
      "execution_count": 0,
      "outputs": []
    }
  ]
}